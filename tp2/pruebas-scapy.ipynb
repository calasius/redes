{
 "cells": [
  {
   "cell_type": "code",
   "execution_count": 109,
   "metadata": {
    "collapsed": false
   },
   "outputs": [],
   "source": [
    "# coding=utf-8\n",
    "import math\n",
    "from scapy.all import *\n",
    "import matplotlib.pyplot as plt\n",
    "import numpy as np\n",
    "import time\n",
    "\n",
    "\n",
    "def enviar_paquete(host, time_to_live):\n",
    "    packet = IP(dst=host, ttl=time_to_live) / ICMP()\n",
    "    res = sr(packet, timeout=2, verbose=0)\n",
    "    return res[0][ICMP]"
   ]
  },
  {
   "cell_type": "code",
   "execution_count": 113,
   "metadata": {
    "collapsed": false
   },
   "outputs": [],
   "source": [
    "def trace_route2(host):\n",
    "    hops = []\n",
    "    tipo = 11\n",
    "    ttl = 1\n",
    "    origen = 0\n",
    "    while (tipo!=0):\n",
    "        ti = time.time()\n",
    "        res1 = enviar_paquete(host, ttl)\n",
    "        tf = time.time()\n",
    "        rtt = tf-ti\n",
    "        print ti, tf, rtt\n",
    "        if (len(res1) > 0):\n",
    "            tipo = res1[0][1].type\n",
    "            src = res1[0][1].src\n",
    "            print \"hop = %d rtt = %d ICMP type = %d\" % (ttl,rtt, tipo)\n",
    "            if (tipo > 0):\n",
    "                hops.append(src)\n",
    "            else:\n",
    "                hops.append(host + ' at ' + src)\n",
    "        else:\n",
    "            print 'ttl = ', ttl, \" timeout\"\n",
    "        ttl = ttl + 1\n",
    "    return hops\n",
    "        #print \"src: \" +  + \" dst:\" + res1[0][1].dst + \" tipo: %d\" % res1[0][1].type"
   ]
  },
  {
   "cell_type": "code",
   "execution_count": 114,
   "metadata": {
    "collapsed": false,
    "scrolled": true
   },
   "outputs": [
    {
     "name": "stdout",
     "output_type": "stream",
     "text": [
      "1478247116.49 1478247118.68 2.19055294991\n",
      "ttl =  1  timeout\n",
      "1478247118.68 1478247120.75 2.07049489021\n",
      "ttl =  2  timeout\n",
      "1478247120.76 1478247122.83 2.07859611511\n",
      "ttl =  3  timeout\n",
      "1478247122.83 1478247124.91 2.07929301262\n",
      "ttl =  4  timeout\n",
      "1478247124.92 1478247126.97 2.05919504166\n",
      "ttl =  5  timeout\n",
      "1478247126.98 1478247127.07 0.0946800708771\n",
      "hop = 6 rtt = 0 ICMP type = 11\n",
      "1478247127.07 1478247127.15 0.083596944809\n",
      "hop = 7 rtt = 0 ICMP type = 11\n",
      "1478247127.15 1478247129.21 2.05975198746\n",
      "ttl =  8  timeout\n",
      "1478247129.22 1478247129.29 0.0749459266663\n",
      "hop = 9 rtt = 0 ICMP type = 0\n"
     ]
    },
    {
     "data": {
      "text/plain": [
       "['200.89.165.197', '200.89.160.14', 'www.google.com at 181.30.242.173']"
      ]
     },
     "execution_count": 114,
     "metadata": {},
     "output_type": "execute_result"
    }
   ],
   "source": [
    "trace_route2('www.google.com')"
   ]
  },
  {
   "cell_type": "code",
   "execution_count": 7,
   "metadata": {
    "collapsed": false
   },
   "outputs": [
    {
     "name": "stdout",
     "output_type": "stream",
     "text": [
      "Begin emission:\n",
      "Finished to send 1 packets.\n",
      "\n",
      "Received 126 packets, got 0 answers, remaining 1 packets\n"
     ]
    },
    {
     "data": {
      "text/plain": [
       "<ICMP from Results: TCP:0 UDP:0 ICMP:0 Other:0>"
      ]
     },
     "execution_count": 7,
     "metadata": {},
     "output_type": "execute_result"
    }
   ],
   "source": [
    "enviar_paquete(\"google.com\",1)"
   ]
  },
  {
   "cell_type": "code",
   "execution_count": 90,
   "metadata": {
    "collapsed": false
   },
   "outputs": [
    {
     "name": "stdout",
     "output_type": "stream",
     "text": [
      "Begin emission:\n",
      "Finished to send 1 packets.\n",
      "\n",
      "Received 44 packets, got 1 answers, remaining 0 packets\n"
     ]
    },
    {
     "data": {
      "text/plain": [
       "<IP  version=4L ihl=5L tos=0x3 len=28 id=62826 flags= frag=0L ttl=58 proto=icmp chksum=0x2197 src=181.30.242.177 dst=192.168.1.100 options=[] |<ICMP  type=echo-reply code=0 chksum=0xffff id=0x0 seq=0x0 |<Padding  load='\\x00\\x00\\x00\\x00\\x00\\x00\\x00\\x00\\x00\\x00\\x00\\x00\\x00\\x00\\x00\\x00\\x00\\x00' |>>>"
      ]
     },
     "execution_count": 90,
     "metadata": {},
     "output_type": "execute_result"
    }
   ],
   "source": [
    "host = 'www.google.com'\n",
    "time_to_live = 58\n",
    "packet = IP(dst=host, ttl=time_to_live) / ICMP()\n",
    "res = sr(packet)\n",
    "res[0][ICMP][0][1]"
   ]
  },
  {
   "cell_type": "code",
   "execution_count": 50,
   "metadata": {
    "collapsed": false
   },
   "outputs": [
    {
     "name": "stdout",
     "output_type": "stream",
     "text": [
      "Begin emission:\n",
      "Finished to send 1 packets.\n",
      "\n",
      "Received 44 packets, got 0 answers, remaining 1 packets\n"
     ]
    },
    {
     "data": {
      "text/plain": [
       "0"
      ]
     },
     "execution_count": 50,
     "metadata": {},
     "output_type": "execute_result"
    }
   ],
   "source": [
    "len(enviar_paquete('www.google.com',1))"
   ]
  },
  {
   "cell_type": "code",
   "execution_count": 82,
   "metadata": {
    "collapsed": false
   },
   "outputs": [
    {
     "name": "stdout",
     "output_type": "stream",
     "text": [
      "hop 1 rtt 2 \n"
     ]
    }
   ],
   "source": [
    "print \"hop %d rtt %d \" % (1,2)"
   ]
  },
  {
   "cell_type": "code",
   "execution_count": 133,
   "metadata": {
    "collapsed": false
   },
   "outputs": [
    {
     "data": {
      "text/plain": [
       "<DNS  id=0 qr=1L opcode=QUERY aa=0L tc=0L rd=1L ra=1L z=0L ad=0L cd=0L rcode=ok qdcount=1 ancount=1 nscount=0 arcount=0 qd=<DNSQR  qname='www.google.com.' qtype=A qclass=IN |> an=<DNSRR  rrname='www.google.com.' type=A rclass=IN ttl=199 rdata='172.217.28.4' |> ns=None ar=None |>"
      ]
     },
     "execution_count": 133,
     "metadata": {},
     "output_type": "execute_result"
    }
   ],
   "source": [
    "answer = sr1(IP(dst=\"8.8.8.8\")/UDP(dport=53)/DNS(rd=1, qd=DNSQR(qname=\"www.google.com\", qclass=\"IN\", qtype=\"A\")),verbose=0)\n",
    "answer[DNS]"
   ]
  },
  {
   "cell_type": "code",
   "execution_count": 116,
   "metadata": {
    "collapsed": true
   },
   "outputs": [],
   "source": [
    "DNS?"
   ]
  },
  {
   "cell_type": "code",
   "execution_count": null,
   "metadata": {
    "collapsed": true
   },
   "outputs": [],
   "source": []
  }
 ],
 "metadata": {
  "kernelspec": {
   "display_name": "Python 2",
   "language": "python",
   "name": "python2"
  },
  "language_info": {
   "codemirror_mode": {
    "name": "ipython",
    "version": 2
   },
   "file_extension": ".py",
   "mimetype": "text/x-python",
   "name": "python",
   "nbconvert_exporter": "python",
   "pygments_lexer": "ipython2",
   "version": "2.7.6"
  }
 },
 "nbformat": 4,
 "nbformat_minor": 1
}
