{
 "cells": [
  {
   "cell_type": "code",
   "execution_count": 1,
   "metadata": {
    "collapsed": false
   },
   "outputs": [],
   "source": [
    "# coding=utf-8\n",
    "import math\n",
    "import scapy.all\n",
    "from scapy.layers.inet import ICMP, IP\n",
    "from scapy.sendrecv import sr\n",
    "import matplotlib.pyplot as plt\n",
    "import numpy as np\n",
    "\n",
    "\n",
    "def enviar_paquete(host, time_to_live):\n",
    "    packet = IP(dst=host, ttl=time_to_live) / ICMP()\n",
    "    res = sr(packet)\n",
    "    return res[0][ICMP]"
   ]
  },
  {
   "cell_type": "code",
   "execution_count": 2,
   "metadata": {
    "collapsed": true
   },
   "outputs": [],
   "source": [
    "def trace_route(host):\n",
    "    tipo = 11\n",
    "    ttl = 1\n",
    "    while (tipo!=0):\n",
    "#    for ttl in range(0, 15):\n",
    "        res1 = enviar_paquete(host, ttl)\n",
    "        print \"hop %d\" % ttl\n",
    "        ttl = ttl + 1\n",
    "        tipo = res1[0][1].type\n",
    "        print \"src: \" + res1[0][1].src + \" dst:\" + res1[0][1].dst + \" tipo: %d\" % res1[0][1].type"
   ]
  },
  {
   "cell_type": "code",
   "execution_count": 6,
   "metadata": {
    "collapsed": false
   },
   "outputs": [],
   "source": [
    "def trace_route2(host):\n",
    "    hops = []\n",
    "    tipo = 11\n",
    "    ttl = 1\n",
    "    origen = 0\n",
    "    while (tipo!=0):\n",
    "        res1 = enviar_paquete(host, ttl)\n",
    "        print \"hop %d\" % ttl\n",
    "        tipo = res1[0][1].type\n",
    "        if (tipo==11):\n",
    "            hops.append(res1[0][1].src)\n",
    "        else:\n",
    "            hops.append('*')\n",
    "        ttl = ttl + 1\n",
    "    return hops\n",
    "        #print \"src: \" +  + \" dst:\" + res1[0][1].dst + \" tipo: %d\" % res1[0][1].type"
   ]
  },
  {
   "cell_type": "code",
   "execution_count": 7,
   "metadata": {
    "collapsed": false
   },
   "outputs": [
    {
     "name": "stdout",
     "output_type": "stream",
     "text": [
      "Begin emission:\n",
      "Finished to send 1 packets.\n",
      "\n",
      "Received 22 packets, got 1 answers, remaining 0 packets\n",
      "hop 1\n",
      "Begin emission:\n",
      "Finished to send 1 packets.\n",
      "\n",
      "Received 22 packets, got 1 answers, remaining 0 packets\n",
      "hop 1\n",
      "\n",
      "Received 35 packets, got 1 answers, remaining 0 packets\n",
      "hop 2\n",
      "Begin emission:\n",
      "Finished to send 1 packets.\n",
      "\n",
      "Received 22 packets, got 1 answers, remaining 0 packets\n",
      "hop 1\n",
      "\n",
      "Received 35 packets, got 1 answers, remaining 0 packets\n",
      "hop 2\n",
      "\n",
      "Received 41 packets, got 1 answers, remaining 0 packets\n",
      "hop 3\n",
      "Begin emission:\n",
      "Finished to send 1 packets.\n",
      "\n",
      "Received 41 packets, got 1 answers, remaining 0 packets\n",
      "hop 4\n",
      "Begin emission:\n",
      "Finished to send 1 packets.\n",
      "\n",
      "Received 41 packets, got 1 answers, remaining 0 packets\n",
      "hop 4\n",
      "\n",
      "Received 34 packets, got 1 answers, remaining 0 packets\n",
      "hop 5\n",
      "Begin emission:\n",
      "Finished to send 1 packets.\n",
      "\n",
      "Received 41 packets, got 1 answers, remaining 0 packets\n",
      "hop 4\n",
      "\n",
      "Received 34 packets, got 1 answers, remaining 0 packets\n",
      "hop 5\n",
      "\n",
      "Received 41 packets, got 1 answers, remaining 0 packets\n",
      "hop 6\n",
      "Begin emission:\n",
      "Finished to send 1 packets.\n",
      "\n",
      "Received 41 packets, got 1 answers, remaining 0 packets\n",
      "hop 4\n",
      "\n",
      "Received 34 packets, got 1 answers, remaining 0 packets\n",
      "hop 5\n",
      "\n",
      "Received 41 packets, got 1 answers, remaining 0 packets\n",
      "hop 6\n",
      "\n",
      "Received 41 packets, got 1 answers, remaining 0 packets\n",
      "hop 7\n",
      "Begin emission:\n",
      "Finished to send 1 packets.\n",
      "\n",
      "Received 41 packets, got 1 answers, remaining 0 packets\n",
      "hop 7\n",
      "\n",
      "Received 21 packets, got 1 answers, remaining 0 packets\n",
      "hop 8\n"
     ]
    },
    {
     "data": {
      "text/plain": [
       "['192.168.0.1',\n",
       " '10.21.128.1',\n",
       " '100.72.1.77',\n",
       " '100.72.1.14',\n",
       " '100.72.1.13',\n",
       " '10.242.1.194',\n",
       " '192.168.42.30',\n",
       " '*']"
      ]
     },
     "execution_count": 7,
     "metadata": {},
     "output_type": "execute_result"
    }
   ],
   "source": [
    "trace_route2('www.google.com')"
   ]
  }
 ],
 "metadata": {
  "kernelspec": {
   "display_name": "Python 2",
   "language": "python",
   "name": "python2"
  },
  "language_info": {
   "codemirror_mode": {
    "name": "ipython",
    "version": 2
   },
   "file_extension": ".py",
   "mimetype": "text/x-python",
   "name": "python",
   "nbconvert_exporter": "python",
   "pygments_lexer": "ipython2",
   "version": "2.7.12"
  }
 },
 "nbformat": 4,
 "nbformat_minor": 1
}
