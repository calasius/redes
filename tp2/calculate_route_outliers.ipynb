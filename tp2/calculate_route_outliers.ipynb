{
 "cells": [
  {
   "cell_type": "code",
   "execution_count": 1,
   "metadata": {
    "collapsed": false
   },
   "outputs": [
    {
     "name": "stderr",
     "output_type": "stream",
     "text": [
      "WARNING: No route found for IPv6 destination :: (no default route?)\n"
     ]
    }
   ],
   "source": [
    "# coding=utf-8\n",
    "import math\n",
    "from scapy.all import *\n",
    "import matplotlib.pyplot as plt\n",
    "import numpy as np\n",
    "import time\n",
    "import pandas as pd\n",
    "from scipy.stats import t\n",
    "from math import sqrt\n",
    "from math import pow\n",
    "import requests\n",
    "import os\n",
    "import IP2Location\n",
    "\n",
    "IP_SERVICE_URL = 'https://freegeoip.net/json/{}'\n",
    "\n",
    "hosts = dict([('www.uq.edu.au','130.102.131.70'),('udsu.ru', '94.25.116.37'), ('site.u.pereslavl.ru','95.129.137.162'),('www.kstu.kz','85.29.137.233'), ('keu.kz','46.235.86.164'), ('unak.is','130.208.224.102'),('www.fu-berlin.de','160.45.170.10'),('kgiu.kz','195.210.46.14'),('www.uae.ma','159.253.148.195'),('unis.no','158.39.149.250'),('bifrost.is','185.118.33.147'),('birmingham.ac.uk','147.188.218.91')])\n",
    "\n",
    "api_key = '49f2da642556dfd205946d37e9e7ebbd61d1e74ea737f153b597c212ea80302e'\n",
    "\n",
    "DEFAULT_RTT_VALUE = 0\n",
    "\n",
    "ATTEMPS = 30"
   ]
  },
  {
   "cell_type": "code",
   "execution_count": 101,
   "metadata": {
    "collapsed": false
   },
   "outputs": [],
   "source": [
    "from __future__ import print_function, unicode_literals, with_statement\n",
    "import argparse\n",
    "import contextlib\n",
    "import requests\n",
    "import sys\n",
    "import csv\n",
    "import matplotlib\n",
    "# Anti-Grain Geometry (AGG) backend so PyGeoIpMap can be used 'headless'\n",
    "matplotlib.use('Agg')\n",
    "import matplotlib.pyplot as plt\n",
    "from mpl_toolkits.basemap import Basemap\n",
    "import pygeoip\n",
    "\n",
    "\n",
    "def get_ip(ip_file):\n",
    "    \"\"\"\n",
    "    Returns a list of IP addresses from a file containing one IP per line.\n",
    "    \"\"\"\n",
    "    with contextlib.closing(ip_file):\n",
    "        return [line.strip() for line in ip_file]\n",
    "\n",
    "\n",
    "def get_lat_lon(ip_list=[], lats=[], lons=[]):\n",
    "    \"\"\"\n",
    "    This function connects to the FreeGeoIP web service to get info from\n",
    "    a list of IP addresses.\n",
    "    Returns two lists (latitude and longitude).\n",
    "    \"\"\"\n",
    "    for ip in ip_list:\n",
    "        r = requests.get(\"https://freegeoip.net/json/\" + ip)\n",
    "        json_response = r.json()\n",
    "        if json_response['latitude'] and json_response['longitude']:\n",
    "            print (\"ip = {} lat = {} long = {}\".format(ip, json_response['latitude'],json_response['longitude']))\n",
    "            lats.append(json_response['latitude'])\n",
    "            lons.append(json_response['longitude'])\n",
    "    return lats, lons\n",
    "\n",
    "\n",
    "def geoip_lat_lon(gi, ip_list):\n",
    "    \"\"\"\n",
    "    This function uses the MaxMind library and databases to geolocate IP addresses\n",
    "    Returns two lists (latitude and longitude).\n",
    "    \"\"\"\n",
    "    lats=[]\n",
    "    lons=[]\n",
    "    for ip in ip_list:\n",
    "        try:\n",
    "            r = gi.record_by_addr(ip)\n",
    "        except Exception:\n",
    "            print(\"Unable to locate IP: %s\" % ip)\n",
    "            continue\n",
    "        if r is not None:\n",
    "            lats.append(r['latitude'])\n",
    "            lons.append(r['longitude'])\n",
    "    return lats, lons\n",
    "\n",
    "\n",
    "def get_lat_lon_from_csv(csv_file, lats=[], lons=[]):\n",
    "    \"\"\"\n",
    "    Retrieves the last two rows of a CSV formatted file to use as latitude\n",
    "    and longitude.\n",
    "    Returns two lists (latitudes and longitudes).\n",
    "    Example CSV file:\n",
    "    119.80.39.54, Beijing, China, 39.9289, 116.3883\n",
    "    101.44.1.135, Shanghai, China, 31.0456, 121.3997\n",
    "    219.144.17.74, Xian, China, 34.2583, 108.9286\n",
    "    64.27.26.7, Los Angeles, United States, 34.053, -118.2642\n",
    "    \"\"\"\n",
    "    with contextlib.closing(csv_file):\n",
    "        reader = csv.reader(csv_file)\n",
    "        for row in reader:\n",
    "            lats.append(row[-2])\n",
    "            lons.append(row[-1])\n",
    "\n",
    "    return lats, lons\n",
    "\n",
    "\n",
    "def generate_map(output, lats=[], lons=[], wesn=None):\n",
    "    \"\"\"\n",
    "    Using Basemap and the matplotlib toolkit, this function generates a map and\n",
    "    puts a red dot at the location of every IP addresses found in the list.\n",
    "    The map is then saved in the file specified in `output`.\n",
    "    \"\"\"\n",
    "    \n",
    "    plt.close('all')\n",
    "    print(\"Generating map and saving it to {}\".format(output))\n",
    "    if wesn:\n",
    "        wesn = [float(i) for i in wesn.split('/')]\n",
    "        m = Basemap(projection='cyl', resolution='l',\n",
    "                llcrnrlon=wesn[0], llcrnrlat=wesn[2],\n",
    "                urcrnrlon=wesn[1], urcrnrlat=wesn[3])\n",
    "    else:\n",
    "        m = Basemap(projection='cyl', resolution='l')\n",
    "    m.bluemarble()\n",
    "\n",
    "    x, y = m(lons, lats)\n",
    "    \n",
    "    m.plot(x, y, 40, 40, color='y')\n",
    "    m.scatter(x, y, s=3, color='#ff0000', marker='o', alpha=0.3) #, alpha=0.3\n",
    "    plt.savefig(output, dpi=300, bbox_inches='tight')\n",
    "    plt.close('all')\n",
    "\n",
    "def graficar_ruta(ruta, nombre_imagen):\n",
    "    gi = pygeoip.GeoIP('GeoLiteCity.dat')\n",
    "    lats, lons = geoip_lat_lon(gi,ruta)\n",
    "    generate_map(nombre_imagen, lats, lons) #, wesn='-12/45/30/65'"
   ]
  },
  {
   "cell_type": "code",
   "execution_count": 74,
   "metadata": {
    "collapsed": true
   },
   "outputs": [],
   "source": [
    "def toLatex(df):\n",
    "    from IPython.display import Latex\n",
    "    Latex(outliers.to_latex())"
   ]
  },
  {
   "cell_type": "code",
   "execution_count": 75,
   "metadata": {
    "collapsed": true
   },
   "outputs": [],
   "source": [
    "def ipCountryCode(ip):    \n",
    "    resp = requests.get(IP_SERVICE_URL.format(ip))\n",
    "    if resp.status_code != 200:\n",
    "        raise ApiError('GET /tasks/ {}'.format(resp.status_code))\n",
    "    return resp.json()['country_code']"
   ]
  },
  {
   "cell_type": "code",
   "execution_count": 5,
   "metadata": {
    "collapsed": true
   },
   "outputs": [],
   "source": [
    "def modified_thompson(n):\n",
    "    alpha = 0.025\n",
    "    t_critical = t.ppf(1-alpha, n-2)\n",
    "    return (t_critical*(n-1)) / (sqrt(n) * sqrt(n-2 + pow(t_critical,2)))  "
   ]
  },
  {
   "cell_type": "code",
   "execution_count": 6,
   "metadata": {
    "collapsed": true
   },
   "outputs": [],
   "source": [
    "def enviar_paquete(host, time_to_live):\n",
    "    packet = IP(dst=host, ttl=time_to_live) / ICMP()\n",
    "    res = sr(packet, timeout=1, verbose=0)\n",
    "    return res[0][ICMP]"
   ]
  },
  {
   "cell_type": "code",
   "execution_count": 7,
   "metadata": {
    "collapsed": true
   },
   "outputs": [],
   "source": [
    "def route(df):\n",
    "    return df[df['ip'] != 'empty']['ip'].unique()"
   ]
  },
  {
   "cell_type": "code",
   "execution_count": 8,
   "metadata": {
    "collapsed": true
   },
   "outputs": [],
   "source": [
    "def calculateOutliers(rtt_df):\n",
    "    descriptions = rtt_df.describe().T\n",
    "    mean = descriptions['mean']\n",
    "    std = descriptions['std']\n",
    "    zrtt = (rtt_df-mean)/std\n",
    "    n = len(zrtt)\n",
    "    thomson_value = modified_thompson(n)\n",
    "    abszrtt = abs(zrtt)\n",
    "    return abszrtt[abszrtt['rtt'] > thomson_value], zrtt"
   ]
  },
  {
   "cell_type": "code",
   "execution_count": 9,
   "metadata": {
    "collapsed": false
   },
   "outputs": [],
   "source": [
    "def trace_route(hosts):\n",
    "    \n",
    "    ips_countrycode = {}\n",
    "    df_list = []\n",
    "    rtt_df_list = []\n",
    "    outliers_df_list = []\n",
    "    zrtt_df_list = []\n",
    "\n",
    "    for host in hosts:\n",
    "        hops = []\n",
    "        ttl_without_response = []\n",
    "        ip = hosts[host]\n",
    "        for i in range(0,ATTEMPS):\n",
    "            tipo = 11\n",
    "            ttl = 1\n",
    "            last_rtt = 0\n",
    "            while (tipo!=0 and ttl < 30):\n",
    "                if (not ttl in ttl_without_response):\n",
    "                    ti = time.time()\n",
    "                    res1 = enviar_paquete(ip, ttl)\n",
    "                    tf = time.time()\n",
    "                    rtt = tf-ti\n",
    "                    if (len(res1) > 0):\n",
    "                        tipo = res1[0][1].type\n",
    "                        src = res1[0][1].src\n",
    "                        countryCode = None\n",
    "                        if(src in ips_countrycode):\n",
    "                            countryCode = ips_countrycode[src]\n",
    "                        else:\n",
    "                            countryCode = ipCountryCode(src)\n",
    "                            ips_countrycode[src] = countryCode\n",
    "                        if (tipo > 0):\n",
    "                            hops.append([host,ttl,i,src,countryCode, max(0,rtt-last_rtt)])\n",
    "                        else:\n",
    "                            hops.append([host,ttl,i,src,countryCode, max(0,rtt-last_rtt)])\n",
    "                        last_rtt = rtt\n",
    "                    else:\n",
    "                        hops.append([host,ttl,i,\"empty\",\"empty\",DEFAULT_RTT_VALUE])\n",
    "                        ttl_without_response.append(ttl)\n",
    "                ttl = ttl + 1\n",
    "\n",
    "        df = pd.DataFrame(hops,columns=['host','ttl','i','ip','cc','rtt'])\n",
    "        indexed = df.set_index(['host','ttl','i','ip','cc'])\n",
    "        rtt_df = indexed.groupby(level=['host','ttl','ip','cc']).mean()\n",
    "        outliers_df, zrtt_df = calculateOutliers(rtt_df)\n",
    "        rtt_df_list.append(rtt_df)\n",
    "        outliers_df_list.append(outliers_df)\n",
    "        zrtt_df_list.append(zrtt_df)\n",
    "        df_list.append(df)\n",
    "        graficar_ruta(route(df),'route[{}].png'.format(host))\n",
    "    \n",
    "    return df_list, rtt_df_list, outliers_df_list, zrtt_df_list"
   ]
  },
  {
   "cell_type": "markdown",
   "metadata": {},
   "source": [
    "# No ejecutar esto"
   ]
  },
  {
   "cell_type": "code",
   "execution_count": 10,
   "metadata": {
    "collapsed": false,
    "scrolled": true
   },
   "outputs": [
    {
     "name": "stdout",
     "output_type": "stream",
     "text": [
      "Generating map and saving it to route[www.uq.edu.au].png\n"
     ]
    },
    {
     "name": "stderr",
     "output_type": "stream",
     "text": [
      "/usr/lib/pymodules/python2.7/matplotlib/collections.py:548: FutureWarning: elementwise comparison failed; returning scalar instead, but in the future will perform elementwise comparison\n",
      "  if self._edgecolors == 'face':\n"
     ]
    },
    {
     "name": "stdout",
     "output_type": "stream",
     "text": [
      "Generating map and saving it to route[unis.no].png\n",
      "Generating map and saving it to route[www.kstu.kz].png\n",
      "Generating map and saving it to route[birmingham.ac.uk].png\n",
      "Generating map and saving it to route[keu.kz].png\n",
      "Generating map and saving it to route[bifrost.is].png\n",
      "Generating map and saving it to route[unak.is].png\n",
      "Generating map and saving it to route[site.u.pereslavl.ru].png\n",
      "Generating map and saving it to route[www.fu-berlin.de].png\n",
      "Generating map and saving it to route[udsu.ru].png\n",
      "Generating map and saving it to route[kgiu.kz].png\n",
      "Generating map and saving it to route[www.uae.ma].png\n",
      "CPU times: user 1min 52s, sys: 59.6 s, total: 2min 51s\n",
      "Wall time: 42min 22s\n"
     ]
    }
   ],
   "source": [
    "%%time\n",
    "df_list, rtt_df_list, outliers_df_list, zrtt_df_list = trace_route(hosts)"
   ]
  },
  {
   "cell_type": "markdown",
   "metadata": {},
   "source": [
    "# Guardo los archivos cvs"
   ]
  },
  {
   "cell_type": "code",
   "execution_count": 33,
   "metadata": {
    "collapsed": false
   },
   "outputs": [],
   "source": [
    "for df in df_list:\n",
    "    host = df['host'].unique()[0]\n",
    "    df.to_csv('./df-csv/'+host, index=False, header=None)"
   ]
  },
  {
   "cell_type": "markdown",
   "metadata": {},
   "source": [
    "# Leo los archivos  csv y creo los dataframe"
   ]
  },
  {
   "cell_type": "code",
   "execution_count": 55,
   "metadata": {
    "collapsed": false
   },
   "outputs": [],
   "source": [
    "from os import listdir\n",
    "\n",
    "def readDataFrames():\n",
    "    df_map = {}\n",
    "    rtt_df_map = {}\n",
    "    outliers_df_map = {}\n",
    "    zrtt_df_map = {}\n",
    "\n",
    "    for host in listdir('./df-csv'):\n",
    "        df = pd.read_csv('./df-csv/'+host, header=None, names=['host','ttl','i','ip','cc','rtt'])\n",
    "        df_map[host] = df\n",
    "        indexed = df.set_index(['host','ttl','i','ip','cc'])\n",
    "        rtt_df = indexed.groupby(level=['host','ttl','ip','cc']).mean()\n",
    "        outliers_df, zrtt_df = calculateOutliers(rtt_df)\n",
    "        outliers_df_map[host] = outliers_df\n",
    "        zrtt_df_map[host] = zrtt_df\n",
    "        rtt_df_map[host] = rtt_df\n",
    "\n",
    "\n",
    "    return df_map, rtt_df_map, outliers_df_map, zrtt_df_map\n"
   ]
  },
  {
   "cell_type": "code",
   "execution_count": 76,
   "metadata": {
    "collapsed": true
   },
   "outputs": [],
   "source": [
    "def graficarTodasLasCorridas(df_map):\n",
    "    for host in df_map:\n",
    "        graficar_ruta(route(df_map[host]), './grafico-rutas/'+host+'.png')"
   ]
  },
  {
   "cell_type": "code",
   "execution_count": 77,
   "metadata": {
    "collapsed": false
   },
   "outputs": [],
   "source": [
    "df_map, rtt_df_map, outliers_df_map, zrtt_df_map = readDataFrames()"
   ]
  },
  {
   "cell_type": "code",
   "execution_count": 102,
   "metadata": {
    "collapsed": false
   },
   "outputs": [
    {
     "name": "stdout",
     "output_type": "stream",
     "text": [
      "['200.89.161.81' '200.89.165.1' '200.89.165.250' '67.17.94.249'\n",
      " '4.68.127.54' '129.250.4.250' '129.250.2.219' '129.250.7.69'\n",
      " '129.250.3.123' '204.1.253.166' '202.158.194.172' '113.197.15.68'\n",
      " '113.197.15.66' '113.197.15.152' '113.197.15.4' '113.197.15.7'\n",
      " '113.197.15.34' '138.44.129.46' '130.102.159.1' '130.102.0.242'\n",
      " '130.102.82.63' '130.102.131.70']\n",
      "Generating map and saving it to ./grafico-rutas/www.uq.edu.au.png\n",
      "['200.89.161.97' '200.89.165.1' '200.89.165.250' '64.215.102.181'\n",
      " '64.57.20.73' '64.57.20.34' '64.57.20.37' '109.105.97.142'\n",
      " '109.105.97.138' '109.105.102.66' '109.105.102.67' '128.39.255.121'\n",
      " '128.39.255.47' '128.39.255.211' '128.39.255.19' '128.39.254.85'\n",
      " '128.39.47.158' '158.39.149.250']\n",
      "Generating map and saving it to ./grafico-rutas/unis.no.png\n",
      "['200.89.161.145' '200.89.165.150' '185.70.203.20' '195.22.214.131'\n",
      " '195.22.211.109' '195.190.98.142' '46.227.189.38' '80.241.35.198'\n",
      " '85.29.137.2' '85.29.137.233']\n",
      "Generating map and saving it to ./grafico-rutas/www.kstu.kz.png\n",
      "['200.89.161.85' '200.89.165.1' '200.89.165.250' '67.17.99.233'\n",
      " '212.187.139.166' '146.97.33.2' '146.97.33.22' '146.97.37.154'\n",
      " '193.62.80.154' '193.62.80.174' '193.63.208.142']\n",
      "Generating map and saving it to ./grafico-rutas/birmingham.ac.uk.png\n",
      "['200.89.161.133' '200.89.165.150' '185.70.203.20' '195.22.214.131'\n",
      " '195.22.211.105' '62.141.74.218' '46.227.189.38' '85.29.131.170'\n",
      " '46.235.86.162' '46.235.86.164']\n",
      "Generating map and saving it to ./grafico-rutas/keu.kz.png\n",
      "['200.89.161.133' '200.89.165.130' '200.89.165.222' '185.70.203.32'\n",
      " '89.221.41.171' '154.54.9.17' '154.54.24.233' '154.54.24.197'\n",
      " '154.54.24.221' '154.54.40.109' '154.54.42.86' '154.54.57.162'\n",
      " '130.117.2.110' '149.6.98.110' '31.15.113.2' '31.15.113.1' '31.15.115.41'\n",
      " '176.10.35.233' '176.10.35.234' '185.118.33.147']\n",
      "Generating map and saving it to ./grafico-rutas/bifrost.is.png\n"
     ]
    },
    {
     "ename": "KeyboardInterrupt",
     "evalue": "",
     "output_type": "error",
     "traceback": [
      "\u001b[0;31m---------------------------------------------------------------------------\u001b[0m",
      "\u001b[0;31mKeyboardInterrupt\u001b[0m                         Traceback (most recent call last)",
      "\u001b[0;32m<ipython-input-102-9f7ac6fe9e9c>\u001b[0m in \u001b[0;36m<module>\u001b[0;34m()\u001b[0m\n\u001b[0;32m----> 1\u001b[0;31m \u001b[0mgraficarTodasLasCorridas\u001b[0m\u001b[0;34m(\u001b[0m\u001b[0mdf_map\u001b[0m\u001b[0;34m)\u001b[0m\u001b[0;34m\u001b[0m\u001b[0m\n\u001b[0m",
      "\u001b[0;32m<ipython-input-76-f8b0688150ef>\u001b[0m in \u001b[0;36mgraficarTodasLasCorridas\u001b[0;34m(df_map)\u001b[0m\n\u001b[1;32m      2\u001b[0m     \u001b[0;32mfor\u001b[0m \u001b[0mhost\u001b[0m \u001b[0;32min\u001b[0m \u001b[0mdf_map\u001b[0m\u001b[0;34m:\u001b[0m\u001b[0;34m\u001b[0m\u001b[0m\n\u001b[1;32m      3\u001b[0m         \u001b[0mplt\u001b[0m\u001b[0;34m.\u001b[0m\u001b[0mclf\u001b[0m\u001b[0;34m(\u001b[0m\u001b[0;34m)\u001b[0m\u001b[0;34m\u001b[0m\u001b[0m\n\u001b[0;32m----> 4\u001b[0;31m         \u001b[0mgraficar_ruta\u001b[0m\u001b[0;34m(\u001b[0m\u001b[0mroute\u001b[0m\u001b[0;34m(\u001b[0m\u001b[0mdf_map\u001b[0m\u001b[0;34m[\u001b[0m\u001b[0mhost\u001b[0m\u001b[0;34m]\u001b[0m\u001b[0;34m)\u001b[0m\u001b[0;34m,\u001b[0m \u001b[0;34m'./grafico-rutas/'\u001b[0m\u001b[0;34m+\u001b[0m\u001b[0mhost\u001b[0m\u001b[0;34m+\u001b[0m\u001b[0;34m'.png'\u001b[0m\u001b[0;34m)\u001b[0m\u001b[0;34m\u001b[0m\u001b[0m\n\u001b[0m",
      "\u001b[0;32m<ipython-input-101-5ed33af246c4>\u001b[0m in \u001b[0;36mgraficar_ruta\u001b[0;34m(ruta, nombre_imagen)\u001b[0m\n\u001b[1;32m    103\u001b[0m     \u001b[0mgi\u001b[0m \u001b[0;34m=\u001b[0m \u001b[0mpygeoip\u001b[0m\u001b[0;34m.\u001b[0m\u001b[0mGeoIP\u001b[0m\u001b[0;34m(\u001b[0m\u001b[0;34m'GeoLiteCity.dat'\u001b[0m\u001b[0;34m)\u001b[0m\u001b[0;34m\u001b[0m\u001b[0m\n\u001b[1;32m    104\u001b[0m     \u001b[0mlats\u001b[0m\u001b[0;34m,\u001b[0m \u001b[0mlons\u001b[0m \u001b[0;34m=\u001b[0m \u001b[0mgeoip_lat_lon\u001b[0m\u001b[0;34m(\u001b[0m\u001b[0mgi\u001b[0m\u001b[0;34m,\u001b[0m\u001b[0mruta\u001b[0m\u001b[0;34m)\u001b[0m\u001b[0;34m\u001b[0m\u001b[0m\n\u001b[0;32m--> 105\u001b[0;31m     \u001b[0mgenerate_map\u001b[0m\u001b[0;34m(\u001b[0m\u001b[0mnombre_imagen\u001b[0m\u001b[0;34m,\u001b[0m \u001b[0mlats\u001b[0m\u001b[0;34m,\u001b[0m \u001b[0mlons\u001b[0m\u001b[0;34m)\u001b[0m \u001b[0;31m#, wesn='-12/45/30/65'\u001b[0m\u001b[0;34m\u001b[0m\u001b[0m\n\u001b[0m",
      "\u001b[0;32m<ipython-input-101-5ed33af246c4>\u001b[0m in \u001b[0;36mgenerate_map\u001b[0;34m(output, lats, lons, wesn)\u001b[0m\n\u001b[1;32m     89\u001b[0m                 urcrnrlon=wesn[1], urcrnrlat=wesn[3])\n\u001b[1;32m     90\u001b[0m     \u001b[0;32melse\u001b[0m\u001b[0;34m:\u001b[0m\u001b[0;34m\u001b[0m\u001b[0m\n\u001b[0;32m---> 91\u001b[0;31m         \u001b[0mm\u001b[0m \u001b[0;34m=\u001b[0m \u001b[0mBasemap\u001b[0m\u001b[0;34m(\u001b[0m\u001b[0mprojection\u001b[0m\u001b[0;34m=\u001b[0m\u001b[0;34m'cyl'\u001b[0m\u001b[0;34m,\u001b[0m \u001b[0mresolution\u001b[0m\u001b[0;34m=\u001b[0m\u001b[0;34m'l'\u001b[0m\u001b[0;34m)\u001b[0m\u001b[0;34m\u001b[0m\u001b[0m\n\u001b[0m\u001b[1;32m     92\u001b[0m     \u001b[0mm\u001b[0m\u001b[0;34m.\u001b[0m\u001b[0mbluemarble\u001b[0m\u001b[0;34m(\u001b[0m\u001b[0;34m)\u001b[0m\u001b[0;34m\u001b[0m\u001b[0m\n\u001b[1;32m     93\u001b[0m \u001b[0;34m\u001b[0m\u001b[0m\n",
      "\u001b[0;32m/usr/lib/pymodules/python2.7/mpl_toolkits/basemap/__init__.pyc\u001b[0m in \u001b[0;36m__init__\u001b[0;34m(self, llcrnrlon, llcrnrlat, urcrnrlon, urcrnrlat, llcrnrx, llcrnry, urcrnrx, urcrnry, width, height, projection, resolution, area_thresh, rsphere, ellps, lat_ts, lat_1, lat_2, lat_0, lon_0, lon_1, lon_2, o_lon_p, o_lat_p, k_0, no_rot, suppress_ticks, satellite_height, boundinglat, fix_aspect, anchor, celestial, round, epsg, ax)\u001b[0m\n\u001b[1;32m   1032\u001b[0m         \u001b[0mself\u001b[0m\u001b[0;34m.\u001b[0m\u001b[0marea_thresh\u001b[0m \u001b[0;34m=\u001b[0m \u001b[0marea_thresh\u001b[0m\u001b[0;34m\u001b[0m\u001b[0m\n\u001b[1;32m   1033\u001b[0m         \u001b[0;31m# define map boundary polygon (in lat/lon coordinates)\u001b[0m\u001b[0;34m\u001b[0m\u001b[0;34m\u001b[0m\u001b[0m\n\u001b[0;32m-> 1034\u001b[0;31m         \u001b[0mblons\u001b[0m\u001b[0;34m,\u001b[0m \u001b[0mblats\u001b[0m\u001b[0;34m,\u001b[0m \u001b[0mself\u001b[0m\u001b[0;34m.\u001b[0m\u001b[0m_boundarypolyll\u001b[0m\u001b[0;34m,\u001b[0m \u001b[0mself\u001b[0m\u001b[0;34m.\u001b[0m\u001b[0m_boundarypolyxy\u001b[0m \u001b[0;34m=\u001b[0m \u001b[0mself\u001b[0m\u001b[0;34m.\u001b[0m\u001b[0m_getmapboundary\u001b[0m\u001b[0;34m(\u001b[0m\u001b[0;34m)\u001b[0m\u001b[0;34m\u001b[0m\u001b[0m\n\u001b[0m\u001b[1;32m   1035\u001b[0m         \u001b[0mself\u001b[0m\u001b[0;34m.\u001b[0m\u001b[0mboundarylats\u001b[0m \u001b[0;34m=\u001b[0m \u001b[0mblats\u001b[0m\u001b[0;34m\u001b[0m\u001b[0m\n\u001b[1;32m   1036\u001b[0m         \u001b[0mself\u001b[0m\u001b[0;34m.\u001b[0m\u001b[0mboundarylons\u001b[0m \u001b[0;34m=\u001b[0m \u001b[0mblons\u001b[0m\u001b[0;34m\u001b[0m\u001b[0m\n",
      "\u001b[0;32m/usr/lib/pymodules/python2.7/mpl_toolkits/basemap/__init__.pyc\u001b[0m in \u001b[0;36m_getmapboundary\u001b[0;34m(self)\u001b[0m\n\u001b[1;32m   1537\u001b[0m             \u001b[0mx\u001b[0m \u001b[0;34m=\u001b[0m \u001b[0mx\u001b[0m \u001b[0;34m+\u001b[0m \u001b[0mxx\u001b[0m\u001b[0;34m.\u001b[0m\u001b[0mtolist\u001b[0m\u001b[0;34m(\u001b[0m\u001b[0;34m)\u001b[0m\u001b[0;34m\u001b[0m\u001b[0m\n\u001b[1;32m   1538\u001b[0m             \u001b[0my\u001b[0m \u001b[0;34m=\u001b[0m \u001b[0my\u001b[0m \u001b[0;34m+\u001b[0m \u001b[0mlen\u001b[0m\u001b[0;34m(\u001b[0m\u001b[0mxx\u001b[0m\u001b[0;34m)\u001b[0m\u001b[0;34m*\u001b[0m\u001b[0;34m[\u001b[0m\u001b[0mself\u001b[0m\u001b[0;34m.\u001b[0m\u001b[0mymin\u001b[0m\u001b[0;34m]\u001b[0m\u001b[0;34m\u001b[0m\u001b[0m\n\u001b[0;32m-> 1539\u001b[0;31m             \u001b[0mx\u001b[0m \u001b[0;34m=\u001b[0m \u001b[0mnp\u001b[0m\u001b[0;34m.\u001b[0m\u001b[0marray\u001b[0m\u001b[0;34m(\u001b[0m\u001b[0mx\u001b[0m\u001b[0;34m,\u001b[0m\u001b[0mnp\u001b[0m\u001b[0;34m.\u001b[0m\u001b[0mfloat64\u001b[0m\u001b[0;34m)\u001b[0m\u001b[0;34m\u001b[0m\u001b[0m\n\u001b[0m\u001b[1;32m   1540\u001b[0m             \u001b[0my\u001b[0m \u001b[0;34m=\u001b[0m \u001b[0mnp\u001b[0m\u001b[0;34m.\u001b[0m\u001b[0marray\u001b[0m\u001b[0;34m(\u001b[0m\u001b[0my\u001b[0m\u001b[0;34m,\u001b[0m\u001b[0mnp\u001b[0m\u001b[0;34m.\u001b[0m\u001b[0mfloat64\u001b[0m\u001b[0;34m)\u001b[0m\u001b[0;34m\u001b[0m\u001b[0m\n\u001b[1;32m   1541\u001b[0m             \u001b[0mb\u001b[0m \u001b[0;34m=\u001b[0m \u001b[0mnp\u001b[0m\u001b[0;34m.\u001b[0m\u001b[0mempty\u001b[0m\u001b[0;34m(\u001b[0m\u001b[0;34m(\u001b[0m\u001b[0;36m4\u001b[0m\u001b[0;34m,\u001b[0m\u001b[0;36m2\u001b[0m\u001b[0;34m)\u001b[0m\u001b[0;34m,\u001b[0m\u001b[0mnp\u001b[0m\u001b[0;34m.\u001b[0m\u001b[0mfloat64\u001b[0m\u001b[0;34m)\u001b[0m\u001b[0;34m\u001b[0m\u001b[0m\n",
      "\u001b[0;31mKeyboardInterrupt\u001b[0m: "
     ]
    }
   ],
   "source": [
    "graficarTodasLasCorridas(df_map)"
   ]
  },
  {
   "cell_type": "code",
   "execution_count": 26,
   "metadata": {
    "collapsed": false
   },
   "outputs": [
    {
     "data": {
      "text/plain": [
       "array([[<matplotlib.axes.AxesSubplot object at 0x7f90e7db0490>]], dtype=object)"
      ]
     },
     "execution_count": 26,
     "metadata": {},
     "output_type": "execute_result"
    },
    {
     "data": {
      "image/png": "[encoded data removed]",
      "text/plain": [
       "<matplotlib.figure.Figure at 0x7f90e90beb50>"
      ]
     },
     "metadata": {},
     "output_type": "display_data"
    }
   ],
   "source": [
    "%matplotlib inline\n",
    "pd.DataFrame.hist(rtt_df_list[0], bins=30)"
   ]
  },
  {
   "cell_type": "code",
   "execution_count": 49,
   "metadata": {
    "collapsed": false
   },
   "outputs": [
    {
     "data": {
      "text/html": [
       "<div>\n",
       "<table border=\"1\" class=\"dataframe\">\n",
       "  <thead>\n",
       "    <tr style=\"text-align: right;\">\n",
       "      <th></th>\n",
       "      <th></th>\n",
       "      <th></th>\n",
       "      <th></th>\n",
       "      <th></th>\n",
       "      <th>rtt</th>\n",
       "    </tr>\n",
       "    <tr>\n",
       "      <th>host</th>\n",
       "      <th>ttl</th>\n",
       "      <th>i</th>\n",
       "      <th>ip</th>\n",
       "      <th>cc</th>\n",
       "      <th></th>\n",
       "    </tr>\n",
       "  </thead>\n",
       "  <tbody>\n",
       "    <tr>\n",
       "      <th rowspan=\"61\" valign=\"top\">bifrost.is</th>\n",
       "      <th>1</th>\n",
       "      <th>0</th>\n",
       "      <th>empty</th>\n",
       "      <th>empty</th>\n",
       "      <td>0.000000</td>\n",
       "    </tr>\n",
       "    <tr>\n",
       "      <th>2</th>\n",
       "      <th>0</th>\n",
       "      <th>empty</th>\n",
       "      <th>empty</th>\n",
       "      <td>0.000000</td>\n",
       "    </tr>\n",
       "    <tr>\n",
       "      <th>3</th>\n",
       "      <th>0</th>\n",
       "      <th>empty</th>\n",
       "      <th>empty</th>\n",
       "      <td>0.000000</td>\n",
       "    </tr>\n",
       "    <tr>\n",
       "      <th>4</th>\n",
       "      <th>0</th>\n",
       "      <th>empty</th>\n",
       "      <th>empty</th>\n",
       "      <td>0.000000</td>\n",
       "    </tr>\n",
       "    <tr>\n",
       "      <th>5</th>\n",
       "      <th>0</th>\n",
       "      <th>200.89.161.133</th>\n",
       "      <th>AR</th>\n",
       "      <td>0.076023</td>\n",
       "    </tr>\n",
       "    <tr>\n",
       "      <th>6</th>\n",
       "      <th>0</th>\n",
       "      <th>200.89.165.130</th>\n",
       "      <th>AR</th>\n",
       "      <td>0.003693</td>\n",
       "    </tr>\n",
       "    <tr>\n",
       "      <th>7</th>\n",
       "      <th>0</th>\n",
       "      <th>200.89.165.222</th>\n",
       "      <th>AR</th>\n",
       "      <td>0.030208</td>\n",
       "    </tr>\n",
       "    <tr>\n",
       "      <th>8</th>\n",
       "      <th>0</th>\n",
       "      <th>185.70.203.32</th>\n",
       "      <th>IT</th>\n",
       "      <td>0.000000</td>\n",
       "    </tr>\n",
       "    <tr>\n",
       "      <th>9</th>\n",
       "      <th>0</th>\n",
       "      <th>89.221.41.171</th>\n",
       "      <th>IT</th>\n",
       "      <td>0.122046</td>\n",
       "    </tr>\n",
       "    <tr>\n",
       "      <th>10</th>\n",
       "      <th>0</th>\n",
       "      <th>89.221.41.171</th>\n",
       "      <th>IT</th>\n",
       "      <td>0.000000</td>\n",
       "    </tr>\n",
       "    <tr>\n",
       "      <th>11</th>\n",
       "      <th>0</th>\n",
       "      <th>154.54.9.17</th>\n",
       "      <th>US</th>\n",
       "      <td>0.003103</td>\n",
       "    </tr>\n",
       "    <tr>\n",
       "      <th>12</th>\n",
       "      <th>0</th>\n",
       "      <th>154.54.24.233</th>\n",
       "      <th>US</th>\n",
       "      <td>0.002802</td>\n",
       "    </tr>\n",
       "    <tr>\n",
       "      <th>13</th>\n",
       "      <th>0</th>\n",
       "      <th>154.54.24.197</th>\n",
       "      <th>US</th>\n",
       "      <td>0.001222</td>\n",
       "    </tr>\n",
       "    <tr>\n",
       "      <th>14</th>\n",
       "      <th>0</th>\n",
       "      <th>154.54.24.221</th>\n",
       "      <th>US</th>\n",
       "      <td>0.016301</td>\n",
       "    </tr>\n",
       "    <tr>\n",
       "      <th>15</th>\n",
       "      <th>0</th>\n",
       "      <th>154.54.40.109</th>\n",
       "      <th>US</th>\n",
       "      <td>0.011807</td>\n",
       "    </tr>\n",
       "    <tr>\n",
       "      <th>16</th>\n",
       "      <th>0</th>\n",
       "      <th>154.54.42.86</th>\n",
       "      <th>US</th>\n",
       "      <td>0.077076</td>\n",
       "    </tr>\n",
       "    <tr>\n",
       "      <th>17</th>\n",
       "      <th>0</th>\n",
       "      <th>154.54.57.162</th>\n",
       "      <th>US</th>\n",
       "      <td>0.011167</td>\n",
       "    </tr>\n",
       "    <tr>\n",
       "      <th>18</th>\n",
       "      <th>0</th>\n",
       "      <th>130.117.2.110</th>\n",
       "      <th>NaN</th>\n",
       "      <td>0.000000</td>\n",
       "    </tr>\n",
       "    <tr>\n",
       "      <th>19</th>\n",
       "      <th>0</th>\n",
       "      <th>149.6.98.110</th>\n",
       "      <th>US</th>\n",
       "      <td>0.000000</td>\n",
       "    </tr>\n",
       "    <tr>\n",
       "      <th>20</th>\n",
       "      <th>0</th>\n",
       "      <th>31.15.113.2</th>\n",
       "      <th>IS</th>\n",
       "      <td>0.013678</td>\n",
       "    </tr>\n",
       "    <tr>\n",
       "      <th>21</th>\n",
       "      <th>0</th>\n",
       "      <th>31.15.113.1</th>\n",
       "      <th>IS</th>\n",
       "      <td>0.051892</td>\n",
       "    </tr>\n",
       "    <tr>\n",
       "      <th>22</th>\n",
       "      <th>0</th>\n",
       "      <th>31.15.115.41</th>\n",
       "      <th>IS</th>\n",
       "      <td>0.000000</td>\n",
       "    </tr>\n",
       "    <tr>\n",
       "      <th>23</th>\n",
       "      <th>0</th>\n",
       "      <th>176.10.35.233</th>\n",
       "      <th>IS</th>\n",
       "      <td>0.000000</td>\n",
       "    </tr>\n",
       "    <tr>\n",
       "      <th>24</th>\n",
       "      <th>0</th>\n",
       "      <th>176.10.35.234</th>\n",
       "      <th>IS</th>\n",
       "      <td>0.011831</td>\n",
       "    </tr>\n",
       "    <tr>\n",
       "      <th>25</th>\n",
       "      <th>0</th>\n",
       "      <th>185.118.33.147</th>\n",
       "      <th>IS</th>\n",
       "      <td>0.014547</td>\n",
       "    </tr>\n",
       "    <tr>\n",
       "      <th>5</th>\n",
       "      <th>1</th>\n",
       "      <th>200.89.161.133</th>\n",
       "      <th>AR</th>\n",
       "      <td>0.061721</td>\n",
       "    </tr>\n",
       "    <tr>\n",
       "      <th>6</th>\n",
       "      <th>1</th>\n",
       "      <th>200.89.165.130</th>\n",
       "      <th>AR</th>\n",
       "      <td>0.011566</td>\n",
       "    </tr>\n",
       "    <tr>\n",
       "      <th>7</th>\n",
       "      <th>1</th>\n",
       "      <th>200.89.165.222</th>\n",
       "      <th>AR</th>\n",
       "      <td>0.006606</td>\n",
       "    </tr>\n",
       "    <tr>\n",
       "      <th>8</th>\n",
       "      <th>1</th>\n",
       "      <th>185.70.203.32</th>\n",
       "      <th>IT</th>\n",
       "      <td>0.000000</td>\n",
       "    </tr>\n",
       "    <tr>\n",
       "      <th>9</th>\n",
       "      <th>1</th>\n",
       "      <th>89.221.41.171</th>\n",
       "      <th>IT</th>\n",
       "      <td>0.120538</td>\n",
       "    </tr>\n",
       "    <tr>\n",
       "      <th>9</th>\n",
       "      <th>1</th>\n",
       "      <th>89.221.41.171</th>\n",
       "      <th>...</th>\n",
       "      <td>...</td>\n",
       "    </tr>\n",
       "    <tr>\n",
       "      <th>17</th>\n",
       "      <th>28</th>\n",
       "      <th>154.54.57.162</th>\n",
       "      <th>US</th>\n",
       "      <td>0.009475</td>\n",
       "    </tr>\n",
       "    <tr>\n",
       "      <th>18</th>\n",
       "      <th>28</th>\n",
       "      <th>130.117.2.110</th>\n",
       "      <th>NaN</th>\n",
       "      <td>0.000000</td>\n",
       "    </tr>\n",
       "    <tr>\n",
       "      <th>19</th>\n",
       "      <th>28</th>\n",
       "      <th>149.6.98.110</th>\n",
       "      <th>US</th>\n",
       "      <td>0.012017</td>\n",
       "    </tr>\n",
       "    <tr>\n",
       "      <th>20</th>\n",
       "      <th>28</th>\n",
       "      <th>31.15.113.2</th>\n",
       "      <th>IS</th>\n",
       "      <td>0.002095</td>\n",
       "    </tr>\n",
       "    <tr>\n",
       "      <th>21</th>\n",
       "      <th>28</th>\n",
       "      <th>31.15.113.1</th>\n",
       "      <th>IS</th>\n",
       "      <td>0.012013</td>\n",
       "    </tr>\n",
       "    <tr>\n",
       "      <th>22</th>\n",
       "      <th>28</th>\n",
       "      <th>31.15.115.41</th>\n",
       "      <th>IS</th>\n",
       "      <td>0.000000</td>\n",
       "    </tr>\n",
       "    <tr>\n",
       "      <th>23</th>\n",
       "      <th>28</th>\n",
       "      <th>176.10.35.233</th>\n",
       "      <th>IS</th>\n",
       "      <td>0.023097</td>\n",
       "    </tr>\n",
       "    <tr>\n",
       "      <th>24</th>\n",
       "      <th>28</th>\n",
       "      <th>176.10.35.234</th>\n",
       "      <th>IS</th>\n",
       "      <td>0.000000</td>\n",
       "    </tr>\n",
       "    <tr>\n",
       "      <th>25</th>\n",
       "      <th>28</th>\n",
       "      <th>185.118.33.147</th>\n",
       "      <th>IS</th>\n",
       "      <td>0.012142</td>\n",
       "    </tr>\n",
       "    <tr>\n",
       "      <th>5</th>\n",
       "      <th>29</th>\n",
       "      <th>200.89.161.133</th>\n",
       "      <th>AR</th>\n",
       "      <td>0.067714</td>\n",
       "    </tr>\n",
       "    <tr>\n",
       "      <th>6</th>\n",
       "      <th>29</th>\n",
       "      <th>200.89.165.130</th>\n",
       "      <th>AR</th>\n",
       "      <td>0.004229</td>\n",
       "    </tr>\n",
       "    <tr>\n",
       "      <th>7</th>\n",
       "      <th>29</th>\n",
       "      <th>200.89.165.222</th>\n",
       "      <th>AR</th>\n",
       "      <td>0.000016</td>\n",
       "    </tr>\n",
       "    <tr>\n",
       "      <th>8</th>\n",
       "      <th>29</th>\n",
       "      <th>185.70.203.32</th>\n",
       "      <th>IT</th>\n",
       "      <td>0.000000</td>\n",
       "    </tr>\n",
       "    <tr>\n",
       "      <th>9</th>\n",
       "      <th>29</th>\n",
       "      <th>89.221.41.171</th>\n",
       "      <th>IT</th>\n",
       "      <td>0.124257</td>\n",
       "    </tr>\n",
       "    <tr>\n",
       "      <th>10</th>\n",
       "      <th>29</th>\n",
       "      <th>89.221.41.171</th>\n",
       "      <th>IT</th>\n",
       "      <td>0.008026</td>\n",
       "    </tr>\n",
       "    <tr>\n",
       "      <th>11</th>\n",
       "      <th>29</th>\n",
       "      <th>154.54.9.17</th>\n",
       "      <th>US</th>\n",
       "      <td>0.015686</td>\n",
       "    </tr>\n",
       "    <tr>\n",
       "      <th>12</th>\n",
       "      <th>29</th>\n",
       "      <th>154.54.24.233</th>\n",
       "      <th>US</th>\n",
       "      <td>0.000000</td>\n",
       "    </tr>\n",
       "    <tr>\n",
       "      <th>13</th>\n",
       "      <th>29</th>\n",
       "      <th>154.54.24.197</th>\n",
       "      <th>US</th>\n",
       "      <td>0.012098</td>\n",
       "    </tr>\n",
       "    <tr>\n",
       "      <th>14</th>\n",
       "      <th>29</th>\n",
       "      <th>154.54.24.221</th>\n",
       "      <th>US</th>\n",
       "      <td>0.000000</td>\n",
       "    </tr>\n",
       "    <tr>\n",
       "      <th>15</th>\n",
       "      <th>29</th>\n",
       "      <th>154.54.40.109</th>\n",
       "      <th>US</th>\n",
       "      <td>0.000000</td>\n",
       "    </tr>\n",
       "    <tr>\n",
       "      <th>16</th>\n",
       "      <th>29</th>\n",
       "      <th>154.54.42.86</th>\n",
       "      <th>US</th>\n",
       "      <td>0.108005</td>\n",
       "    </tr>\n",
       "    <tr>\n",
       "      <th>17</th>\n",
       "      <th>29</th>\n",
       "      <th>154.54.57.162</th>\n",
       "      <th>US</th>\n",
       "      <td>0.000000</td>\n",
       "    </tr>\n",
       "    <tr>\n",
       "      <th>18</th>\n",
       "      <th>29</th>\n",
       "      <th>130.117.2.110</th>\n",
       "      <th>NaN</th>\n",
       "      <td>0.000000</td>\n",
       "    </tr>\n",
       "    <tr>\n",
       "      <th>19</th>\n",
       "      <th>29</th>\n",
       "      <th>149.6.98.110</th>\n",
       "      <th>US</th>\n",
       "      <td>0.000000</td>\n",
       "    </tr>\n",
       "    <tr>\n",
       "      <th>20</th>\n",
       "      <th>29</th>\n",
       "      <th>31.15.113.2</th>\n",
       "      <th>IS</th>\n",
       "      <td>0.004276</td>\n",
       "    </tr>\n",
       "    <tr>\n",
       "      <th>21</th>\n",
       "      <th>29</th>\n",
       "      <th>31.15.113.1</th>\n",
       "      <th>IS</th>\n",
       "      <td>0.007953</td>\n",
       "    </tr>\n",
       "    <tr>\n",
       "      <th>22</th>\n",
       "      <th>29</th>\n",
       "      <th>31.15.115.41</th>\n",
       "      <th>IS</th>\n",
       "      <td>0.039959</td>\n",
       "    </tr>\n",
       "    <tr>\n",
       "      <th>23</th>\n",
       "      <th>29</th>\n",
       "      <th>176.10.35.233</th>\n",
       "      <th>IS</th>\n",
       "      <td>0.000000</td>\n",
       "    </tr>\n",
       "    <tr>\n",
       "      <th>24</th>\n",
       "      <th>29</th>\n",
       "      <th>176.10.35.234</th>\n",
       "      <th>IS</th>\n",
       "      <td>0.007116</td>\n",
       "    </tr>\n",
       "    <tr>\n",
       "      <th>25</th>\n",
       "      <th>29</th>\n",
       "      <th>185.118.33.147</th>\n",
       "      <th>IS</th>\n",
       "      <td>0.002361</td>\n",
       "    </tr>\n",
       "  </tbody>\n",
       "</table>\n",
       "<p>634 rows × 1 columns</p>\n",
       "</div>"
      ],
      "text/plain": [
       "                                             rtt\n",
       "host       ttl i  ip             cc             \n",
       "bifrost.is 1   0  empty          empty  0.000000\n",
       "           2   0  empty          empty  0.000000\n",
       "           3   0  empty          empty  0.000000\n",
       "           4   0  empty          empty  0.000000\n",
       "           5   0  200.89.161.133 AR     0.076023\n",
       "           6   0  200.89.165.130 AR     0.003693\n",
       "           7   0  200.89.165.222 AR     0.030208\n",
       "           8   0  185.70.203.32  IT     0.000000\n",
       "           9   0  89.221.41.171  IT     0.122046\n",
       "           10  0  89.221.41.171  IT     0.000000\n",
       "           11  0  154.54.9.17    US     0.003103\n",
       "           12  0  154.54.24.233  US     0.002802\n",
       "           13  0  154.54.24.197  US     0.001222\n",
       "           14  0  154.54.24.221  US     0.016301\n",
       "           15  0  154.54.40.109  US     0.011807\n",
       "           16  0  154.54.42.86   US     0.077076\n",
       "           17  0  154.54.57.162  US     0.011167\n",
       "           18  0  130.117.2.110  NaN    0.000000\n",
       "           19  0  149.6.98.110   US     0.000000\n",
       "           20  0  31.15.113.2    IS     0.013678\n",
       "           21  0  31.15.113.1    IS     0.051892\n",
       "           22  0  31.15.115.41   IS     0.000000\n",
       "           23  0  176.10.35.233  IS     0.000000\n",
       "           24  0  176.10.35.234  IS     0.011831\n",
       "           25  0  185.118.33.147 IS     0.014547\n",
       "           5   1  200.89.161.133 AR     0.061721\n",
       "           6   1  200.89.165.130 AR     0.011566\n",
       "           7   1  200.89.165.222 AR     0.006606\n",
       "           8   1  185.70.203.32  IT     0.000000\n",
       "           9   1  89.221.41.171  IT     0.120538\n",
       "...                                          ...\n",
       "           17  28 154.54.57.162  US     0.009475\n",
       "           18  28 130.117.2.110  NaN    0.000000\n",
       "           19  28 149.6.98.110   US     0.012017\n",
       "           20  28 31.15.113.2    IS     0.002095\n",
       "           21  28 31.15.113.1    IS     0.012013\n",
       "           22  28 31.15.115.41   IS     0.000000\n",
       "           23  28 176.10.35.233  IS     0.023097\n",
       "           24  28 176.10.35.234  IS     0.000000\n",
       "           25  28 185.118.33.147 IS     0.012142\n",
       "           5   29 200.89.161.133 AR     0.067714\n",
       "           6   29 200.89.165.130 AR     0.004229\n",
       "           7   29 200.89.165.222 AR     0.000016\n",
       "           8   29 185.70.203.32  IT     0.000000\n",
       "           9   29 89.221.41.171  IT     0.124257\n",
       "           10  29 89.221.41.171  IT     0.008026\n",
       "           11  29 154.54.9.17    US     0.015686\n",
       "           12  29 154.54.24.233  US     0.000000\n",
       "           13  29 154.54.24.197  US     0.012098\n",
       "           14  29 154.54.24.221  US     0.000000\n",
       "           15  29 154.54.40.109  US     0.000000\n",
       "           16  29 154.54.42.86   US     0.108005\n",
       "           17  29 154.54.57.162  US     0.000000\n",
       "           18  29 130.117.2.110  NaN    0.000000\n",
       "           19  29 149.6.98.110   US     0.000000\n",
       "           20  29 31.15.113.2    IS     0.004276\n",
       "           21  29 31.15.113.1    IS     0.007953\n",
       "           22  29 31.15.115.41   IS     0.039959\n",
       "           23  29 176.10.35.233  IS     0.000000\n",
       "           24  29 176.10.35.234  IS     0.007116\n",
       "           25  29 185.118.33.147 IS     0.002361\n",
       "\n",
       "[634 rows x 1 columns]"
      ]
     },
     "execution_count": 49,
     "metadata": {},
     "output_type": "execute_result"
    }
   ],
   "source": [
    "df = pd.read_csv('./df-csv/bifrost.is', header=None, names=['host','ttl','i','ip','cc','rtt'])\n",
    "indexed = df.set_index(['host','ttl','i','ip','cc'])\n",
    "indexed"
   ]
  },
  {
   "cell_type": "code",
   "execution_count": 90,
   "metadata": {
    "collapsed": false
   },
   "outputs": [],
   "source": [
    "#!/usr/bin/env python\n",
    "# coding: utf-8\n",
    "%matplotlib inline\n",
    "from __future__ import print_function, unicode_literals, with_statement\n",
    "import argparse\n",
    "import contextlib\n",
    "import requests\n",
    "import sys\n",
    "import csv\n",
    "import matplotlib\n",
    "# Anti-Grain Geometry (AGG) backend so PyGeoIpMap can be used 'headless'\n",
    "matplotlib.use('Agg')\n",
    "import matplotlib.pyplot as plt\n",
    "from mpl_toolkits.basemap import Basemap\n",
    "import pygeoip\n",
    "\n",
    "\n",
    "def get_ip(ip_file):\n",
    "    \"\"\"\n",
    "    Returns a list of IP addresses from a file containing one IP per line.\n",
    "    \"\"\"\n",
    "    with contextlib.closing(ip_file):\n",
    "        return [line.strip() for line in ip_file]\n",
    "\n",
    "\n",
    "def get_lat_lon(ip_list=[], lats=[], lons=[]):\n",
    "    \"\"\"\n",
    "    This function connects to the FreeGeoIP web service to get info from\n",
    "    a list of IP addresses.\n",
    "    Returns two lists (latitude and longitude).\n",
    "    \"\"\"\n",
    "    print(\"Processing {} IPs...\".format(len(ip_list)))\n",
    "    for ip in ip_list:\n",
    "        r = requests.get(\"https://freegeoip.net/json/\" + ip)\n",
    "        json_response = r.json()\n",
    "        print(\"{ip}, {region_name}, {country_name}, {latitude}, {longitude}\".format(**json_response))\n",
    "        if json_response['latitude'] and json_response['longitude']:\n",
    "            lats.append(json_response['latitude'])\n",
    "            lons.append(json_response['longitude'])\n",
    "    return lats, lons\n",
    "\n",
    "\n",
    "def geoip_lat_lon(gi, ip_list=[], lats=[], lons=[]):\n",
    "    \"\"\"\n",
    "    This function uses the MaxMind library and databases to geolocate IP addresses\n",
    "    Returns two lists (latitude and longitude).\n",
    "    \"\"\"\n",
    "    print(\"Processing {} IPs...\".format(len(ip_list)))\n",
    "    for ip in ip_list:\n",
    "        try:\n",
    "            r = gi.record_by_addr(ip)\n",
    "        except Exception:\n",
    "            print(\"Unable to locate IP: %s\" % ip)\n",
    "            continue\n",
    "        if r is not None:\n",
    "            print(\"%s {country_code} {latitude}, {longitude}\".format(**r) % ip)\n",
    "            lats.append(r['latitude'])\n",
    "            lons.append(r['longitude'])\n",
    "    return lats, lons\n",
    "\n",
    "\n",
    "def get_lat_lon_from_csv(csv_file, lats=[], lons=[]):\n",
    "    \"\"\"\n",
    "    Retrieves the last two rows of a CSV formatted file to use as latitude\n",
    "    and longitude.\n",
    "    Returns two lists (latitudes and longitudes).\n",
    "    Example CSV file:\n",
    "    119.80.39.54, Beijing, China, 39.9289, 116.3883\n",
    "    101.44.1.135, Shanghai, China, 31.0456, 121.3997\n",
    "    219.144.17.74, Xian, China, 34.2583, 108.9286\n",
    "    64.27.26.7, Los Angeles, United States, 34.053, -118.2642\n",
    "    \"\"\"\n",
    "    with contextlib.closing(csv_file):\n",
    "        reader = csv.reader(csv_file)\n",
    "        for row in reader:\n",
    "            lats.append(row[-2])\n",
    "            lons.append(row[-1])\n",
    "\n",
    "    return lats, lons\n",
    "\n",
    "\n",
    "def generate_map(output, lats=[], lons=[], wesn=None):\n",
    "    \"\"\"\n",
    "    Using Basemap and the matplotlib toolkit, this function generates a map and\n",
    "    puts a red dot at the location of every IP addresses found in the list.\n",
    "    The map is then saved in the file specified in `output`.\n",
    "    \"\"\"\n",
    "    \n",
    "    plt.clf()\n",
    "    print(\"Generating map and saving it to {}\".format(output))\n",
    "    if wesn:\n",
    "        wesn = [float(i) for i in wesn.split('/')]\n",
    "        m = Basemap(projection='cyl', resolution='l',\n",
    "                llcrnrlon=wesn[0], llcrnrlat=wesn[2],\n",
    "                urcrnrlon=wesn[1], urcrnrlat=wesn[3])\n",
    "    else:\n",
    "        m = Basemap(projection='cyl', resolution='l')\n",
    "    m.bluemarble()\n",
    "\n",
    "    x, y = m(lons, lats)\n",
    "    \n",
    "    m.plot(x, y, 40, 40, color='y')\n",
    "    m.scatter(x, y, s=3, color='#ff0000', marker='o', alpha=0.3) #, alpha=0.3\n",
    "    \n",
    "    plt.savefig(output, dpi=300, bbox_inches='tight')\n",
    "\n",
    "def graficar_ruta(ruta, nombre_imagen):\n",
    "    gi = pygeoip.GeoIP('GeoLiteCity.dat')\n",
    "    lats, lons = geoip_lat_lon(gi, ruta)\n",
    "    generate_map(nombre_imagen, lats, lons) #, wesn='-12/45/30/65'"
   ]
  },
  {
   "cell_type": "code",
   "execution_count": 91,
   "metadata": {
    "collapsed": false
   },
   "outputs": [
    {
     "ename": "NameError",
     "evalue": "name 'routeRespose' is not defined",
     "output_type": "error",
     "traceback": [
      "\u001b[0;31m---------------------------------------------------------------------------\u001b[0m",
      "\u001b[0;31mNameError\u001b[0m                                 Traceback (most recent call last)",
      "\u001b[0;32m<ipython-input-91-7b0823e44877>\u001b[0m in \u001b[0;36m<module>\u001b[0;34m()\u001b[0m\n\u001b[0;32m----> 1\u001b[0;31m \u001b[0mgraficar_ruta\u001b[0m\u001b[0;34m(\u001b[0m\u001b[0mrouteRespose\u001b[0m\u001b[0;34m,\u001b[0m \u001b[0;34m'salida.png'\u001b[0m\u001b[0;34m)\u001b[0m\u001b[0;34m\u001b[0m\u001b[0m\n\u001b[0m",
      "\u001b[0;31mNameError\u001b[0m: name 'routeRespose' is not defined"
     ]
    }
   ],
   "source": [
    "graficar_ruta(routeRespose, 'salida.png')"
   ]
  },
  {
   "cell_type": "code",
   "execution_count": 129,
   "metadata": {
    "collapsed": false
   },
   "outputs": [
    {
     "data": {
      "text/plain": [
       "u'US'"
      ]
     },
     "execution_count": 129,
     "metadata": {},
     "output_type": "execute_result"
    }
   ],
   "source": [
    "ipCountryCode('129.250.7.69')"
   ]
  },
  {
   "cell_type": "code",
   "execution_count": 64,
   "metadata": {
    "collapsed": false
   },
   "outputs": [
    {
     "data": {
      "text/plain": [
       "False"
      ]
     },
     "execution_count": 64,
     "metadata": {},
     "output_type": "execute_result"
    }
   ],
   "source": [
    "a = {}\n",
    "'s' in a"
   ]
  },
  {
   "cell_type": "code",
   "execution_count": 151,
   "metadata": {
    "collapsed": true
   },
   "outputs": [],
   "source": [
    "def f():\n",
    "    return 'hola', 'claudio'"
   ]
  },
  {
   "cell_type": "code",
   "execution_count": 152,
   "metadata": {
    "collapsed": true
   },
   "outputs": [],
   "source": [
    "saludo, nombre = f()"
   ]
  },
  {
   "cell_type": "code",
   "execution_count": 153,
   "metadata": {
    "collapsed": false
   },
   "outputs": [
    {
     "data": {
      "text/plain": [
       "u'hola'"
      ]
     },
     "execution_count": 153,
     "metadata": {},
     "output_type": "execute_result"
    }
   ],
   "source": [
    "saludo"
   ]
  },
  {
   "cell_type": "code",
   "execution_count": 154,
   "metadata": {
    "collapsed": false
   },
   "outputs": [
    {
     "data": {
      "text/plain": [
       "u'claudio'"
      ]
     },
     "execution_count": 154,
     "metadata": {},
     "output_type": "execute_result"
    }
   ],
   "source": [
    "nombre"
   ]
  },
  {
   "cell_type": "code",
   "execution_count": 14,
   "metadata": {
    "collapsed": false
   },
   "outputs": [],
   "source": [
    "d = pd.DataFrame.from_csv('./df-csv/prueba.csv')"
   ]
  },
  {
   "cell_type": "code",
   "execution_count": 89,
   "metadata": {
    "collapsed": false
   },
   "outputs": [],
   "source": [
    "Basemap?"
   ]
  },
  {
   "cell_type": "code",
   "execution_count": null,
   "metadata": {
    "collapsed": true
   },
   "outputs": [],
   "source": []
  }
 ],
 "metadata": {
  "kernelspec": {
   "display_name": "Python 2",
   "language": "python",
   "name": "python2"
  },
  "language_info": {
   "codemirror_mode": {
    "name": "ipython",
    "version": 2
   },
   "file_extension": ".py",
   "mimetype": "text/x-python",
   "name": "python",
   "nbconvert_exporter": "python",
   "pygments_lexer": "ipython2",
   "version": "2.7.6"
  }
 },
 "nbformat": 4,
 "nbformat_minor": 1
}
