{
 "cells": [
  {
   "cell_type": "code",
   "execution_count": 22,
   "metadata": {
    "collapsed": false
   },
   "outputs": [],
   "source": [
    "# coding=utf-8\n",
    "import math\n",
    "from scapy.all import *\n",
    "import matplotlib.pyplot as plt\n",
    "import numpy as np\n",
    "import time\n",
    "import pandas as pd\n",
    "from scipy.stats import t\n",
    "from math import sqrt\n",
    "from math import pow\n",
    "\n",
    "hosts = dict([('www.easternct.edu','149.152.33.32'), ('web.mit.edu','23.197.229.238')])\n",
    "\n",
    "DEFAULT_RTT_VALUE = 0\n",
    "\n",
    "ATTEMPS = 30"
   ]
  },
  {
   "cell_type": "code",
   "execution_count": 23,
   "metadata": {
    "collapsed": true
   },
   "outputs": [],
   "source": [
    "def modified_thompson(n):\n",
    "    alpha = 0.025\n",
    "    t_critical = t.ppf(1-alpha, n-2)\n",
    "    return (t_critical*(n-1)) / (sqrt(n) * sqrt(n-2 + pow(t_critical,2)))  "
   ]
  },
  {
   "cell_type": "code",
   "execution_count": 24,
   "metadata": {
    "collapsed": true
   },
   "outputs": [],
   "source": [
    "def enviar_paquete(host, time_to_live):\n",
    "    packet = IP(dst=host, ttl=time_to_live) / ICMP()\n",
    "    res = sr(packet, timeout=1, verbose=0)\n",
    "    return res[0][ICMP]"
   ]
  },
  {
   "cell_type": "code",
   "execution_count": 25,
   "metadata": {
    "collapsed": true
   },
   "outputs": [],
   "source": [
    "def route(df):\n",
    "    return df[df['ip'] != 'empty']['ip'].unique()"
   ]
  },
  {
   "cell_type": "code",
   "execution_count": 26,
   "metadata": {
    "collapsed": false
   },
   "outputs": [],
   "source": [
    "def trace_route(hosts):\n",
    "    \n",
    "    hops = []\n",
    "\n",
    "    for host in hosts:\n",
    "        ttl_without_response = []\n",
    "        ip = hosts[host]\n",
    "        for i in range(0,ATTEMPS):\n",
    "            tipo = 11\n",
    "            ttl = 1\n",
    "            last_rtt = 0\n",
    "            while (tipo!=0 and ttl < 30):\n",
    "                if (not ttl in ttl_without_response):\n",
    "                    ti = time.time()\n",
    "                    res1 = enviar_paquete(ip, ttl)\n",
    "                    tf = time.time()\n",
    "                    rtt = tf-ti\n",
    "                    if (len(res1) > 0):\n",
    "                        tipo = res1[0][1].type\n",
    "                        src = res1[0][1].src\n",
    "                        if (tipo > 0):\n",
    "                            hops.append([host,ttl,i,src,max(0,rtt-last_rtt)])\n",
    "                        else:\n",
    "                            hops.append([host,ttl,i,src,rtt-last_rtt])\n",
    "                        last_rtt = rtt\n",
    "                    else:\n",
    "                        hops.append([host,ttl,i,\"empty\",DEFAULT_RTT_VALUE])\n",
    "                        ttl_without_response.append(ttl)\n",
    "                ttl = ttl + 1\n",
    "\n",
    "    hops_info = pd.DataFrame(hops,columns=['host','ttl','i','ip','rtt'])\n",
    "    return hops_info"
   ]
  },
  {
   "cell_type": "code",
   "execution_count": 27,
   "metadata": {
    "collapsed": false
   },
   "outputs": [],
   "source": [
    "df = trace_route(dict([('www.uae.ma','159.253.148.195')]))"
   ]
  },
  {
   "cell_type": "code",
   "execution_count": 28,
   "metadata": {
    "collapsed": false,
    "scrolled": true
   },
   "outputs": [
    {
     "data": {
      "text/html": [
       "<div>\n",
       "<table border=\"1\" class=\"dataframe\">\n",
       "  <thead>\n",
       "    <tr style=\"text-align: right;\">\n",
       "      <th></th>\n",
       "      <th></th>\n",
       "      <th></th>\n",
       "      <th>rtt</th>\n",
       "    </tr>\n",
       "    <tr>\n",
       "      <th>host</th>\n",
       "      <th>ttl</th>\n",
       "      <th>ip</th>\n",
       "      <th></th>\n",
       "    </tr>\n",
       "  </thead>\n",
       "  <tbody>\n",
       "    <tr>\n",
       "      <th>www.uae.ma</th>\n",
       "      <th>1</th>\n",
       "      <th>192.168.0.1</th>\n",
       "      <td>5.388159</td>\n",
       "    </tr>\n",
       "  </tbody>\n",
       "</table>\n",
       "</div>"
      ],
      "text/plain": [
       "                                 rtt\n",
       "host       ttl ip                   \n",
       "www.uae.ma 1   192.168.0.1  5.388159"
      ]
     },
     "execution_count": 28,
     "metadata": {},
     "output_type": "execute_result"
    }
   ],
   "source": [
    "df_indexed = df.set_index(['host','ttl','i','ip'])\n",
    "rtt = df_indexed.groupby(level=['host','ttl','ip']).mean()\n",
    "descriptions = rtt.describe().T\n",
    "mean = descriptions['mean']\n",
    "std = descriptions['std']\n",
    "zrtt = abs(rtt-mean)/std\n",
    "n = len(zrtt)\n",
    "thomson_value = modified_thompson(n)\n",
    "#print rtt\n",
    "zrtt[zrtt['rtt'] > thomson_value]"
   ]
  },
  {
   "cell_type": "code",
   "execution_count": 30,
   "metadata": {
    "collapsed": false
   },
   "outputs": [
    {
     "data": {
      "text/plain": [
       "array(['192.168.0.1', '10.21.128.1', '100.72.1.77'], dtype=object)"
      ]
     },
     "execution_count": 30,
     "metadata": {},
     "output_type": "execute_result"
    }
   ],
   "source": [
    "route(df)\n"
   ]
  },
  {
   "cell_type": "code",
   "execution_count": 18,
   "metadata": {
    "collapsed": true
   },
   "outputs": [],
   "source": [
    "#!/usr/bin/env python\n",
    "# coding: utf-8\n",
    "\n",
    "from __future__ import print_function, unicode_literals, with_statement\n",
    "import argparse\n",
    "import contextlib\n",
    "import requests\n",
    "import sys\n",
    "import csv\n",
    "import matplotlib\n",
    "# Anti-Grain Geometry (AGG) backend so PyGeoIpMap can be used 'headless'\n",
    "matplotlib.use('Agg')\n",
    "import matplotlib.pyplot as plt\n",
    "from mpl_toolkits.basemap import Basemap\n",
    "import pygeoip\n",
    "\n",
    "\n",
    "def get_ip(ip_file):\n",
    "    \"\"\"\n",
    "    Returns a list of IP addresses from a file containing one IP per line.\n",
    "    \"\"\"\n",
    "    with contextlib.closing(ip_file):\n",
    "        return [line.strip() for line in ip_file]\n",
    "\n",
    "\n",
    "def get_lat_lon(ip_list=[], lats=[], lons=[]):\n",
    "    \"\"\"\n",
    "    This function connects to the FreeGeoIP web service to get info from\n",
    "    a list of IP addresses.\n",
    "    Returns two lists (latitude and longitude).\n",
    "    \"\"\"\n",
    "    print(\"Processing {} IPs...\".format(len(ip_list)))\n",
    "    for ip in ip_list:\n",
    "        r = requests.get(\"https://freegeoip.net/json/\" + ip)\n",
    "        json_response = r.json()\n",
    "        print(\"{ip}, {region_name}, {country_name}, {latitude}, {longitude}\".format(**json_response))\n",
    "        if json_response['latitude'] and json_response['longitude']:\n",
    "            lats.append(json_response['latitude'])\n",
    "            lons.append(json_response['longitude'])\n",
    "    return lats, lons\n",
    "\n",
    "\n",
    "def geoip_lat_lon(gi, ip_list=[], lats=[], lons=[]):\n",
    "    \"\"\"\n",
    "    This function uses the MaxMind library and databases to geolocate IP addresses\n",
    "    Returns two lists (latitude and longitude).\n",
    "    \"\"\"\n",
    "    print(\"Processing {} IPs...\".format(len(ip_list)))\n",
    "    for ip in ip_list:\n",
    "        try:\n",
    "            r = gi.record_by_addr(ip)\n",
    "        except Exception:\n",
    "            print(\"Unable to locate IP: %s\" % ip)\n",
    "            continue\n",
    "        if r is not None:\n",
    "            print(\"%s {country_code} {latitude}, {longitude}\".format(**r) % ip)\n",
    "            lats.append(r['latitude'])\n",
    "            lons.append(r['longitude'])\n",
    "    return lats, lons\n",
    "\n",
    "\n",
    "def get_lat_lon_from_csv(csv_file, lats=[], lons=[]):\n",
    "    \"\"\"\n",
    "    Retrieves the last two rows of a CSV formatted file to use as latitude\n",
    "    and longitude.\n",
    "    Returns two lists (latitudes and longitudes).\n",
    "    Example CSV file:\n",
    "    119.80.39.54, Beijing, China, 39.9289, 116.3883\n",
    "    101.44.1.135, Shanghai, China, 31.0456, 121.3997\n",
    "    219.144.17.74, Xian, China, 34.2583, 108.9286\n",
    "    64.27.26.7, Los Angeles, United States, 34.053, -118.2642\n",
    "    \"\"\"\n",
    "    with contextlib.closing(csv_file):\n",
    "        reader = csv.reader(csv_file)\n",
    "        for row in reader:\n",
    "            lats.append(row[-2])\n",
    "            lons.append(row[-1])\n",
    "\n",
    "    return lats, lons\n",
    "\n",
    "\n",
    "def generate_map(output, lats=[], lons=[], wesn=None):\n",
    "    \"\"\"\n",
    "    Using Basemap and the matplotlib toolkit, this function generates a map and\n",
    "    puts a red dot at the location of every IP addresses found in the list.\n",
    "    The map is then saved in the file specified in `output`.\n",
    "    \"\"\"\n",
    "    \n",
    "    plt.clf()\n",
    "    print(\"Generating map and saving it to {}\".format(output))\n",
    "    if wesn:\n",
    "        wesn = [float(i) for i in wesn.split('/')]\n",
    "        m = Basemap(projection='cyl', resolution='l',\n",
    "                llcrnrlon=wesn[0], llcrnrlat=wesn[2],\n",
    "                urcrnrlon=wesn[1], urcrnrlat=wesn[3])\n",
    "    else:\n",
    "        m = Basemap(projection='cyl', resolution='l')\n",
    "    m.bluemarble()\n",
    "\n",
    "    x, y = m(lons, lats)\n",
    "    \n",
    "    m.plot(x, y, 40, 40, color='y')\n",
    "    m.scatter(x, y, s=3, color='#ff0000', marker='o', alpha=0.3) #, alpha=0.3\n",
    "\n",
    "    plt.savefig(output, dpi=300, bbox_inches='tight')\n",
    "\n",
    "def graficar_ruta(ruta, nombre_imagen):\n",
    "    gi = pygeoip.GeoIP('GeoLiteCity.dat')\n",
    "    lats, lons = geoip_lat_lon(gi, ruta)\n",
    "    generate_map(nombre_imagen, lats, lons) #, wesn='-12/45/30/65'"
   ]
  },
  {
   "cell_type": "code",
   "execution_count": 21,
   "metadata": {
    "collapsed": false
   },
   "outputs": [
    {
     "name": "stdout",
     "output_type": "stream",
     "text": [
      "Processing 13 IPs...\n",
      "200.89.161.129 AR -34.6006, -58.4887\n",
      "200.89.165.250 AR -34.6006, -58.4887\n",
      "195.22.219.3 IT 43.1479, 12.1097\n",
      "149.3.181.65 IT 43.1479, 12.1097\n",
      "129.250.2.227 US 39.6237, -104.8738\n",
      "129.250.2.19 US 39.6237, -104.8738\n",
      "129.250.4.141 US 39.6237, -104.8738\n",
      "129.250.6.8 US 39.6237, -104.8738\n",
      "81.25.207.146 GB 51.5092, -0.0955\n",
      "50.97.18.211 US 47.6062, -122.3321\n",
      "50.97.18.249 US 47.6062, -122.3321\n",
      "159.253.158.131 NL 52.35, 4.9167\n",
      "159.253.148.195 NL 52.35, 4.9167\n",
      "Generating map and saving it to salida.png\n"
     ]
    }
   ],
   "source": [
    "lista_trace_nuestro = ['200.89.161.129', '200.89.165.250', '195.22.219.3', '149.3.181.65',\n",
    "       '129.250.2.227', '129.250.2.19', '129.250.4.141', '129.250.6.8',\n",
    "       '81.25.207.146', '50.97.18.211', '50.97.18.249', '159.253.158.131',\n",
    "       '159.253.148.195']\n",
    "\n",
    "\n",
    "graficar_ruta(lista_trace_nuestro, 'salida.png')"
   ]
  }
 ],
 "metadata": {
  "kernelspec": {
   "display_name": "Python 2",
   "language": "python",
   "name": "python2"
  },
  "language_info": {
   "codemirror_mode": {
    "name": "ipython",
    "version": 2
   },
   "file_extension": ".py",
   "mimetype": "text/x-python",
   "name": "python",
   "nbconvert_exporter": "python",
   "pygments_lexer": "ipython2",
   "version": "2.7.12"
  }
 },
 "nbformat": 4,
 "nbformat_minor": 1
}
