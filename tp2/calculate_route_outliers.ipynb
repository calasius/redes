{
 "cells": [
  {
   "cell_type": "code",
   "execution_count": 187,
   "metadata": {
    "collapsed": false
   },
   "outputs": [],
   "source": [
    "# coding=utf-8\n",
    "import math\n",
    "from scapy.all import *\n",
    "import matplotlib.pyplot as plt\n",
    "import numpy as np\n",
    "import time\n",
    "import pandas as pd\n",
    "from scipy.stats import t\n",
    "from math import sqrt\n",
    "from math import pow\n",
    "import requests\n",
    "import os\n",
    "import IP2Location\n",
    "import matplotlib.patches as mpatches\n",
    "\n",
    "IP_SERVICE_URL = 'https://freegeoip.net/json/{}'\n",
    "\n",
    "#hosts = dict([('www.uq.edu.au','130.102.131.70'),('udsu.ru', '94.25.116.37'), ('site.u.pereslavl.ru','95.129.137.162'),('www.kstu.kz','85.29.137.233'), ('keu.kz','46.235.86.164'), ('unak.is','130.208.224.102'),('www.fu-berlin.de','160.45.170.10'),('kgiu.kz','195.210.46.14'),('www.uae.ma','159.253.148.195'),('unis.no','158.39.149.250'),('bifrost.is','185.118.33.147'),('birmingham.ac.uk','147.188.218.91')])\n",
    "hosts = dict([('auckland.ac.nz', '130.216.159.127'), ('invertisuniversity.ac.in','103.241.146.22'), ('iups.edu', '23.236.62.147'),('realtyuniversal.com', '69.16.226.127')])\n",
    "api_key = '49f2da642556dfd205946d37e9e7ebbd61d1e74ea737f153b597c212ea80302e'\n",
    "\n",
    "DEFAULT_RTT_VALUE = 0\n",
    "\n",
    "ATTEMPS = 30"
   ]
  },
  {
   "cell_type": "code",
   "execution_count": 188,
   "metadata": {
    "collapsed": false
   },
   "outputs": [],
   "source": [
    "from __future__ import print_function, unicode_literals, with_statement\n",
    "import argparse\n",
    "import contextlib\n",
    "import requests\n",
    "import sys\n",
    "import csv\n",
    "import matplotlib\n",
    "# Anti-Grain Geometry (AGG) backend so PyGeoIpMap can be used 'headless'\n",
    "matplotlib.use('Agg')\n",
    "import matplotlib.pyplot as plt\n",
    "from mpl_toolkits.basemap import Basemap\n",
    "import pygeoip\n",
    "\n",
    "\n",
    "def get_ip(ip_file):\n",
    "    \"\"\"\n",
    "    Returns a list of IP addresses from a file containing one IP per line.\n",
    "    \"\"\"\n",
    "    with contextlib.closing(ip_file):\n",
    "        return [line.strip() for line in ip_file]\n",
    "\n",
    "\n",
    "def get_lat_lon(ip_list=[], lats=[], lons=[]):\n",
    "    \"\"\"\n",
    "    This function connects to the FreeGeoIP web service to get info from\n",
    "    a list of IP addresses.\n",
    "    Returns two lists (latitude and longitude).\n",
    "    \"\"\"\n",
    "    for ip in ip_list:\n",
    "        r = requests.get(\"https://freegeoip.net/json/\" + ip)\n",
    "        json_response = r.json()\n",
    "        if json_response['latitude'] and json_response['longitude']:\n",
    "            print (\"ip = {} lat = {} long = {}\".format(ip, json_response['latitude'],json_response['longitude']))\n",
    "            lats.append(json_response['latitude'])\n",
    "            lons.append(json_response['longitude'])\n",
    "    return lats, lons\n",
    "\n",
    "\n",
    "def geoip_lat_lon(gi, ip_list):\n",
    "    \"\"\"\n",
    "    This function uses the MaxMind library and databases to geolocate IP addresses\n",
    "    Returns two lists (latitude and longitude).\n",
    "    \"\"\"\n",
    "    lats=[]\n",
    "    lons=[]\n",
    "    for ip in ip_list:\n",
    "        try:\n",
    "            r = gi.record_by_addr(ip)\n",
    "        except Exception:\n",
    "            print(\"Unable to locate IP: %s\" % ip)\n",
    "            continue\n",
    "        if r is not None:\n",
    "            lats.append(r['latitude'])\n",
    "            lons.append(r['longitude'])\n",
    "    return lats, lons\n",
    "\n",
    "\n",
    "def get_lat_lon_from_csv(csv_file, lats=[], lons=[]):\n",
    "    \"\"\"\n",
    "    Retrieves the last two rows of a CSV formatted file to use as latitude\n",
    "    and longitude.\n",
    "    Returns two lists (latitudes and longitudes).\n",
    "    Example CSV file:\n",
    "    119.80.39.54, Beijing, China, 39.9289, 116.3883\n",
    "    101.44.1.135, Shanghai, China, 31.0456, 121.3997\n",
    "    219.144.17.74, Xian, China, 34.2583, 108.9286\n",
    "    64.27.26.7, Los Angeles, United States, 34.053, -118.2642\n",
    "    \"\"\"\n",
    "    with contextlib.closing(csv_file):\n",
    "        reader = csv.reader(csv_file)\n",
    "        for row in reader:\n",
    "            lats.append(row[-2])\n",
    "            lons.append(row[-1])\n",
    "\n",
    "    return lats, lons\n",
    "\n",
    "\n",
    "def generate_map(output, lats=[], lons=[], wesn=None):\n",
    "    \"\"\"\n",
    "    Using Basemap and the matplotlib toolkit, this function generates a map and\n",
    "    puts a red dot at the location of every IP addresses found in the list.\n",
    "    The map is then saved in the file specified in `output`.\n",
    "    \"\"\"\n",
    "    \n",
    "    plt.close('all')\n",
    "    print(\"Generating map and saving it to {}\".format(output))\n",
    "    if wesn:\n",
    "        wesn = [float(i) for i in wesn.split('/')]\n",
    "        m = Basemap(projection='cyl', resolution='l',\n",
    "                llcrnrlon=wesn[0], llcrnrlat=wesn[2],\n",
    "                urcrnrlon=wesn[1], urcrnrlat=wesn[3])\n",
    "    else:\n",
    "        m = Basemap(projection='cyl', resolution='l')\n",
    "    m.bluemarble()\n",
    "\n",
    "    x, y = m(lons, lats)\n",
    "    \n",
    "    m.plot(x, y, 40, 40, color='y')\n",
    "    m.scatter(x, y, s=3, color='#ff0000', marker='o', alpha=0.3) #, alpha=0.3\n",
    "    plt.savefig(output, dpi=300, bbox_inches='tight')\n",
    "    plt.close('all')\n",
    "\n",
    "def graficar_ruta(ruta, nombre_imagen):\n",
    "    gi = pygeoip.GeoIP('GeoLiteCity.dat')\n",
    "    lats, lons = geoip_lat_lon(gi,ruta)\n",
    "    generate_map(nombre_imagen, lats, lons) #, wesn='-12/45/30/65'"
   ]
  },
  {
   "cell_type": "code",
   "execution_count": 189,
   "metadata": {
    "collapsed": true
   },
   "outputs": [],
   "source": [
    "def toLatex(df):\n",
    "    from IPython.display import Latex\n",
    "    return Latex(df.to_latex())"
   ]
  },
  {
   "cell_type": "code",
   "execution_count": 190,
   "metadata": {
    "collapsed": true
   },
   "outputs": [],
   "source": [
    "def ipCountryCode(ip):    \n",
    "    resp = requests.get(IP_SERVICE_URL.format(ip))\n",
    "    if resp.status_code != 200:\n",
    "        raise ApiError('GET /tasks/ {}'.format(resp.status_code))\n",
    "    return resp.json()['country_code']"
   ]
  },
  {
   "cell_type": "code",
   "execution_count": 191,
   "metadata": {
    "collapsed": true
   },
   "outputs": [],
   "source": [
    "def modified_thompson(n):\n",
    "    alpha = 0.025\n",
    "    t_critical = t.ppf(1-alpha, n-2)\n",
    "    return (t_critical*(n-1)) / (sqrt(n) * sqrt(n-2 + pow(t_critical,2)))  "
   ]
  },
  {
   "cell_type": "code",
   "execution_count": 192,
   "metadata": {
    "collapsed": true
   },
   "outputs": [],
   "source": [
    "def enviar_paquete(host, time_to_live):\n",
    "    packet = IP(dst=host, ttl=time_to_live) / ICMP()\n",
    "    res = sr(packet, timeout=1, verbose=0)\n",
    "    return res[0][ICMP]"
   ]
  },
  {
   "cell_type": "code",
   "execution_count": 193,
   "metadata": {
    "collapsed": true
   },
   "outputs": [],
   "source": [
    "def route(df):\n",
    "    return df[df['ip'] != 'empty']['ip'].unique()"
   ]
  },
  {
   "cell_type": "code",
   "execution_count": 194,
   "metadata": {
    "collapsed": true
   },
   "outputs": [],
   "source": [
    "def calculateOutliers(rtt_df):\n",
    "    descriptions = rtt_df.describe().T\n",
    "    mean = descriptions['mean']\n",
    "    std = descriptions['std']\n",
    "    zrtt = (rtt_df-mean)/std\n",
    "    n = len(zrtt)\n",
    "    thomson_value = modified_thompson(n)\n",
    "    abszrtt = abs(zrtt)\n",
    "    return abszrtt[abszrtt['rtt'] > thomson_value], zrtt, thomson_value"
   ]
  },
  {
   "cell_type": "code",
   "execution_count": 197,
   "metadata": {
    "collapsed": false
   },
   "outputs": [],
   "source": [
    "def trace_route(hosts):\n",
    "    \n",
    "    ips_countrycode = {}\n",
    "    df_list = []\n",
    "    rtt_df_list = []\n",
    "    outliers_df_list = []\n",
    "    zrtt_df_list = []\n",
    "\n",
    "    for host in hosts:\n",
    "        hops = []\n",
    "        ttl_without_response = []\n",
    "        ip = hosts[host]\n",
    "        for i in range(0,ATTEMPS):\n",
    "            tipo = 11\n",
    "            ttl = 1\n",
    "            last_rtt = 0\n",
    "            while (tipo!=0 and ttl < 30):\n",
    "                if (not ttl in ttl_without_response):\n",
    "                    ti = time.time()\n",
    "                    res1 = enviar_paquete(ip, ttl)\n",
    "                    tf = time.time()\n",
    "                    rtt = tf-ti\n",
    "                    if (len(res1) > 0):\n",
    "                        tipo = res1[0][1].type\n",
    "                        src = res1[0][1].src\n",
    "                        countryCode = None\n",
    "                        if(src in ips_countrycode):\n",
    "                            countryCode = ips_countrycode[src]\n",
    "                        else:\n",
    "                            countryCode = ipCountryCode(src)\n",
    "                            ips_countrycode[src] = countryCode\n",
    "                        if (tipo > 0):\n",
    "                            hops.append([host,ttl,i,src,countryCode, max(0,rtt-last_rtt)])\n",
    "                        else:\n",
    "                            hops.append([host,ttl,i,src,countryCode, max(0,rtt-last_rtt)])\n",
    "                        last_rtt = rtt\n",
    "                    else:\n",
    "                        hops.append([host,ttl,i,\"empty\",\"empty\",DEFAULT_RTT_VALUE])\n",
    "                        ttl_without_response.append(ttl)\n",
    "                ttl = ttl + 1\n",
    "\n",
    "        df = pd.DataFrame(hops,columns=['host','ttl','i','ip','cc','rtt'])\n",
    "        indexed = df.set_index(['host','ttl','i','ip','cc'])\n",
    "        rtt_df = indexed.groupby(level=['host','ttl','ip','cc']).mean()\n",
    "        outliers_df, zrtt_df, thompson_value = calculateOutliers(rtt_df)\n",
    "        rtt_df_list.append(rtt_df)\n",
    "        outliers_df_list.append(outliers_df)\n",
    "        zrtt_df_list.append(zrtt_df)\n",
    "        df_list.append(df)\n",
    "        graficar_ruta(route(df),'route[{}].png'.format(host))\n",
    "    \n",
    "    return df_list, rtt_df_list, outliers_df_list, zrtt_df_list"
   ]
  },
  {
   "cell_type": "markdown",
   "metadata": {},
   "source": [
    "# No ejecutar esto"
   ]
  },
  {
   "cell_type": "code",
   "execution_count": 198,
   "metadata": {
    "collapsed": false,
    "scrolled": true
   },
   "outputs": [
    {
     "name": "stdout",
     "output_type": "stream",
     "text": [
      "Generating map and saving it to route[invertisuniversity.ac.in].png\n",
      "Generating map and saving it to route[auckland.ac.nz].png\n",
      "Generating map and saving it to route[realtyuniversal.com].png\n",
      "Generating map and saving it to route[iups.edu].png\n",
      "CPU times: user 51.3 s, sys: 23.1 s, total: 1min 14s\n",
      "Wall time: 13min 18s\n"
     ]
    }
   ],
   "source": [
    "%%time\n",
    "df_list, rtt_df_list, outliers_df_list, zrtt_df_list = trace_route(hosts)"
   ]
  },
  {
   "cell_type": "markdown",
   "metadata": {},
   "source": [
    "# Guardo los archivos cvs"
   ]
  },
  {
   "cell_type": "code",
   "execution_count": 199,
   "metadata": {
    "collapsed": false
   },
   "outputs": [],
   "source": [
    "for df in df_list:\n",
    "    host = df['host'].unique()[0]\n",
    "    df.to_csv('./df-csv/'+host, index=False, header=None)"
   ]
  },
  {
   "cell_type": "markdown",
   "metadata": {},
   "source": [
    "# Leo los archivos  csv y creo los dataframe"
   ]
  },
  {
   "cell_type": "code",
   "execution_count": 200,
   "metadata": {
    "collapsed": false
   },
   "outputs": [],
   "source": [
    "from os import listdir\n",
    "\n",
    "def readDataFrames():\n",
    "    df_map = {}\n",
    "    rtt_df_map = {}\n",
    "    outliers_df_map = {}\n",
    "    zrtt_df_map = {}\n",
    "    thompson_value_map = {}\n",
    "\n",
    "    for host in listdir('./df-csv'):\n",
    "        df = pd.read_csv('./df-csv/'+host, header=None, names=['host','ttl','i','ip','cc','rtt'])\n",
    "        df_map[host] = df\n",
    "        indexed = df.set_index(['host','ttl','i','ip','cc'])\n",
    "        rtt_df = indexed.groupby(level=['host','ttl','ip','cc']).mean()\n",
    "        outliers_df, zrtt_df, thompson_value = calculateOutliers(rtt_df)\n",
    "        outliers_df_map[host] = outliers_df\n",
    "        zrtt_df_map[host] = zrtt_df\n",
    "        rtt_df_map[host] = rtt_df\n",
    "        thompson_value_map[host] = thompson_value\n",
    "\n",
    "    return df_map, rtt_df_map, outliers_df_map, zrtt_df_map, thompson_value_map\n"
   ]
  },
  {
   "cell_type": "code",
   "execution_count": 201,
   "metadata": {
    "collapsed": true
   },
   "outputs": [],
   "source": [
    "def graficarTodasLasCorridas(df_map):\n",
    "    for host in df_map:\n",
    "        graficar_ruta(route(df_map[host]), './grafico-rutas/'+host+'.png')"
   ]
  },
  {
   "cell_type": "code",
   "execution_count": 202,
   "metadata": {
    "collapsed": false
   },
   "outputs": [],
   "source": [
    "df_map, rtt_df_map, outliers_df_map, zrtt_df_map, thompson_value_map = readDataFrames()"
   ]
  },
  {
   "cell_type": "code",
   "execution_count": 203,
   "metadata": {
    "collapsed": false,
    "scrolled": false
   },
   "outputs": [
    {
     "name": "stdout",
     "output_type": "stream",
     "text": [
      "Generating map and saving it to ./grafico-rutas/www.uq.edu.au.png\n",
      "Generating map and saving it to ./grafico-rutas/unis.no.png\n",
      "Generating map and saving it to ./grafico-rutas/udsu.ru.png\n",
      "Generating map and saving it to ./grafico-rutas/www.kstu.kz.png\n",
      "Generating map and saving it to ./grafico-rutas/auckland.ac.nz.png\n",
      "Generating map and saving it to ./grafico-rutas/keu.kz.png\n",
      "Generating map and saving it to ./grafico-rutas/bifrost.is.png\n",
      "Generating map and saving it to ./grafico-rutas/unak.is.png\n",
      "Generating map and saving it to ./grafico-rutas/site.u.pereslavl.ru.png\n",
      "Generating map and saving it to ./grafico-rutas/www.uae.ma.png\n",
      "Generating map and saving it to ./grafico-rutas/www.fu-berlin.de.png\n",
      "Generating map and saving it to ./grafico-rutas/iups.edu.png\n",
      "Generating map and saving it to ./grafico-rutas/invertisuniversity.ac.in.png\n",
      "Generating map and saving it to ./grafico-rutas/kgiu.kz.png\n",
      "Generating map and saving it to ./grafico-rutas/realtyuniversal.com.png\n",
      "Generating map and saving it to ./grafico-rutas/birmingham.ac.uk.png\n"
     ]
    }
   ],
   "source": [
    "graficarTodasLasCorridas(df_map)"
   ]
  },
  {
   "cell_type": "code",
   "execution_count": 204,
   "metadata": {
    "collapsed": false,
    "scrolled": true
   },
   "outputs": [
    {
     "data": {
      "text/html": [
       "<div>\n",
       "<table border=\"1\" class=\"dataframe\">\n",
       "  <thead>\n",
       "    <tr style=\"text-align: right;\">\n",
       "      <th></th>\n",
       "      <th></th>\n",
       "      <th></th>\n",
       "      <th></th>\n",
       "      <th>rtt</th>\n",
       "    </tr>\n",
       "    <tr>\n",
       "      <th>host</th>\n",
       "      <th>ttl</th>\n",
       "      <th>ip</th>\n",
       "      <th>cc</th>\n",
       "      <th></th>\n",
       "    </tr>\n",
       "  </thead>\n",
       "  <tbody>\n",
       "    <tr>\n",
       "      <th rowspan=\"29\" valign=\"top\">auckland.ac.nz</th>\n",
       "      <th>1</th>\n",
       "      <th>empty</th>\n",
       "      <th>empty</th>\n",
       "      <td>0.000000</td>\n",
       "    </tr>\n",
       "    <tr>\n",
       "      <th>2</th>\n",
       "      <th>empty</th>\n",
       "      <th>empty</th>\n",
       "      <td>0.000000</td>\n",
       "    </tr>\n",
       "    <tr>\n",
       "      <th>3</th>\n",
       "      <th>empty</th>\n",
       "      <th>empty</th>\n",
       "      <td>0.000000</td>\n",
       "    </tr>\n",
       "    <tr>\n",
       "      <th>4</th>\n",
       "      <th>empty</th>\n",
       "      <th>empty</th>\n",
       "      <td>0.000000</td>\n",
       "    </tr>\n",
       "    <tr>\n",
       "      <th>5</th>\n",
       "      <th>200.89.161.77</th>\n",
       "      <th>AR</th>\n",
       "      <td>0.076270</td>\n",
       "    </tr>\n",
       "    <tr>\n",
       "      <th>6</th>\n",
       "      <th>200.89.165.197</th>\n",
       "      <th>AR</th>\n",
       "      <td>0.009660</td>\n",
       "    </tr>\n",
       "    <tr>\n",
       "      <th>7</th>\n",
       "      <th>200.89.165.222</th>\n",
       "      <th>AR</th>\n",
       "      <td>0.010555</td>\n",
       "    </tr>\n",
       "    <tr>\n",
       "      <th>8</th>\n",
       "      <th>empty</th>\n",
       "      <th>empty</th>\n",
       "      <td>0.000000</td>\n",
       "    </tr>\n",
       "    <tr>\n",
       "      <th>9</th>\n",
       "      <th>67.17.94.249</th>\n",
       "      <th>US</th>\n",
       "      <td>0.116990</td>\n",
       "    </tr>\n",
       "    <tr>\n",
       "      <th>10</th>\n",
       "      <th>empty</th>\n",
       "      <th>empty</th>\n",
       "      <td>0.000000</td>\n",
       "    </tr>\n",
       "    <tr>\n",
       "      <th>11</th>\n",
       "      <th>empty</th>\n",
       "      <th>empty</th>\n",
       "      <td>0.000000</td>\n",
       "    </tr>\n",
       "    <tr>\n",
       "      <th>12</th>\n",
       "      <th>4.68.127.54</th>\n",
       "      <th>US</th>\n",
       "      <td>0.008144</td>\n",
       "    </tr>\n",
       "    <tr>\n",
       "      <th>13</th>\n",
       "      <th>129.250.4.250</th>\n",
       "      <th>US</th>\n",
       "      <td>0.008747</td>\n",
       "    </tr>\n",
       "    <tr>\n",
       "      <th>14</th>\n",
       "      <th>129.250.2.219</th>\n",
       "      <th>US</th>\n",
       "      <td>0.026343</td>\n",
       "    </tr>\n",
       "    <tr>\n",
       "      <th>15</th>\n",
       "      <th>129.250.7.69</th>\n",
       "      <th>US</th>\n",
       "      <td>0.013037</td>\n",
       "    </tr>\n",
       "    <tr>\n",
       "      <th>16</th>\n",
       "      <th>129.250.3.123</th>\n",
       "      <th>US</th>\n",
       "      <td>0.005543</td>\n",
       "    </tr>\n",
       "    <tr>\n",
       "      <th>17</th>\n",
       "      <th>204.1.253.166</th>\n",
       "      <th>US</th>\n",
       "      <td>0.045089</td>\n",
       "    </tr>\n",
       "    <tr>\n",
       "      <th>18</th>\n",
       "      <th>202.158.194.172</th>\n",
       "      <th>AU</th>\n",
       "      <td>0.120172</td>\n",
       "    </tr>\n",
       "    <tr>\n",
       "      <th>19</th>\n",
       "      <th>182.255.119.139</th>\n",
       "      <th>AU</th>\n",
       "      <td>0.014907</td>\n",
       "    </tr>\n",
       "    <tr>\n",
       "      <th>20</th>\n",
       "      <th>210.7.39.251</th>\n",
       "      <th>NZ</th>\n",
       "      <td>0.014551</td>\n",
       "    </tr>\n",
       "    <tr>\n",
       "      <th>21</th>\n",
       "      <th>210.7.39.178</th>\n",
       "      <th>NZ</th>\n",
       "      <td>0.004857</td>\n",
       "    </tr>\n",
       "    <tr>\n",
       "      <th>22</th>\n",
       "      <th>empty</th>\n",
       "      <th>empty</th>\n",
       "      <td>0.000000</td>\n",
       "    </tr>\n",
       "    <tr>\n",
       "      <th>23</th>\n",
       "      <th>empty</th>\n",
       "      <th>empty</th>\n",
       "      <td>0.000000</td>\n",
       "    </tr>\n",
       "    <tr>\n",
       "      <th>24</th>\n",
       "      <th>empty</th>\n",
       "      <th>empty</th>\n",
       "      <td>0.000000</td>\n",
       "    </tr>\n",
       "    <tr>\n",
       "      <th>25</th>\n",
       "      <th>empty</th>\n",
       "      <th>empty</th>\n",
       "      <td>0.000000</td>\n",
       "    </tr>\n",
       "    <tr>\n",
       "      <th>26</th>\n",
       "      <th>empty</th>\n",
       "      <th>empty</th>\n",
       "      <td>0.000000</td>\n",
       "    </tr>\n",
       "    <tr>\n",
       "      <th>27</th>\n",
       "      <th>empty</th>\n",
       "      <th>empty</th>\n",
       "      <td>0.000000</td>\n",
       "    </tr>\n",
       "    <tr>\n",
       "      <th>28</th>\n",
       "      <th>empty</th>\n",
       "      <th>empty</th>\n",
       "      <td>0.000000</td>\n",
       "    </tr>\n",
       "    <tr>\n",
       "      <th>29</th>\n",
       "      <th>empty</th>\n",
       "      <th>empty</th>\n",
       "      <td>0.000000</td>\n",
       "    </tr>\n",
       "  </tbody>\n",
       "</table>\n",
       "</div>"
      ],
      "text/plain": [
       "                                               rtt\n",
       "host           ttl ip              cc             \n",
       "auckland.ac.nz 1   empty           empty  0.000000\n",
       "               2   empty           empty  0.000000\n",
       "               3   empty           empty  0.000000\n",
       "               4   empty           empty  0.000000\n",
       "               5   200.89.161.77   AR     0.076270\n",
       "               6   200.89.165.197  AR     0.009660\n",
       "               7   200.89.165.222  AR     0.010555\n",
       "               8   empty           empty  0.000000\n",
       "               9   67.17.94.249    US     0.116990\n",
       "               10  empty           empty  0.000000\n",
       "               11  empty           empty  0.000000\n",
       "               12  4.68.127.54     US     0.008144\n",
       "               13  129.250.4.250   US     0.008747\n",
       "               14  129.250.2.219   US     0.026343\n",
       "               15  129.250.7.69    US     0.013037\n",
       "               16  129.250.3.123   US     0.005543\n",
       "               17  204.1.253.166   US     0.045089\n",
       "               18  202.158.194.172 AU     0.120172\n",
       "               19  182.255.119.139 AU     0.014907\n",
       "               20  210.7.39.251    NZ     0.014551\n",
       "               21  210.7.39.178    NZ     0.004857\n",
       "               22  empty           empty  0.000000\n",
       "               23  empty           empty  0.000000\n",
       "               24  empty           empty  0.000000\n",
       "               25  empty           empty  0.000000\n",
       "               26  empty           empty  0.000000\n",
       "               27  empty           empty  0.000000\n",
       "               28  empty           empty  0.000000\n",
       "               29  empty           empty  0.000000"
      ]
     },
     "execution_count": 204,
     "metadata": {},
     "output_type": "execute_result"
    }
   ],
   "source": [
    "rtt_df_map['auckland.ac.nz']"
   ]
  },
  {
   "cell_type": "code",
   "execution_count": 207,
   "metadata": {
    "collapsed": false,
    "scrolled": true
   },
   "outputs": [
    {
     "data": {
      "text/html": [
       "<div>\n",
       "<table border=\"1\" class=\"dataframe\">\n",
       "  <thead>\n",
       "    <tr style=\"text-align: right;\">\n",
       "      <th></th>\n",
       "      <th></th>\n",
       "      <th></th>\n",
       "      <th></th>\n",
       "      <th>rtt</th>\n",
       "    </tr>\n",
       "    <tr>\n",
       "      <th>host</th>\n",
       "      <th>ttl</th>\n",
       "      <th>ip</th>\n",
       "      <th>cc</th>\n",
       "      <th></th>\n",
       "    </tr>\n",
       "  </thead>\n",
       "  <tbody>\n",
       "    <tr>\n",
       "      <th rowspan=\"2\" valign=\"top\">auckland.ac.nz</th>\n",
       "      <th>9</th>\n",
       "      <th>67.17.94.249</th>\n",
       "      <th>US</th>\n",
       "      <td>3.078891</td>\n",
       "    </tr>\n",
       "    <tr>\n",
       "      <th>18</th>\n",
       "      <th>202.158.194.172</th>\n",
       "      <th>AU</th>\n",
       "      <td>3.176235</td>\n",
       "    </tr>\n",
       "  </tbody>\n",
       "</table>\n",
       "</div>"
      ],
      "text/plain": [
       "                                            rtt\n",
       "host           ttl ip              cc          \n",
       "auckland.ac.nz 9   67.17.94.249    US  3.078891\n",
       "               18  202.158.194.172 AU  3.176235"
      ]
     },
     "execution_count": 207,
     "metadata": {},
     "output_type": "execute_result"
    }
   ],
   "source": [
    "outliers_df_map['auckland.ac.nz']"
   ]
  },
  {
   "cell_type": "code",
   "execution_count": 206,
   "metadata": {
    "collapsed": false
   },
   "outputs": [
    {
     "data": {
      "text/plain": [
       "1.909649105843215"
      ]
     },
     "execution_count": 206,
     "metadata": {},
     "output_type": "execute_result"
    }
   ],
   "source": [
    "thompson_value_map['auckland.ac.nz']"
   ]
  },
  {
   "cell_type": "code",
   "execution_count": 208,
   "metadata": {
    "collapsed": false
   },
   "outputs": [],
   "source": [
    "def generarHistogramas():    \n",
    "    for host in zrtt_df_map:\n",
    "        v = zrtt_df_map[host].plot(kind='hist', bins=30, title=host)\n",
    "        l = v.axvline(x=thompson_value_map[host], linewidth=4, color='r')\n",
    "        lines, labels = v.get_legend_handles_labels()\n",
    "        labels.append('Thomson')\n",
    "        v.legend(['Thompson', 'zrtt'])\n",
    "        plt.savefig('./histogramas_thompson/'+host+'.png', dpi=300, bbox_inches='tight')\n",
    "    "
   ]
  },
  {
   "cell_type": "code",
   "execution_count": 209,
   "metadata": {
    "collapsed": false
   },
   "outputs": [
    {
     "data": {
      "image/png": "[encoded data removed]",
      "text/plain": [
       "<matplotlib.figure.Figure at 0x7f18b7c2aed0>"
      ]
     },
     "metadata": {},
     "output_type": "display_data"
    },
    {
     "data": {
      "image/png": "[encoded data removed]",
      "text/plain": [
       "<matplotlib.figure.Figure at 0x7f18b5c73dd0>"
      ]
     },
     "metadata": {},
     "output_type": "display_data"
    },
    {
     "data": {
      "image/png": "[encoded data removed]",
      "text/plain": [
       "<matplotlib.figure.Figure at 0x7f18b60eed50>"
      ]
     },
     "metadata": {},
     "output_type": "display_data"
    },
    {
     "data": {
      "image/png": "[encoded data removed]",
      "text/plain": [
       "<matplotlib.figure.Figure at 0x7f18b5a7d910>"
      ]
     },
     "metadata": {},
     "output_type": "display_data"
    },
    {
     "data": {
      "image/png": "[encoded data removed]",
      "text/plain": [
       "<matplotlib.figure.Figure at 0x7f18b5bea490>"
      ]
     },
     "metadata": {},
     "output_type": "display_data"
    },
    {
     "data": {
      "image/png": "[encoded data removed]",
      "text/plain": [
       "<matplotlib.figure.Figure at 0x7f18b5f0bc90>"
      ]
     },
     "metadata": {},
     "output_type": "display_data"
    },
    {
     "data": {
      "image/png": "[encoded data removed]",
      "text/plain": [
       "<matplotlib.figure.Figure at 0x7f18b58fe650>"
      ]
     },
     "metadata": {},
     "output_type": "display_data"
    },
    {
     "data": {
      "image/png": "[encoded data removed]",
      "text/plain": [
       "<matplotlib.figure.Figure at 0x7f18b5312bd0>"
      ]
     },
     "metadata": {},
     "output_type": "display_data"
    },
    {
     "data": {
      "image/png": "[encoded data removed]",
      "text/plain": [
       "<matplotlib.figure.Figure at 0x7f18b51ee490>"
      ]
     },
     "metadata": {},
     "output_type": "display_data"
    },
    {
     "data": {
      "image/png": "[encoded data removed]",
      "text/plain": [
       "<matplotlib.figure.Figure at 0x7f18b7bbbcd0>"
      ]
     },
     "metadata": {},
     "output_type": "display_data"
    },
    {
     "data": {
      "image/png": "[encoded data removed]",
      "text/plain": [
       "<matplotlib.figure.Figure at 0x7f18b5783ad0>"
      ]
     },
     "metadata": {},
     "output_type": "display_data"
    },
    {
     "data": {
      "image/png": "[encoded data removed]",
      "text/plain": [
       "<matplotlib.figure.Figure at 0x7f18b5b58c90>"
      ]
     },
     "metadata": {},
     "output_type": "display_data"
    },
    {
     "data": {
      "image/png": "[encoded data removed]",
      "text/plain": [
       "<matplotlib.figure.Figure at 0x7f18b6329850>"
      ]
     },
     "metadata": {},
     "output_type": "display_data"
    },
    {
     "data": {
      "image/png": "[encoded data removed]",
      "text/plain": [
       "<matplotlib.figure.Figure at 0x7f18b666a2d0>"
      ]
     },
     "metadata": {},
     "output_type": "display_data"
    },
    {
     "data": {
      "image/png": "[encoded data removed]",
      "text/plain": [
       "<matplotlib.figure.Figure at 0x7f18b637d7d0>"
      ]
     },
     "metadata": {},
     "output_type": "display_data"
    },
    {
     "data": {
      "image/png": "[encoded data removed]",
      "text/plain": [
       "<matplotlib.figure.Figure at 0x7f18b5645c50>"
      ]
     },
     "metadata": {},
     "output_type": "display_data"
    }
   ],
   "source": [
    "generarHistogramas()"
   ]
  },
  {
   "cell_type": "code",
   "execution_count": null,
   "metadata": {
    "collapsed": true
   },
   "outputs": [],
   "source": [
    "def generarHistogramasRtt():    \n",
    "    for host in rtt_df_map:\n",
    "        v = rtt_df_map[host].plot(kind='hist', bins=30, title=host)\n",
    "        plt.savefig('./histogramas_rtt/'+host+'.png', dpi=300, bbox_inches='tight')"
   ]
  },
  {
   "cell_type": "code",
   "execution_count": null,
   "metadata": {
    "collapsed": false
   },
   "outputs": [
    {
     "data": {
      "image/png": "[encoded data removed]",
      "text/plain": [
       "<matplotlib.figure.Figure at 0x7f18b53a4250>"
      ]
     },
     "metadata": {},
     "output_type": "display_data"
    },
    {
     "data": {
      "image/png": "[encoded data removed]",
      "text/plain": [
       "<matplotlib.figure.Figure at 0x7f18b587f110>"
      ]
     },
     "metadata": {},
     "output_type": "display_data"
    },
    {
     "data": {
      "image/png": "[encoded data removed]",
      "text/plain": [
       "<matplotlib.figure.Figure at 0x7f18b803ab90>"
      ]
     },
     "metadata": {},
     "output_type": "display_data"
    },
    {
     "data": {
      "image/png": "[encoded data removed]",
      "text/plain": [
       "<matplotlib.figure.Figure at 0x7f18b5bbbd90>"
      ]
     },
     "metadata": {},
     "output_type": "display_data"
    },
    {
     "data": {
      "image/png": "[encoded data removed]",
      "text/plain": [
       "<matplotlib.figure.Figure at 0x7f18b8001510>"
      ]
     },
     "metadata": {},
     "output_type": "display_data"
    },
    {
     "data": {
      "image/png": "[encoded data removed]",
      "text/plain": [
       "<matplotlib.figure.Figure at 0x7f18b623bfd0>"
      ]
     },
     "metadata": {},
     "output_type": "display_data"
    },
    {
     "data": {
      "image/png": "[encoded data removed]",
      "text/plain": [
       "<matplotlib.figure.Figure at 0x7f18b6348410>"
      ]
     },
     "metadata": {},
     "output_type": "display_data"
    },
    {
     "data": {
      "image/png": "[encoded data removed]",
      "text/plain": [
       "<matplotlib.figure.Figure at 0x7f18b54742d0>"
      ]
     },
     "metadata": {},
     "output_type": "display_data"
    }
   ],
   "source": [
    "generarHistogramasRtt()"
   ]
  },
  {
   "cell_type": "code",
   "execution_count": 144,
   "metadata": {
    "collapsed": false
   },
   "outputs": [
    {
     "data": {
      "text/plain": [
       "array([[<matplotlib.axes.AxesSubplot object at 0x7f18b7450f10>]], dtype=object)"
      ]
     },
     "execution_count": 144,
     "metadata": {},
     "output_type": "execute_result"
    },
    {
     "data": {
      "image/png": "[encoded data removed]",
      "text/plain": [
       "<matplotlib.figure.Figure at 0x7f18b8643110>"
      ]
     },
     "metadata": {},
     "output_type": "display_data"
    }
   ],
   "source": [
    "%matplotlib inline\n",
    "rtt_df_map['unak.is']\n",
    "pd.DataFrame.hist(rtt_df_map['unak.is'], bins=30)"
   ]
  },
  {
   "cell_type": "code",
   "execution_count": null,
   "metadata": {
    "collapsed": true
   },
   "outputs": [],
   "source": []
  }
 ],
 "metadata": {
  "kernelspec": {
   "display_name": "Python 2",
   "language": "python",
   "name": "python2"
  },
  "language_info": {
   "codemirror_mode": {
    "name": "ipython",
    "version": 2
   },
   "file_extension": ".py",
   "mimetype": "text/x-python",
   "name": "python",
   "nbconvert_exporter": "python",
   "pygments_lexer": "ipython2",
   "version": "2.7.6"
  }
 },
 "nbformat": 4,
 "nbformat_minor": 1
}
