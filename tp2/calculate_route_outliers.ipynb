{
 "cells": [
  {
   "cell_type": "code",
   "execution_count": 1,
   "metadata": {
    "collapsed": false
   },
   "outputs": [
    {
     "name": "stderr",
     "output_type": "stream",
     "text": [
      "WARNING: No route found for IPv6 destination :: (no default route?)\n"
     ]
    }
   ],
   "source": [
    "# coding=utf-8\n",
    "import math\n",
    "from scapy.all import *\n",
    "import matplotlib.pyplot as plt\n",
    "import numpy as np\n",
    "import time\n",
    "import pandas as pd\n",
    "from scipy.stats import t\n",
    "from math import sqrt\n",
    "from math import pow\n",
    "import requests\n",
    "import os\n",
    "import IP2Location\n",
    "\n",
    "IP_SERVICE_URL = 'https://freegeoip.net/json/{}'\n",
    "\n",
    "hosts = dict([('www.uq.edu.au','130.102.131.70'),('udsu.ru', '94.25.116.37'), ('site.u.pereslavl.ru','95.129.137.162'),('www.kstu.kz','85.29.137.233'), ('keu.kz','46.235.86.164'), ('unak.is','130.208.224.102'),('www.fu-berlin.de','160.45.170.10'),('kgiu.kz','195.210.46.14'),('www.uae.ma','159.253.148.195'),('unis.no','158.39.149.250'),('bifrost.is','185.118.33.147'),('birmingham.ac.uk','147.188.218.91')])\n",
    "\n",
    "api_key = '49f2da642556dfd205946d37e9e7ebbd61d1e74ea737f153b597c212ea80302e'\n",
    "\n",
    "DEFAULT_RTT_VALUE = 0\n",
    "\n",
    "ATTEMPS = 30"
   ]
  },
  {
   "cell_type": "code",
   "execution_count": 103,
   "metadata": {
    "collapsed": false
   },
   "outputs": [],
   "source": [
    "from __future__ import print_function, unicode_literals, with_statement\n",
    "import argparse\n",
    "import contextlib\n",
    "import requests\n",
    "import sys\n",
    "import csv\n",
    "import matplotlib\n",
    "# Anti-Grain Geometry (AGG) backend so PyGeoIpMap can be used 'headless'\n",
    "matplotlib.use('Agg')\n",
    "import matplotlib.pyplot as plt\n",
    "from mpl_toolkits.basemap import Basemap\n",
    "import pygeoip\n",
    "\n",
    "\n",
    "def get_ip(ip_file):\n",
    "    \"\"\"\n",
    "    Returns a list of IP addresses from a file containing one IP per line.\n",
    "    \"\"\"\n",
    "    with contextlib.closing(ip_file):\n",
    "        return [line.strip() for line in ip_file]\n",
    "\n",
    "\n",
    "def get_lat_lon(ip_list=[], lats=[], lons=[]):\n",
    "    \"\"\"\n",
    "    This function connects to the FreeGeoIP web service to get info from\n",
    "    a list of IP addresses.\n",
    "    Returns two lists (latitude and longitude).\n",
    "    \"\"\"\n",
    "    for ip in ip_list:\n",
    "        r = requests.get(\"https://freegeoip.net/json/\" + ip)\n",
    "        json_response = r.json()\n",
    "        if json_response['latitude'] and json_response['longitude']:\n",
    "            print (\"ip = {} lat = {} long = {}\".format(ip, json_response['latitude'],json_response['longitude']))\n",
    "            lats.append(json_response['latitude'])\n",
    "            lons.append(json_response['longitude'])\n",
    "    return lats, lons\n",
    "\n",
    "\n",
    "def geoip_lat_lon(gi, ip_list):\n",
    "    \"\"\"\n",
    "    This function uses the MaxMind library and databases to geolocate IP addresses\n",
    "    Returns two lists (latitude and longitude).\n",
    "    \"\"\"\n",
    "    lats=[]\n",
    "    lons=[]\n",
    "    for ip in ip_list:\n",
    "        try:\n",
    "            r = gi.record_by_addr(ip)\n",
    "        except Exception:\n",
    "            print(\"Unable to locate IP: %s\" % ip)\n",
    "            continue\n",
    "        if r is not None:\n",
    "            lats.append(r['latitude'])\n",
    "            lons.append(r['longitude'])\n",
    "    return lats, lons\n",
    "\n",
    "\n",
    "def get_lat_lon_from_csv(csv_file, lats=[], lons=[]):\n",
    "    \"\"\"\n",
    "    Retrieves the last two rows of a CSV formatted file to use as latitude\n",
    "    and longitude.\n",
    "    Returns two lists (latitudes and longitudes).\n",
    "    Example CSV file:\n",
    "    119.80.39.54, Beijing, China, 39.9289, 116.3883\n",
    "    101.44.1.135, Shanghai, China, 31.0456, 121.3997\n",
    "    219.144.17.74, Xian, China, 34.2583, 108.9286\n",
    "    64.27.26.7, Los Angeles, United States, 34.053, -118.2642\n",
    "    \"\"\"\n",
    "    with contextlib.closing(csv_file):\n",
    "        reader = csv.reader(csv_file)\n",
    "        for row in reader:\n",
    "            lats.append(row[-2])\n",
    "            lons.append(row[-1])\n",
    "\n",
    "    return lats, lons\n",
    "\n",
    "\n",
    "def generate_map(output, lats=[], lons=[], wesn=None):\n",
    "    \"\"\"\n",
    "    Using Basemap and the matplotlib toolkit, this function generates a map and\n",
    "    puts a red dot at the location of every IP addresses found in the list.\n",
    "    The map is then saved in the file specified in `output`.\n",
    "    \"\"\"\n",
    "    \n",
    "    plt.close('all')\n",
    "    print(\"Generating map and saving it to {}\".format(output))\n",
    "    if wesn:\n",
    "        wesn = [float(i) for i in wesn.split('/')]\n",
    "        m = Basemap(projection='cyl', resolution='l',\n",
    "                llcrnrlon=wesn[0], llcrnrlat=wesn[2],\n",
    "                urcrnrlon=wesn[1], urcrnrlat=wesn[3])\n",
    "    else:\n",
    "        m = Basemap(projection='cyl', resolution='l')\n",
    "    m.bluemarble()\n",
    "\n",
    "    x, y = m(lons, lats)\n",
    "    \n",
    "    m.plot(x, y, 40, 40, color='y')\n",
    "    m.scatter(x, y, s=3, color='#ff0000', marker='o', alpha=0.3) #, alpha=0.3\n",
    "    plt.savefig(output, dpi=300, bbox_inches='tight')\n",
    "    plt.close('all')\n",
    "\n",
    "def graficar_ruta(ruta, nombre_imagen):\n",
    "    gi = pygeoip.GeoIP('GeoLiteCity.dat')\n",
    "    lats, lons = geoip_lat_lon(gi,ruta)\n",
    "    generate_map(nombre_imagen, lats, lons) #, wesn='-12/45/30/65'"
   ]
  },
  {
   "cell_type": "code",
   "execution_count": 74,
   "metadata": {
    "collapsed": true
   },
   "outputs": [],
   "source": [
    "def toLatex(df):\n",
    "    from IPython.display import Latex\n",
    "    Latex(outliers.to_latex())"
   ]
  },
  {
   "cell_type": "code",
   "execution_count": 75,
   "metadata": {
    "collapsed": true
   },
   "outputs": [],
   "source": [
    "def ipCountryCode(ip):    \n",
    "    resp = requests.get(IP_SERVICE_URL.format(ip))\n",
    "    if resp.status_code != 200:\n",
    "        raise ApiError('GET /tasks/ {}'.format(resp.status_code))\n",
    "    return resp.json()['country_code']"
   ]
  },
  {
   "cell_type": "code",
   "execution_count": 5,
   "metadata": {
    "collapsed": true
   },
   "outputs": [],
   "source": [
    "def modified_thompson(n):\n",
    "    alpha = 0.025\n",
    "    t_critical = t.ppf(1-alpha, n-2)\n",
    "    return (t_critical*(n-1)) / (sqrt(n) * sqrt(n-2 + pow(t_critical,2)))  "
   ]
  },
  {
   "cell_type": "code",
   "execution_count": 6,
   "metadata": {
    "collapsed": true
   },
   "outputs": [],
   "source": [
    "def enviar_paquete(host, time_to_live):\n",
    "    packet = IP(dst=host, ttl=time_to_live) / ICMP()\n",
    "    res = sr(packet, timeout=1, verbose=0)\n",
    "    return res[0][ICMP]"
   ]
  },
  {
   "cell_type": "code",
   "execution_count": 7,
   "metadata": {
    "collapsed": true
   },
   "outputs": [],
   "source": [
    "def route(df):\n",
    "    return df[df['ip'] != 'empty']['ip'].unique()"
   ]
  },
  {
   "cell_type": "code",
   "execution_count": 8,
   "metadata": {
    "collapsed": true
   },
   "outputs": [],
   "source": [
    "def calculateOutliers(rtt_df):\n",
    "    descriptions = rtt_df.describe().T\n",
    "    mean = descriptions['mean']\n",
    "    std = descriptions['std']\n",
    "    zrtt = (rtt_df-mean)/std\n",
    "    n = len(zrtt)\n",
    "    thomson_value = modified_thompson(n)\n",
    "    abszrtt = abs(zrtt)\n",
    "    return abszrtt[abszrtt['rtt'] > thomson_value], zrtt"
   ]
  },
  {
   "cell_type": "code",
   "execution_count": 9,
   "metadata": {
    "collapsed": false
   },
   "outputs": [],
   "source": [
    "def trace_route(hosts):\n",
    "    \n",
    "    ips_countrycode = {}\n",
    "    df_list = []\n",
    "    rtt_df_list = []\n",
    "    outliers_df_list = []\n",
    "    zrtt_df_list = []\n",
    "\n",
    "    for host in hosts:\n",
    "        hops = []\n",
    "        ttl_without_response = []\n",
    "        ip = hosts[host]\n",
    "        for i in range(0,ATTEMPS):\n",
    "            tipo = 11\n",
    "            ttl = 1\n",
    "            last_rtt = 0\n",
    "            while (tipo!=0 and ttl < 30):\n",
    "                if (not ttl in ttl_without_response):\n",
    "                    ti = time.time()\n",
    "                    res1 = enviar_paquete(ip, ttl)\n",
    "                    tf = time.time()\n",
    "                    rtt = tf-ti\n",
    "                    if (len(res1) > 0):\n",
    "                        tipo = res1[0][1].type\n",
    "                        src = res1[0][1].src\n",
    "                        countryCode = None\n",
    "                        if(src in ips_countrycode):\n",
    "                            countryCode = ips_countrycode[src]\n",
    "                        else:\n",
    "                            countryCode = ipCountryCode(src)\n",
    "                            ips_countrycode[src] = countryCode\n",
    "                        if (tipo > 0):\n",
    "                            hops.append([host,ttl,i,src,countryCode, max(0,rtt-last_rtt)])\n",
    "                        else:\n",
    "                            hops.append([host,ttl,i,src,countryCode, max(0,rtt-last_rtt)])\n",
    "                        last_rtt = rtt\n",
    "                    else:\n",
    "                        hops.append([host,ttl,i,\"empty\",\"empty\",DEFAULT_RTT_VALUE])\n",
    "                        ttl_without_response.append(ttl)\n",
    "                ttl = ttl + 1\n",
    "\n",
    "        df = pd.DataFrame(hops,columns=['host','ttl','i','ip','cc','rtt'])\n",
    "        indexed = df.set_index(['host','ttl','i','ip','cc'])\n",
    "        rtt_df = indexed.groupby(level=['host','ttl','ip','cc']).mean()\n",
    "        outliers_df, zrtt_df = calculateOutliers(rtt_df)\n",
    "        rtt_df_list.append(rtt_df)\n",
    "        outliers_df_list.append(outliers_df)\n",
    "        zrtt_df_list.append(zrtt_df)\n",
    "        df_list.append(df)\n",
    "        graficar_ruta(route(df),'route[{}].png'.format(host))\n",
    "    \n",
    "    return df_list, rtt_df_list, outliers_df_list, zrtt_df_list"
   ]
  },
  {
   "cell_type": "markdown",
   "metadata": {},
   "source": [
    "# No ejecutar esto"
   ]
  },
  {
   "cell_type": "code",
   "execution_count": 10,
   "metadata": {
    "collapsed": false,
    "scrolled": true
   },
   "outputs": [
    {
     "name": "stdout",
     "output_type": "stream",
     "text": [
      "Generating map and saving it to route[www.uq.edu.au].png\n"
     ]
    },
    {
     "name": "stderr",
     "output_type": "stream",
     "text": [
      "/usr/lib/pymodules/python2.7/matplotlib/collections.py:548: FutureWarning: elementwise comparison failed; returning scalar instead, but in the future will perform elementwise comparison\n",
      "  if self._edgecolors == 'face':\n"
     ]
    },
    {
     "name": "stdout",
     "output_type": "stream",
     "text": [
      "Generating map and saving it to route[unis.no].png\n",
      "Generating map and saving it to route[www.kstu.kz].png\n",
      "Generating map and saving it to route[birmingham.ac.uk].png\n",
      "Generating map and saving it to route[keu.kz].png\n",
      "Generating map and saving it to route[bifrost.is].png\n",
      "Generating map and saving it to route[unak.is].png\n",
      "Generating map and saving it to route[site.u.pereslavl.ru].png\n",
      "Generating map and saving it to route[www.fu-berlin.de].png\n",
      "Generating map and saving it to route[udsu.ru].png\n",
      "Generating map and saving it to route[kgiu.kz].png\n",
      "Generating map and saving it to route[www.uae.ma].png\n",
      "CPU times: user 1min 52s, sys: 59.6 s, total: 2min 51s\n",
      "Wall time: 42min 22s\n"
     ]
    }
   ],
   "source": [
    "%%time\n",
    "df_list, rtt_df_list, outliers_df_list, zrtt_df_list = trace_route(hosts)"
   ]
  },
  {
   "cell_type": "markdown",
   "metadata": {},
   "source": [
    "# Guardo los archivos cvs"
   ]
  },
  {
   "cell_type": "code",
   "execution_count": 33,
   "metadata": {
    "collapsed": false
   },
   "outputs": [],
   "source": [
    "for df in df_list:\n",
    "    host = df['host'].unique()[0]\n",
    "    df.to_csv('./df-csv/'+host, index=False, header=None)"
   ]
  },
  {
   "cell_type": "markdown",
   "metadata": {},
   "source": [
    "# Leo los archivos  csv y creo los dataframe"
   ]
  },
  {
   "cell_type": "code",
   "execution_count": 55,
   "metadata": {
    "collapsed": false
   },
   "outputs": [],
   "source": [
    "from os import listdir\n",
    "\n",
    "def readDataFrames():\n",
    "    df_map = {}\n",
    "    rtt_df_map = {}\n",
    "    outliers_df_map = {}\n",
    "    zrtt_df_map = {}\n",
    "\n",
    "    for host in listdir('./df-csv'):\n",
    "        df = pd.read_csv('./df-csv/'+host, header=None, names=['host','ttl','i','ip','cc','rtt'])\n",
    "        df_map[host] = df\n",
    "        indexed = df.set_index(['host','ttl','i','ip','cc'])\n",
    "        rtt_df = indexed.groupby(level=['host','ttl','ip','cc']).mean()\n",
    "        outliers_df, zrtt_df = calculateOutliers(rtt_df)\n",
    "        outliers_df_map[host] = outliers_df\n",
    "        zrtt_df_map[host] = zrtt_df\n",
    "        rtt_df_map[host] = rtt_df\n",
    "\n",
    "\n",
    "    return df_map, rtt_df_map, outliers_df_map, zrtt_df_map\n"
   ]
  },
  {
   "cell_type": "code",
   "execution_count": 76,
   "metadata": {
    "collapsed": true
   },
   "outputs": [],
   "source": [
    "def graficarTodasLasCorridas(df_map):\n",
    "    for host in df_map:\n",
    "        graficar_ruta(route(df_map[host]), './grafico-rutas/'+host+'.png')"
   ]
  },
  {
   "cell_type": "code",
   "execution_count": 77,
   "metadata": {
    "collapsed": false
   },
   "outputs": [],
   "source": [
    "df_map, rtt_df_map, outliers_df_map, zrtt_df_map = readDataFrames()"
   ]
  },
  {
   "cell_type": "code",
   "execution_count": 104,
   "metadata": {
    "collapsed": false,
    "scrolled": false
   },
   "outputs": [
    {
     "name": "stdout",
     "output_type": "stream",
     "text": [
      "Generating map and saving it to ./grafico-rutas/www.uq.edu.au.png\n",
      "Generating map and saving it to ./grafico-rutas/unis.no.png\n",
      "Generating map and saving it to ./grafico-rutas/www.kstu.kz.png\n",
      "Generating map and saving it to ./grafico-rutas/birmingham.ac.uk.png\n",
      "Generating map and saving it to ./grafico-rutas/keu.kz.png\n",
      "Generating map and saving it to ./grafico-rutas/bifrost.is.png\n",
      "Generating map and saving it to ./grafico-rutas/unak.is.png\n",
      "Generating map and saving it to ./grafico-rutas/site.u.pereslavl.ru.png\n",
      "Generating map and saving it to ./grafico-rutas/www.fu-berlin.de.png\n",
      "Generating map and saving it to ./grafico-rutas/udsu.ru.png\n",
      "Generating map and saving it to ./grafico-rutas/kgiu.kz.png\n",
      "Generating map and saving it to ./grafico-rutas/www.uae.ma.png\n"
     ]
    }
   ],
   "source": [
    "graficarTodasLasCorridas(df_map)"
   ]
  },
  {
   "cell_type": "code",
   "execution_count": 107,
   "metadata": {
    "collapsed": false
   },
   "outputs": [
    {
     "data": {
      "text/html": [
       "<div>\n",
       "<table border=\"1\" class=\"dataframe\">\n",
       "  <thead>\n",
       "    <tr style=\"text-align: right;\">\n",
       "      <th></th>\n",
       "      <th></th>\n",
       "      <th></th>\n",
       "      <th></th>\n",
       "      <th>rtt</th>\n",
       "    </tr>\n",
       "    <tr>\n",
       "      <th>host</th>\n",
       "      <th>ttl</th>\n",
       "      <th>ip</th>\n",
       "      <th>cc</th>\n",
       "      <th></th>\n",
       "    </tr>\n",
       "  </thead>\n",
       "  <tbody>\n",
       "    <tr>\n",
       "      <th rowspan=\"22\" valign=\"top\">unak.is</th>\n",
       "      <th>1</th>\n",
       "      <th>empty</th>\n",
       "      <th>empty</th>\n",
       "      <td>0.000000</td>\n",
       "    </tr>\n",
       "    <tr>\n",
       "      <th>2</th>\n",
       "      <th>empty</th>\n",
       "      <th>empty</th>\n",
       "      <td>0.000000</td>\n",
       "    </tr>\n",
       "    <tr>\n",
       "      <th>3</th>\n",
       "      <th>empty</th>\n",
       "      <th>empty</th>\n",
       "      <td>0.000000</td>\n",
       "    </tr>\n",
       "    <tr>\n",
       "      <th>4</th>\n",
       "      <th>empty</th>\n",
       "      <th>empty</th>\n",
       "      <td>0.000000</td>\n",
       "    </tr>\n",
       "    <tr>\n",
       "      <th>5</th>\n",
       "      <th>200.89.161.137</th>\n",
       "      <th>AR</th>\n",
       "      <td>0.074301</td>\n",
       "    </tr>\n",
       "    <tr>\n",
       "      <th>6</th>\n",
       "      <th>200.89.165.5</th>\n",
       "      <th>AR</th>\n",
       "      <td>0.003707</td>\n",
       "    </tr>\n",
       "    <tr>\n",
       "      <th>7</th>\n",
       "      <th>200.89.165.250</th>\n",
       "      <th>AR</th>\n",
       "      <td>0.004276</td>\n",
       "    </tr>\n",
       "    <tr>\n",
       "      <th rowspan=\"2\" valign=\"top\">8</th>\n",
       "      <th>190.216.88.33</th>\n",
       "      <th>AR</th>\n",
       "      <td>0.000000</td>\n",
       "    </tr>\n",
       "    <tr>\n",
       "      <th>empty</th>\n",
       "      <th>empty</th>\n",
       "      <td>0.000000</td>\n",
       "    </tr>\n",
       "    <tr>\n",
       "      <th>9</th>\n",
       "      <th>67.16.159.37</th>\n",
       "      <th>US</th>\n",
       "      <td>0.145690</td>\n",
       "    </tr>\n",
       "    <tr>\n",
       "      <th>10</th>\n",
       "      <th>64.57.20.73</th>\n",
       "      <th>US</th>\n",
       "      <td>0.005504</td>\n",
       "    </tr>\n",
       "    <tr>\n",
       "      <th>11</th>\n",
       "      <th>64.57.20.34</th>\n",
       "      <th>US</th>\n",
       "      <td>0.005281</td>\n",
       "    </tr>\n",
       "    <tr>\n",
       "      <th>12</th>\n",
       "      <th>64.57.20.37</th>\n",
       "      <th>US</th>\n",
       "      <td>0.010810</td>\n",
       "    </tr>\n",
       "    <tr>\n",
       "      <th>13</th>\n",
       "      <th>empty</th>\n",
       "      <th>empty</th>\n",
       "      <td>0.000000</td>\n",
       "    </tr>\n",
       "    <tr>\n",
       "      <th>14</th>\n",
       "      <th>109.105.97.142</th>\n",
       "      <th>SE</th>\n",
       "      <td>0.080042</td>\n",
       "    </tr>\n",
       "    <tr>\n",
       "      <th>15</th>\n",
       "      <th>109.105.97.138</th>\n",
       "      <th>SE</th>\n",
       "      <td>0.011689</td>\n",
       "    </tr>\n",
       "    <tr>\n",
       "      <th>16</th>\n",
       "      <th>109.105.97.125</th>\n",
       "      <th>SE</th>\n",
       "      <td>0.004030</td>\n",
       "    </tr>\n",
       "    <tr>\n",
       "      <th>17</th>\n",
       "      <th>109.105.102.1</th>\n",
       "      <th>SE</th>\n",
       "      <td>0.049820</td>\n",
       "    </tr>\n",
       "    <tr>\n",
       "      <th>18</th>\n",
       "      <th>130.208.17.162</th>\n",
       "      <th>IS</th>\n",
       "      <td>0.009160</td>\n",
       "    </tr>\n",
       "    <tr>\n",
       "      <th>19</th>\n",
       "      <th>130.208.17.58</th>\n",
       "      <th>IS</th>\n",
       "      <td>0.001856</td>\n",
       "    </tr>\n",
       "    <tr>\n",
       "      <th>20</th>\n",
       "      <th>130.208.18.106</th>\n",
       "      <th>IS</th>\n",
       "      <td>0.019887</td>\n",
       "    </tr>\n",
       "    <tr>\n",
       "      <th>21</th>\n",
       "      <th>130.208.224.102</th>\n",
       "      <th>IS</th>\n",
       "      <td>0.003169</td>\n",
       "    </tr>\n",
       "  </tbody>\n",
       "</table>\n",
       "</div>"
      ],
      "text/plain": [
       "                                        rtt\n",
       "host    ttl ip              cc             \n",
       "unak.is 1   empty           empty  0.000000\n",
       "        2   empty           empty  0.000000\n",
       "        3   empty           empty  0.000000\n",
       "        4   empty           empty  0.000000\n",
       "        5   200.89.161.137  AR     0.074301\n",
       "        6   200.89.165.5    AR     0.003707\n",
       "        7   200.89.165.250  AR     0.004276\n",
       "        8   190.216.88.33   AR     0.000000\n",
       "            empty           empty  0.000000\n",
       "        9   67.16.159.37    US     0.145690\n",
       "        10  64.57.20.73     US     0.005504\n",
       "        11  64.57.20.34     US     0.005281\n",
       "        12  64.57.20.37     US     0.010810\n",
       "        13  empty           empty  0.000000\n",
       "        14  109.105.97.142  SE     0.080042\n",
       "        15  109.105.97.138  SE     0.011689\n",
       "        16  109.105.97.125  SE     0.004030\n",
       "        17  109.105.102.1   SE     0.049820\n",
       "        18  130.208.17.162  IS     0.009160\n",
       "        19  130.208.17.58   IS     0.001856\n",
       "        20  130.208.18.106  IS     0.019887\n",
       "        21  130.208.224.102 IS     0.003169"
      ]
     },
     "execution_count": 107,
     "metadata": {},
     "output_type": "execute_result"
    }
   ],
   "source": [
    "rtt_df_map['unak.is']"
   ]
  },
  {
   "cell_type": "code",
   "execution_count": 106,
   "metadata": {
    "collapsed": false
   },
   "outputs": [
    {
     "data": {
      "text/plain": [
       "array([[<matplotlib.axes.AxesSubplot object at 0x7f18b79a86d0>]], dtype=object)"
      ]
     },
     "execution_count": 106,
     "metadata": {},
     "output_type": "execute_result"
    },
    {
     "data": {
      "image/png": "[encoded data removed]",
      "text/plain": [
       "<matplotlib.figure.Figure at 0x7f18b76823d0>"
      ]
     },
     "metadata": {},
     "output_type": "display_data"
    }
   ],
   "source": [
    "%matplotlib inline\n",
    "rtt_df_map['unak.is']\n",
    "pd.DataFrame.hist(rtt_df_map['unak.is'], bins=30)"
   ]
  }
 ],
 "metadata": {
  "kernelspec": {
   "display_name": "Python 2",
   "language": "python",
   "name": "python2"
  },
  "language_info": {
   "codemirror_mode": {
    "name": "ipython",
    "version": 2
   },
   "file_extension": ".py",
   "mimetype": "text/x-python",
   "name": "python",
   "nbconvert_exporter": "python",
   "pygments_lexer": "ipython2",
   "version": "2.7.6"
  }
 },
 "nbformat": 4,
 "nbformat_minor": 1
}
