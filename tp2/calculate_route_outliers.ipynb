{
 "cells": [
  {
   "cell_type": "code",
   "execution_count": 69,
   "metadata": {
    "collapsed": false
   },
   "outputs": [],
   "source": [
    "# coding=utf-8\n",
    "import math\n",
    "from scapy.all import *\n",
    "import matplotlib.pyplot as plt\n",
    "import numpy as np\n",
    "import time\n",
    "import pandas as pd\n",
    "from scipy.stats import t\n",
    "from math import sqrt\n",
    "from math import pow\n",
    "\n",
    "hosts = dict([('www.easternct.edu','149.152.33.32'), ('web.mit.edu','23.197.229.238')])\n",
    "\n",
    "DEFAULT_RTT_VALUE = 0\n",
    "\n",
    "ATTEMPS = 30"
   ]
  },
  {
   "cell_type": "code",
   "execution_count": 71,
   "metadata": {
    "collapsed": true
   },
   "outputs": [],
   "source": [
    "def modified_thompson(n):\n",
    "    alpha = 0.025\n",
    "    t_critical = t.ppf(1-alpha, n-2)\n",
    "    return (t_critical*(n-1)) / (sqrt(n) * sqrt(n-2 + pow(t_critical,2)))  "
   ]
  },
  {
   "cell_type": "code",
   "execution_count": 72,
   "metadata": {
    "collapsed": true
   },
   "outputs": [],
   "source": [
    "def enviar_paquete(host, time_to_live):\n",
    "    packet = IP(dst=host, ttl=time_to_live) / ICMP()\n",
    "    res = sr(packet, timeout=1, verbose=0)\n",
    "    return res[0][ICMP]"
   ]
  },
  {
   "cell_type": "code",
   "execution_count": 98,
   "metadata": {
    "collapsed": true
   },
   "outputs": [],
   "source": [
    "def route(df):\n",
    "    return df[df['ip'] != 'empty']['ip'].unique()"
   ]
  },
  {
   "cell_type": "code",
   "execution_count": 73,
   "metadata": {
    "collapsed": false
   },
   "outputs": [],
   "source": [
    "def trace_route(hosts):\n",
    "    \n",
    "    hops = []\n",
    "\n",
    "    for host in hosts:\n",
    "        ttl_without_response = []\n",
    "        ip = hosts[host]\n",
    "        for i in range(0,ATTEMPS):\n",
    "            tipo = 11\n",
    "            ttl = 1\n",
    "            last_rtt = 0\n",
    "            while (tipo!=0 and ttl < 30):\n",
    "                if (not ttl in ttl_without_response):\n",
    "                    ti = time.time()\n",
    "                    res1 = enviar_paquete(ip, ttl)\n",
    "                    tf = time.time()\n",
    "                    rtt = tf-ti\n",
    "                    if (len(res1) > 0):\n",
    "                        tipo = res1[0][1].type\n",
    "                        src = res1[0][1].src\n",
    "                        if (tipo > 0):\n",
    "                            hops.append([host,ttl,i,src,max(0,rtt-last_rtt)])\n",
    "                        else:\n",
    "                            hops.append([host,ttl,i,src,rtt-last_rtt])\n",
    "                        last_rtt = rtt\n",
    "                    else:\n",
    "                        hops.append([host,ttl,i,\"empty\",DEFAULT_RTT_VALUE])\n",
    "                        ttl_without_response.append(ttl)\n",
    "                ttl = ttl + 1\n",
    "\n",
    "    hops_info = pd.DataFrame(hops,columns=['host','ttl','i','ip','rtt'])\n",
    "    return hops_info"
   ]
  },
  {
   "cell_type": "code",
   "execution_count": 9,
   "metadata": {
    "collapsed": false
   },
   "outputs": [],
   "source": [
    "df = trace_route(dict([('www.uae.ma','159.253.148.195')]))"
   ]
  },
  {
   "cell_type": "code",
   "execution_count": 90,
   "metadata": {
    "collapsed": false,
    "scrolled": true
   },
   "outputs": [
    {
     "name": "stdout",
     "output_type": "stream",
     "text": [
      "                                     rtt\n",
      "host       ttl ip                       \n",
      "www.uae.ma 1   empty            0.000000\n",
      "           2   empty            0.000000\n",
      "           3   empty            0.000000\n",
      "           4   empty            0.000000\n",
      "           5   200.89.161.129   0.078922\n",
      "               empty            0.000000\n",
      "           6   empty            0.000000\n",
      "           7   200.89.165.250  -0.000495\n",
      "               empty            0.000000\n",
      "           8   empty            0.000000\n",
      "           9   195.22.219.3     0.066549\n",
      "           10  195.22.219.3     0.002971\n",
      "               empty            0.000000\n",
      "           11  149.3.181.65     0.022690\n",
      "               empty            0.000000\n",
      "           12  129.250.2.227    0.102562\n",
      "               empty            0.000000\n",
      "           13  129.250.2.19     0.103181\n",
      "           14  129.250.4.141    0.007698\n",
      "           15  129.250.6.8     -0.007285\n",
      "           16  81.25.207.146   -0.006672\n",
      "               empty            0.000000\n",
      "           17  50.97.18.211     0.001497\n",
      "           18  50.97.18.249    -0.004246\n",
      "           19  159.253.158.131  0.053099\n",
      "               empty            0.000000\n",
      "           20  159.253.148.195 -0.025149\n"
     ]
    },
    {
     "data": {
      "text/html": [
       "<div>\n",
       "<table border=\"1\" class=\"dataframe\">\n",
       "  <thead>\n",
       "    <tr style=\"text-align: right;\">\n",
       "      <th></th>\n",
       "      <th></th>\n",
       "      <th></th>\n",
       "      <th>rtt</th>\n",
       "    </tr>\n",
       "    <tr>\n",
       "      <th>host</th>\n",
       "      <th>ttl</th>\n",
       "      <th>ip</th>\n",
       "      <th></th>\n",
       "    </tr>\n",
       "  </thead>\n",
       "  <tbody>\n",
       "    <tr>\n",
       "      <th rowspan=\"2\" valign=\"top\">www.uae.ma</th>\n",
       "      <th>12</th>\n",
       "      <th>129.250.2.227</th>\n",
       "      <td>2.580261</td>\n",
       "    </tr>\n",
       "    <tr>\n",
       "      <th>13</th>\n",
       "      <th>129.250.2.19</th>\n",
       "      <td>2.598420</td>\n",
       "    </tr>\n",
       "  </tbody>\n",
       "</table>\n",
       "</div>"
      ],
      "text/plain": [
       "                                   rtt\n",
       "host       ttl ip                     \n",
       "www.uae.ma 12  129.250.2.227  2.580261\n",
       "           13  129.250.2.19   2.598420"
      ]
     },
     "execution_count": 90,
     "metadata": {},
     "output_type": "execute_result"
    }
   ],
   "source": [
    "df_indexed = df.set_index(['host','ttl','i','ip'])\n",
    "rtt = df_indexed.groupby(level=['host','ttl','ip']).mean()\n",
    "descriptions = rtt.describe().T\n",
    "mean = descriptions['mean']\n",
    "std = descriptions['std']\n",
    "zrtt = abs(rtt-mean)/std\n",
    "n = len(zrtt)\n",
    "thomson_value = modified_thompson(n)\n",
    "print rtt\n",
    "zrtt[zrtt['rtt'] > thomson_value]"
   ]
  },
  {
   "cell_type": "code",
   "execution_count": 99,
   "metadata": {
    "collapsed": false
   },
   "outputs": [
    {
     "data": {
      "text/plain": [
       "array(['200.89.161.129', '200.89.165.250', '195.22.219.3', '149.3.181.65',\n",
       "       '129.250.2.227', '129.250.2.19', '129.250.4.141', '129.250.6.8',\n",
       "       '81.25.207.146', '50.97.18.211', '50.97.18.249', '159.253.158.131',\n",
       "       '159.253.148.195'], dtype=object)"
      ]
     },
     "execution_count": 99,
     "metadata": {},
     "output_type": "execute_result"
    }
   ],
   "source": [
    "route(df)\n"
   ]
  },
  {
   "cell_type": "code",
   "execution_count": null,
   "metadata": {
    "collapsed": true
   },
   "outputs": [],
   "source": []
  }
 ],
 "metadata": {
  "kernelspec": {
   "display_name": "Python 2",
   "language": "python",
   "name": "python2"
  },
  "language_info": {
   "codemirror_mode": {
    "name": "ipython",
    "version": 2
   },
   "file_extension": ".py",
   "mimetype": "text/x-python",
   "name": "python",
   "nbconvert_exporter": "python",
   "pygments_lexer": "ipython2",
   "version": "2.7.6"
  }
 },
 "nbformat": 4,
 "nbformat_minor": 1
}
