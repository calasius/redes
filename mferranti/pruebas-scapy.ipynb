{
 "cells": [
  {
   "cell_type": "code",
   "execution_count": 347,
   "metadata": {
    "collapsed": false
   },
   "outputs": [],
   "source": [
    "import scapy.all as sc\n",
    "import numpy as np\n",
    "import pandas as pd\n",
    "from scipy.stats import entropy"
   ]
  },
  {
   "cell_type": "code",
   "execution_count": 349,
   "metadata": {
    "collapsed": true
   },
   "outputs": [],
   "source": [
    "SNIFF_TIMEOUT = 1200\n",
    "BROADCAST = \"BROADCAST\"\n",
    "UNICAST = \"UNICAST\"\n",
    "PCAP_FILE = \"packages.pcap\"\n",
    "ARP_OP_WHO_HAS = 1\n",
    "ARP_OP_IS_AT = 2"
   ]
  },
  {
   "cell_type": "markdown",
   "metadata": {},
   "source": [
    "## Hago sniff durante sniff_timeout segundos"
   ]
  },
  {
   "cell_type": "code",
   "execution_count": 350,
   "metadata": {
    "collapsed": false
   },
   "outputs": [],
   "source": [
    "packages = sc.sniff(timeout=SNIFF_TIMEOUT)"
   ]
  },
  {
   "cell_type": "markdown",
   "metadata": {},
   "source": [
    "## Guardo los paquetes en formato pcap"
   ]
  },
  {
   "cell_type": "code",
   "execution_count": 351,
   "metadata": {
    "collapsed": true
   },
   "outputs": [],
   "source": [
    "sc.wrpcap(PCAP_FILE,packages)"
   ]
  },
  {
   "cell_type": "markdown",
   "metadata": {},
   "source": [
    "## Leo los paquetes del archivo .pcap"
   ]
  },
  {
   "cell_type": "code",
   "execution_count": 352,
   "metadata": {
    "collapsed": false
   },
   "outputs": [],
   "source": [
    "packages = sc.sniff(offline=PCAP_FILE)"
   ]
  },
  {
   "cell_type": "markdown",
   "metadata": {},
   "source": [
    "## Ejercicio 3.2.1"
   ]
  },
  {
   "cell_type": "code",
   "execution_count": 353,
   "metadata": {
    "collapsed": true
   },
   "outputs": [],
   "source": [
    "def simbolo_s(package):\n",
    "    if p.dst == 'ff:ff:ff:ff:ff:ff':\n",
    "        return BROADCAST\n",
    "    else:\n",
    "        return UNICAST"
   ]
  },
  {
   "cell_type": "code",
   "execution_count": 354,
   "metadata": {
    "collapsed": false
   },
   "outputs": [],
   "source": [
    "def entropia_fuente(fuente):\n",
    "    counts = fuente.value_counts()\n",
    "    return entropy(base=2,pk=counts.as_matrix())"
   ]
  },
  {
   "cell_type": "code",
   "execution_count": 355,
   "metadata": {
    "collapsed": true
   },
   "outputs": [],
   "source": [
    "def informacion_simbolos(fuente):\n",
    "    counts = fuente.value_counts()\n",
    "    total = counts.sum()\n",
    "    probs = counts / float(total)\n",
    "    return pd.Series(- np.log2(probs), index=counts.index)"
   ]
  },
  {
   "cell_type": "code",
   "execution_count": 356,
   "metadata": {
    "collapsed": false
   },
   "outputs": [
    {
     "name": "stdout",
     "output_type": "stream",
     "text": [
      "Entropia fuente S = 0.50597500931\n",
      "UNICAST      6849\n",
      "BROADCAST     864\n",
      "dtype: int64\n",
      "UNICAST      0.171399\n",
      "BROADCAST    3.158189\n",
      "dtype: float64\n"
     ]
    }
   ],
   "source": [
    "fuente = pd.Series([simbolo_s(p) for p in packages])\n",
    "contadores = fuente.value_counts()\n",
    "print \"Entropia fuente S =\", entropia_fuente(fuente)\n",
    "print contadores\n",
    "print informacion_simbolos(fuente)"
   ]
  },
  {
   "cell_type": "markdown",
   "metadata": {},
   "source": [
    "## Ejercicio 3.2.2"
   ]
  },
  {
   "cell_type": "code",
   "execution_count": 357,
   "metadata": {
    "collapsed": true
   },
   "outputs": [],
   "source": [
    "arp_packages = sc.sniff(offline=PCAP_FILE, lfilter=lambda x: x.haslayer(sc.ARP))"
   ]
  },
  {
   "cell_type": "code",
   "execution_count": 358,
   "metadata": {
    "collapsed": false
   },
   "outputs": [],
   "source": [
    "arp_packages = map(lambda p: p[\"ARP\"], arp_packages)\n",
    "who_has_packages = filter(lambda p : p.op == ARP_OP_WHO_HAS,arp_packages)\n",
    "is_at_packages = filter(lambda p : not p.op == ARP_OP_WHO_HAS, arp_packages)"
   ]
  },
  {
   "cell_type": "code",
   "execution_count": 359,
   "metadata": {
    "collapsed": false
   },
   "outputs": [
    {
     "data": {
      "text/plain": [
       "<ARP  hwtype=0x1 ptype=0x800 hwlen=6 plen=4 op=is-at hwsrc=50:b7:c3:06:2e:ec psrc=10.254.213.74 hwdst=00:e0:4c:b7:10:be pdst=10.254.213.84 |>"
      ]
     },
     "execution_count": 359,
     "metadata": {},
     "output_type": "execute_result"
    }
   ],
   "source": [
    "is_at_packages[0]"
   ]
  },
  {
   "cell_type": "code",
   "execution_count": 360,
   "metadata": {
    "collapsed": false
   },
   "outputs": [
    {
     "data": {
      "text/plain": [
       "<ARP  hwtype=0x1 ptype=0x800 hwlen=6 plen=4 op=who-has hwsrc=c4:da:26:03:ba:a4 psrc=10.254.213.56 hwdst=00:00:00:00:00:00 pdst=10.254.213.254 |<Padding  load='\\x00\\x00\\x00\\x00\\x00\\x00\\x00\\x00\\x00\\x00\\x00\\x00\\x00\\x00\\x00\\x00\\x00\\x00' |>>"
      ]
     },
     "execution_count": 360,
     "metadata": {},
     "output_type": "execute_result"
    }
   ],
   "source": [
    "who_has_packages[0]"
   ]
  },
  {
   "cell_type": "markdown",
   "metadata": {},
   "source": [
    "## Analisis de simbolos distinguidos utilizando who-has packages"
   ]
  },
  {
   "cell_type": "code",
   "execution_count": 361,
   "metadata": {
    "collapsed": true
   },
   "outputs": [],
   "source": [
    "def simbolo_s2(package):\n",
    "    return package.pdst"
   ]
  },
  {
   "cell_type": "code",
   "execution_count": 362,
   "metadata": {
    "collapsed": false
   },
   "outputs": [
    {
     "name": "stdout",
     "output_type": "stream",
     "text": [
      "10.254.213.254    23\n",
      "10.254.213.74     10\n",
      "10.254.95.254      5\n",
      "10.254.213.45      2\n",
      "10.254.213.8       2\n",
      "10.254.213.25      1\n",
      "10.254.213.57      1\n",
      "dtype: int64\n",
      "Entropia de la fuente = 1.98509420017\n",
      "10.254.213.254    0.935870\n",
      "10.254.213.74     2.137504\n",
      "10.254.95.254     3.137504\n",
      "10.254.213.45     4.459432\n",
      "10.254.213.8      4.459432\n",
      "10.254.213.25     5.459432\n",
      "10.254.213.57     5.459432\n",
      "dtype: float64\n"
     ]
    }
   ],
   "source": [
    "fuente_s2 = pd.Series([simbolo_s2(p) for p in who_has_packages])\n",
    "contadores = fuente_s2.value_counts()\n",
    "print contadores\n",
    "print \"Entropia de la fuente =\", entropia_fuente(fuente_s2)\n",
    "print informacion_simbolos(fuente_s2)"
   ]
  },
  {
   "cell_type": "markdown",
   "metadata": {},
   "source": [
    "## Analisis de simbolos distinguidos utilizando is_at packages"
   ]
  },
  {
   "cell_type": "code",
   "execution_count": 363,
   "metadata": {
    "collapsed": true
   },
   "outputs": [],
   "source": [
    "def simbolo_s3(package):\n",
    "    return package.psrc"
   ]
  },
  {
   "cell_type": "code",
   "execution_count": 364,
   "metadata": {
    "collapsed": false
   },
   "outputs": [
    {
     "name": "stdout",
     "output_type": "stream",
     "text": [
      "10.254.213.74    10\n",
      "dtype: int64\n",
      "Entropia de la fuente = -0.0\n",
      "10.254.213.74   -0.0\n",
      "dtype: float64\n"
     ]
    }
   ],
   "source": [
    "fuente_s3 = pd.Series([simbolo_s3(p) for p in is_at_packages])\n",
    "contadores_s3 = fuente_s3.value_counts()\n",
    "print contadores_s3\n",
    "print \"Entropia de la fuente =\", entropia_fuente(fuente_s3)\n",
    "print informacion_simbolos(fuente_s3)"
   ]
  },
  {
   "cell_type": "code",
   "execution_count": 365,
   "metadata": {
    "collapsed": false
   },
   "outputs": [
    {
     "data": {
      "text/plain": [
       "10"
      ]
     },
     "execution_count": 365,
     "metadata": {},
     "output_type": "execute_result"
    }
   ],
   "source": [
    "len(is_at_packages)"
   ]
  },
  {
   "cell_type": "code",
   "execution_count": null,
   "metadata": {
    "collapsed": true
   },
   "outputs": [],
   "source": []
  }
 ],
 "metadata": {
  "kernelspec": {
   "display_name": "Python 3",
   "language": "python",
   "name": "python3"
  },
  "language_info": {
   "codemirror_mode": {
    "name": "ipython",
    "version": 3
   },
   "file_extension": ".py",
   "mimetype": "text/x-python",
   "name": "python",
   "nbconvert_exporter": "python",
   "pygments_lexer": "ipython3",
   "version": "3.4.3+"
  }
 },
 "nbformat": 4,
 "nbformat_minor": 1
}
