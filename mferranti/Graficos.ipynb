{
 "cells": [
  {
   "cell_type": "code",
   "execution_count": 8,
   "metadata": {
    "collapsed": false
   },
   "outputs": [],
   "source": [
    "import scapy.all as sc\n",
    "import numpy as np\n",
    "import pandas as pd\n",
    "from scipy.stats import entropy\n",
    "\n",
    "SNIFF_TIMEOUT = 1200\n",
    "BROADCAST = \"BROADCAST\"\n",
    "UNICAST = \"UNICAST\"\n",
    "PCAP_FILE = \"packages-taringa-office-20mins.pcap\"\n",
    "ARP_OP_WHO_HAS = 1\n",
    "ARP_OP_IS_AT = 2"
   ]
  },
  {
   "cell_type": "code",
   "execution_count": 9,
   "metadata": {
    "collapsed": false
   },
   "outputs": [],
   "source": [
    "import numpy as np\n",
    "import matplotlib.pyplot as plt\n",
    "import matplotlib.patches as mpatches\n",
    "\n",
    "def agrupar_valores(fuente):\n",
    "    infoSimb = informacion_simbolos(fuente)\n",
    "    return set(infoSimb.get_values())\n",
    "\n",
    "def graficar_histograma(titulo, etiquetaY, etiquetasBarras, tamanosBarras):\n",
    "    #configuracion de colores\n",
    "    colorBarras = '#3D7DAA' #34627C'\n",
    "    colorBordeBarras = '#1E4150'#'#3C7DAA'\n",
    "    colorFondo = '#E6E6E6'    \n",
    "    colorFuente = '#222020'\n",
    "\n",
    "    fig = plt.figure()\n",
    "    ax = fig.add_subplot(111)\n",
    "    \n",
    "    #configuracion de la grilla y el fondo\n",
    "    ax.grid(zorder=0)\n",
    "    ax.grid(True)\n",
    "    plt.grid(b=True, which='both', color='w',linestyle='-', linewidth=1)\n",
    "    ax.set_axis_bgcolor(colorFondo) \n",
    "    ax.spines['bottom'].set_color('w')\n",
    "    ax.spines['top'].set_color('w')\n",
    "    ax.spines['left'].set_color('w')\n",
    "    ax.spines['right'].set_color('w')\n",
    "\n",
    "    #tamanosBarras = agrupar_valores(tamanosBarras)\n",
    "\n",
    "    ind = np.arange(len(tamanosBarras)) # las posiciones x de las barras tamanosBarras.size\n",
    "    anchoBarra = 0.35                         # ancho de las barras\n",
    "\n",
    "    rects1 = ax.bar(ind, tamanosBarras, anchoBarra, color=colorBarras, edgecolor=colorBordeBarras, zorder=3)\n",
    "\n",
    "    # ejes y etiquetas\n",
    "    ax.set_xlim(-anchoBarra,len(ind)+anchoBarra)\n",
    "    #ax.set_ylim(0, 10)\n",
    "    ax.set_ylim(0, max(tamanosBarras)+1)\n",
    "    #ax.set_xlim(0, 100)\n",
    "\n",
    "    ax.set_ylabel(etiquetaY)\n",
    "    ax.set_title(titulo)\n",
    "    xTickMarks = etiquetasBarras\n",
    "    \n",
    "    ax.set_xticks(ind+anchoBarra)\n",
    "    xtickNames = ax.set_xticklabels(xTickMarks)\n",
    "    plt.setp(xtickNames, rotation=0, fontsize=10, weight='bold', color=colorFuente)\n",
    "    \n",
    "    \n",
    "    return ax.get_figure()\n",
    "\n",
    "def graficar_comparacion_simbolos_fuente(titulo, etiquetaY, etiquetasBarras, entropia, tamanosBarras):    \n",
    "    fig = graficar_histograma(titulo, etiquetaY, etiquetasBarras, tamanosBarras)\n",
    "\n",
    "    colorEntropia = '#BF111D'    \n",
    "    plt.axhline(entropia, color='r', linestyle='-', linewidth=2, zorder=4)\n",
    "\n",
    "    red_patch = mpatches.Patch(color=colorEntropia, label='Entropia')\n",
    "    plt.legend(handles=[red_patch])\n",
    "    fig.savefig(\"gr.png\", figsize=(1200,1200),  dpi=200)\n",
    "    plt.show()\n",
    "\n",
    "def graficar_comparacion_simbolos_entropia(fuente):   \n",
    "    titulo = \"Comparacion entre la informacion de los simbolos y la entropia de la fuente\"\n",
    "    etiquetaY =\"Informacion\"\n",
    "    etiquetasBarras = [\"UNICAST\", \"BROADCAST\"]    \n",
    "    graficar_comparacion_simbolos_fuente(titulo, etiquetaY, etiquetasBarras, entropia_fuente(fuente), informacion_simbolos(fuente))\n",
    "\n",
    "def graficar_comparacion_simbolos_entropia_agrupados(fuente):   \n",
    "    titulo = \"Comparacion entre la informacion de los simbolos y la entropia de la fuente\"\n",
    "    etiquetaY =\"Informacion\"\n",
    "    etiquetasBarras = []    \n",
    "    \n",
    "    tamanosBarrasAgrupados = set(informacion_simbolos(fuente).values)\n",
    "    graficar_comparacion_simbolos_fuente(titulo, etiquetaY, etiquetasBarras, entropia_fuente(fuente), tamanosBarrasAgrupados)\n"
   ]
  },
  {
   "cell_type": "code",
   "execution_count": 10,
   "metadata": {
    "collapsed": true
   },
   "outputs": [],
   "source": [
    "packages = sc.sniff(offline=PCAP_FILE, lfilter=lambda x: x.haslayer(sc.ARP))\n",
    "arp_packages = map(lambda p: p[\"ARP\"], packages)\n",
    "who_has_packages = filter(lambda p : p.op == ARP_OP_WHO_HAS,arp_packages)\n",
    "is_at_packages = filter(lambda p : p.op == ARP_OP_IS_AT, arp_packages)"
   ]
  },
  {
   "cell_type": "code",
   "execution_count": 11,
   "metadata": {
    "collapsed": false
   },
   "outputs": [
    {
     "name": "stdout",
     "output_type": "stream",
     "text": [
      "Entropia fuente S = 0.214108480259\n",
      "BROADCAST    2244\n",
      "UNICAST        79\n",
      "dtype: int64\n",
      "BROADCAST    0.049916\n",
      "UNICAST      4.877993\n",
      "dtype: float64\n"
     ]
    },
    {
     "data": {
      "image/png": "[encoded data removed]",
      "text/plain": [
       "<matplotlib.figure.Figure at 0x7f7401ce5668>"
      ]
     },
     "metadata": {},
     "output_type": "display_data"
    }
   ],
   "source": [
    "def simbolo_s(package):\n",
    "    if package.dst == 'ff:ff:ff:ff:ff:ff':\n",
    "        return BROADCAST\n",
    "    else:\n",
    "        return UNICAST\n",
    "\n",
    "def entropia_fuente(fuente):\n",
    "    counts = fuente.value_counts()\n",
    "    return entropy(base=2,pk=counts.as_matrix())\n",
    "\n",
    "def informacion_simbolos(fuente):\n",
    "    counts = fuente.value_counts() # ocurrencias de cada ip\n",
    "    total = counts.sum()\n",
    "    probs = counts / float(total)\n",
    "    return pd.Series(- np.log2(probs), index=counts.index)\n",
    "\n",
    "fuente = pd.Series([simbolo_s(p) for p in packages])\n",
    "contadores = fuente.value_counts()\n",
    "print (\"Entropia fuente S =\", entropia_fuente(fuente))\n",
    "print (contadores)\n",
    "print (informacion_simbolos(fuente))\n",
    "\n",
    "graficar_comparacion_simbolos_entropia(fuente)"
   ]
  },
  {
   "cell_type": "code",
   "execution_count": 12,
   "metadata": {
    "collapsed": false
   },
   "outputs": [
    {
     "name": "stdout",
     "output_type": "stream",
     "text": [
      "Entropia de la fuente = 3.72820824002\n"
     ]
    },
    {
     "data": {
      "image/png": "[encoded data removed]",
      "text/plain": [
       "<matplotlib.figure.Figure at 0x7f73cfe0d6a0>"
      ]
     },
     "metadata": {},
     "output_type": "display_data"
    }
   ],
   "source": [
    "fuente_s2 = pd.Series([p.pdst for p in who_has_packages])\n",
    "contadores = fuente_s2.value_counts()\n",
    "#convierto contadores a un array y luego este a un conjunto\n",
    "#valores_diferentes = set(contadores.values)\n",
    "#print \"valores diferentes:\", len(valores_diferentes)\n",
    "\n",
    "print(\"Entropia de la fuente =\", entropia_fuente(fuente_s2))\n",
    "\n",
    "graficar_comparacion_simbolos_entropia_agrupados(fuente_s2)"
   ]
  },
  {
   "cell_type": "code",
   "execution_count": 13,
   "metadata": {
    "collapsed": false
   },
   "outputs": [
    {
     "data": {
      "image/png": "[encoded data removed]",
      "text/plain": [
       "<matplotlib.figure.Figure at 0x7f73cd7e07f0>"
      ]
     },
     "metadata": {},
     "output_type": "display_data"
    },
    {
     "name": "stdout",
     "output_type": "stream",
     "text": [
      "Cantidad de Nodos:  0\n",
      "Cantidad de Enlaces:  0\n"
     ]
    }
   ],
   "source": [
    "import networkx as nx\n",
    "import numpy as np\n",
    "import matplotlib.pyplot as plt\n",
    "import pylab\n",
    "\n",
    "# en cantidadMinimaInteracciones pasamos la cantidad minima \n",
    "# de interacciones que tiene que tener el nodo para ser graficado\n",
    "def crear_grafo_cmin(paquetes, cMinIntNodo):\n",
    "    grafo = nx.Graph()\n",
    "    \n",
    "    fuente = pd.Series([p.pdst for p in who_has_packages])\n",
    "    contadores = fuente.value_counts()\n",
    "    etiquetas={}\n",
    "\n",
    "    for paquete in paquetes:\n",
    "        agregar_paquete(grafo, paquete, etiquetas, contadores, cMinIntNodo)\n",
    "    \n",
    "    plt.figure(figsize=(12,12)) \n",
    "\n",
    "    pos=nx.spring_layout(grafo)\n",
    "    nx.draw_networkx_labels(grafo,pos,etiquetas,node_size=60,font_size=8)\n",
    "    nx.draw(grafo,pos,node_size=150,font_size=8)\n",
    "    pylab.show()\n",
    "    return grafo\n",
    "\n",
    "def crear_grafo(paquetes):\n",
    "    return crear_grafo_cmin(paquetes, 0)\n",
    "\n",
    "def agregar_paquete(grafo, paquete, etiquetas, contadores, cMinIntNodo):\n",
    "    origen = paquete.psrc\n",
    "    destino = paquete.pdst\n",
    "    cantNodos = 0\n",
    "    \n",
    "    if (contadores[destino]>=cMinIntNodo):\n",
    "        if (not grafo.has_node(origen)):\n",
    "            grafo.add_node(origen)\n",
    "            etiquetas[origen]=origen\n",
    "            cantNodos = cantNodos + 1\n",
    "        if (not grafo.has_node(destino)):\n",
    "            grafo.add_node(destino)\n",
    "            etiquetas[destino]=destino\n",
    "            cantNodos = cantNodos + 1\n",
    "        grafo.add_edge(origen, destino)\n",
    "    \n",
    "    #grafo.remove_node(\"0.0.0.0\")\n",
    "    \n",
    "    #nx.draw(grafo, pos, node_color=range(cantNodos), cmap=plt.cm.Blues)\n",
    "    return grafo\n",
    "\n",
    "        \n",
    "A = crear_grafo(who_has_packages)        \n",
    "\n",
    "\n",
    "print(\"Cantidad de Nodos: \", A.number_of_nodes())\n",
    "print(\"Cantidad de Enlaces: \", A.number_of_edges())"
   ]
  },
  {
   "cell_type": "code",
   "execution_count": 14,
   "metadata": {
    "collapsed": false
   },
   "outputs": [],
   "source": [
    "def setear_esquema_sin_etiquetas(grafo, ancho, alto, tamano_nodo, tamano_fuente):\n",
    "    plt.figure(3, figsize=(ancho, alto)) \n",
    "    pos=nx.spring_layout(grafo)\n",
    "    nx.draw(grafo, pos, node_size=tamano_nodo, font_size=tamano_fuente)\n",
    "\n",
    "def setear_esquema(grafo, ancho, alto, tamano_nodo, tamano_fuente):\n",
    "    plt.figure(3, figsize=(ancho, alto)) \n",
    "    pos=nx.spring_layout(grafo)\n",
    "    print(etiquetas)\n",
    "    nx.draw_networkx_labels(grafo,pos,etiquetas,node_size=60,font_size=8)\n",
    "    nx.draw(grafo, pos, node_size=tamano_nodo, font_size=tamano_fuente)\n",
    "\n",
    "#G.remove_edge(\"0.0.0.0\", \"10.2.2.9\")\n",
    "\n",
    "graphs = list(nx.connected_component_subgraphs(A))\n",
    "\n",
    "for graph in graphs:\n",
    "    setear_esquema_sin_etiquetas(graph, 20, 20, 150, 8)\n",
    "    pylab.show()"
   ]
  }
 ],
 "metadata": {
  "kernelspec": {
   "display_name": "Python 3",
   "language": "python",
   "name": "python3"
  },
  "language_info": {
   "codemirror_mode": {
    "name": "ipython",
    "version": 3
   },
   "file_extension": ".py",
   "mimetype": "text/x-python",
   "name": "python",
   "nbconvert_exporter": "python",
   "pygments_lexer": "ipython3",
   "version": "3.4.3+"
  }
 },
 "nbformat": 4,
 "nbformat_minor": 1
}
