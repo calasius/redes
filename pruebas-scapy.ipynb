{
 "cells": [
  {
   "cell_type": "code",
   "execution_count": 154,
   "metadata": {
    "collapsed": false
   },
   "outputs": [],
   "source": [
    "import scapy.all as sc\n",
    "import numpy as np\n",
    "import pandas as pd\n",
    "from scipy.stats import entropy"
   ]
  },
  {
   "cell_type": "code",
   "execution_count": 320,
   "metadata": {
    "collapsed": true
   },
   "outputs": [],
   "source": [
    "SNIFF_TIMEOUT = 600\n",
    "BROADCAST = \"BROADCAST\"\n",
    "UNICAST = \"UNICAST\"\n",
    "PCAP_FILE = \"packages.pcap\"\n",
    "ARP_OP_WHO_HAS = 1\n",
    "ARP_OP_IS_AT = 2"
   ]
  },
  {
   "cell_type": "markdown",
   "metadata": {},
   "source": [
    "## Hago sniff durante sniff_timeout segundos"
   ]
  },
  {
   "cell_type": "code",
   "execution_count": 321,
   "metadata": {
    "collapsed": false
   },
   "outputs": [],
   "source": [
    "packages = sc.sniff(timeout=SNIFF_TIMEOUT)"
   ]
  },
  {
   "cell_type": "markdown",
   "metadata": {},
   "source": [
    "## Guardo los paquetes en formato pcap"
   ]
  },
  {
   "cell_type": "code",
   "execution_count": 322,
   "metadata": {
    "collapsed": true
   },
   "outputs": [],
   "source": [
    "sc.wrpcap(PCAP_FILE,packages)"
   ]
  },
  {
   "cell_type": "markdown",
   "metadata": {},
   "source": [
    "## Leo los paquetes del archivo .pcap"
   ]
  },
  {
   "cell_type": "code",
   "execution_count": 323,
   "metadata": {
    "collapsed": false
   },
   "outputs": [],
   "source": [
    "packages = sc.sniff(offline=PCAP_FILE)"
   ]
  },
  {
   "cell_type": "markdown",
   "metadata": {},
   "source": [
    "## Ejercicio 3.2.1"
   ]
  },
  {
   "cell_type": "code",
   "execution_count": 324,
   "metadata": {
    "collapsed": true
   },
   "outputs": [],
   "source": [
    "def simbolo_s(package):\n",
    "    if p.dst == 'ff:ff:ff:ff:ff:ff':\n",
    "        return BROADCAST\n",
    "    else:\n",
    "        return UNICAST"
   ]
  },
  {
   "cell_type": "code",
   "execution_count": 325,
   "metadata": {
    "collapsed": false
   },
   "outputs": [],
   "source": [
    "def entropia_fuente(fuente):\n",
    "    counts = fuente.value_counts()\n",
    "    return entropy(base=2,pk=counts.as_matrix())"
   ]
  },
  {
   "cell_type": "code",
   "execution_count": 326,
   "metadata": {
    "collapsed": true
   },
   "outputs": [],
   "source": [
    "def informacion_simbolos(fuente):\n",
    "    counts = fuente.value_counts()\n",
    "    total = counts.sum()\n",
    "    probs = counts / float(total)\n",
    "    return pd.Series(- np.log2(probs), index=counts.index)"
   ]
  },
  {
   "cell_type": "code",
   "execution_count": 327,
   "metadata": {
    "collapsed": false
   },
   "outputs": [
    {
     "name": "stdout",
     "output_type": "stream",
     "text": [
      "Entropia fuente S = 0.250502744127\n",
      "UNICAST      7564\n",
      "BROADCAST     330\n",
      "dtype: int64\n",
      "UNICAST      0.061607\n",
      "BROADCAST    4.580219\n",
      "dtype: float64\n"
     ]
    }
   ],
   "source": [
    "fuente = pd.Series([simbolo_s(p) for p in packages])\n",
    "contadores = fuente.value_counts()\n",
    "print \"Entropia fuente S =\", entropia_fuente(fuente)\n",
    "print contadores\n",
    "print informacion_simbolos(fuente)"
   ]
  },
  {
   "cell_type": "markdown",
   "metadata": {},
   "source": [
    "## Ejercicio 3.2.2"
   ]
  },
  {
   "cell_type": "code",
   "execution_count": 328,
   "metadata": {
    "collapsed": true
   },
   "outputs": [],
   "source": [
    "arp_packages = sc.sniff(offline=PCAP_FILE, lfilter=lambda x: x.haslayer(sc.ARP))"
   ]
  },
  {
   "cell_type": "code",
   "execution_count": 329,
   "metadata": {
    "collapsed": false
   },
   "outputs": [],
   "source": [
    "arp_packages = map(lambda p: p[\"ARP\"], arp_packages)\n",
    "who_has_packages = filter(lambda p : p.op == ARP_OP_WHO_HAS,arp_packages)\n",
    "is_at_packages = filter(lambda p : p.op == ARP_OP_IS_AT, arp_packages)"
   ]
  },
  {
   "cell_type": "code",
   "execution_count": 330,
   "metadata": {
    "collapsed": false
   },
   "outputs": [
    {
     "data": {
      "text/plain": [
       "<ARP  hwtype=0x1 ptype=0x800 hwlen=6 plen=4 op=is-at hwsrc=e4:48:c7:c8:31:b9 psrc=192.168.1.254 hwdst=c4:85:08:d9:07:e2 pdst=192.168.1.100 |>"
      ]
     },
     "execution_count": 330,
     "metadata": {},
     "output_type": "execute_result"
    }
   ],
   "source": [
    "is_at_packages[0]"
   ]
  },
  {
   "cell_type": "code",
   "execution_count": 331,
   "metadata": {
    "collapsed": false
   },
   "outputs": [
    {
     "data": {
      "text/plain": [
       "<ARP  hwtype=0x1 ptype=0x800 hwlen=6 plen=4 op=who-has hwsrc=5c:51:88:4d:6c:13 psrc=192.168.1.10 hwdst=00:00:00:00:00:00 pdst=192.168.1.1 |>"
      ]
     },
     "execution_count": 331,
     "metadata": {},
     "output_type": "execute_result"
    }
   ],
   "source": [
    "who_has_packages[0]"
   ]
  },
  {
   "cell_type": "markdown",
   "metadata": {},
   "source": [
    "## Analisis de simbolos distinguidos utilizando who-has packages"
   ]
  },
  {
   "cell_type": "code",
   "execution_count": 332,
   "metadata": {
    "collapsed": true
   },
   "outputs": [],
   "source": [
    "def simbolo_s2(package):\n",
    "    return package.pdst"
   ]
  },
  {
   "cell_type": "code",
   "execution_count": 333,
   "metadata": {
    "collapsed": false
   },
   "outputs": [
    {
     "name": "stdout",
     "output_type": "stream",
     "text": [
      "192.168.1.1      61\n",
      "192.168.1.10      3\n",
      "192.168.1.254     2\n",
      "dtype: int64\n",
      "Entropia de la fuente = 0.460608284608\n",
      "192.168.1.1      0.113657\n",
      "192.168.1.10     4.459432\n",
      "192.168.1.254    5.044394\n",
      "dtype: float64\n"
     ]
    }
   ],
   "source": [
    "fuente_s2 = pd.Series([simbolo_s2(p) for p in who_has_packages])\n",
    "contadores = fuente_s2.value_counts()\n",
    "print contadores\n",
    "print \"Entropia de la fuente =\", entropia_fuente(fuente_s2)\n",
    "print informacion_simbolos(fuente_s2)"
   ]
  },
  {
   "cell_type": "markdown",
   "metadata": {},
   "source": [
    "## Analisis de simbolos distinguidos utilizando is_at packages"
   ]
  },
  {
   "cell_type": "code",
   "execution_count": 334,
   "metadata": {
    "collapsed": true
   },
   "outputs": [],
   "source": [
    "def simbolo_s3(package):\n",
    "    return package.psrc"
   ]
  },
  {
   "cell_type": "code",
   "execution_count": 335,
   "metadata": {
    "collapsed": false
   },
   "outputs": [
    {
     "name": "stdout",
     "output_type": "stream",
     "text": [
      "192.168.1.254    1\n",
      "dtype: int64\n",
      "Entropia de la fuente = -0.0\n",
      "192.168.1.254   -0.0\n",
      "dtype: float64\n"
     ]
    }
   ],
   "source": [
    "fuente_s3 = pd.Series([simbolo_s3(p) for p in is_at_packages])\n",
    "contadores_s3 = fuente_s3.value_counts()\n",
    "print contadores_s3\n",
    "print \"Entropia de la fuente =\", entropia_fuente(fuente_s3)\n",
    "print informacion_simbolos(fuente_s3)"
   ]
  },
  {
   "cell_type": "code",
   "execution_count": 336,
   "metadata": {
    "collapsed": false
   },
   "outputs": [
    {
     "data": {
      "text/plain": [
       "1"
      ]
     },
     "execution_count": 336,
     "metadata": {},
     "output_type": "execute_result"
    }
   ],
   "source": [
    "len(is_at_packages)"
   ]
  },
  {
   "cell_type": "code",
   "execution_count": null,
   "metadata": {
    "collapsed": true
   },
   "outputs": [],
   "source": []
  }
 ],
 "metadata": {
  "kernelspec": {
   "display_name": "Python 2",
   "language": "python",
   "name": "python2"
  },
  "language_info": {
   "codemirror_mode": {
    "name": "ipython",
    "version": 2
   },
   "file_extension": ".py",
   "mimetype": "text/x-python",
   "name": "python",
   "nbconvert_exporter": "python",
   "pygments_lexer": "ipython2",
   "version": "2.7.6"
  }
 },
 "nbformat": 4,
 "nbformat_minor": 1
}
