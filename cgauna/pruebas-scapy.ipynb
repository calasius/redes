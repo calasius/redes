{
 "cells": [
  {
   "cell_type": "code",
   "execution_count": 1,
   "metadata": {
    "collapsed": false
   },
   "outputs": [
    {
     "name": "stderr",
     "output_type": "stream",
     "text": [
      "WARNING: No route found for IPv6 destination :: (no default route?)\n"
     ]
    }
   ],
   "source": [
    "import scapy.all as sc\n",
    "import numpy as np\n",
    "import pandas as pd\n",
    "from scipy.stats import entropy"
   ]
  },
  {
   "cell_type": "code",
   "execution_count": 2,
   "metadata": {
    "collapsed": true
   },
   "outputs": [],
   "source": [
    "SNIFF_TIMEOUT = 1200\n",
    "BROADCAST = \"BROADCAST\"\n",
    "UNICAST = \"UNICAST\"\n",
    "PCAP_FILE = \"packages.pcap\"\n",
    "ARP_OP_WHO_HAS = 1\n",
    "ARP_OP_IS_AT = 2"
   ]
  },
  {
   "cell_type": "markdown",
   "metadata": {},
   "source": [
    "## Hago sniff durante sniff_timeout segundos"
   ]
  },
  {
   "cell_type": "code",
   "execution_count": 3,
   "metadata": {
    "collapsed": false
   },
   "outputs": [],
   "source": [
    "packages = sc.sniff(timeout=SNIFF_TIMEOUT)"
   ]
  },
  {
   "cell_type": "markdown",
   "metadata": {},
   "source": [
    "## Guardo los paquetes en formato pcap"
   ]
  },
  {
   "cell_type": "code",
   "execution_count": 4,
   "metadata": {
    "collapsed": true
   },
   "outputs": [],
   "source": [
    "sc.wrpcap(PCAP_FILE,packages)"
   ]
  },
  {
   "cell_type": "markdown",
   "metadata": {},
   "source": [
    "## Leo los paquetes del archivo .pcap"
   ]
  },
  {
   "cell_type": "code",
   "execution_count": 5,
   "metadata": {
    "collapsed": false
   },
   "outputs": [],
   "source": [
    "packages = sc.sniff(offline=PCAP_FILE)"
   ]
  },
  {
   "cell_type": "markdown",
   "metadata": {},
   "source": [
    "## Ejercicio 3.2.1"
   ]
  },
  {
   "cell_type": "code",
   "execution_count": 6,
   "metadata": {
    "collapsed": true
   },
   "outputs": [],
   "source": [
    "def simbolo_s(package):\n",
    "    if p.dst == 'ff:ff:ff:ff:ff:ff':\n",
    "        return BROADCAST\n",
    "    else:\n",
    "        return UNICAST"
   ]
  },
  {
   "cell_type": "code",
   "execution_count": 7,
   "metadata": {
    "collapsed": false
   },
   "outputs": [],
   "source": [
    "def entropia_fuente(fuente):\n",
    "    counts = fuente.value_counts()\n",
    "    return entropy(base=2,pk=counts.as_matrix())"
   ]
  },
  {
   "cell_type": "code",
   "execution_count": 8,
   "metadata": {
    "collapsed": true
   },
   "outputs": [],
   "source": [
    "def informacion_simbolos(fuente):\n",
    "    counts = fuente.value_counts()\n",
    "    total = counts.sum()\n",
    "    probs = counts / float(total)\n",
    "    return pd.Series(- np.log2(probs), index=counts.index)"
   ]
  },
  {
   "cell_type": "code",
   "execution_count": 9,
   "metadata": {
    "collapsed": false
   },
   "outputs": [
    {
     "name": "stdout",
     "output_type": "stream",
     "text": [
      "Entropia fuente S = 0.615759989127\n",
      "UNICAST      20832\n",
      "BROADCAST     3745\n",
      "dtype: int64\n",
      "UNICAST      0.238507\n",
      "BROADCAST    2.714271\n",
      "dtype: float64\n"
     ]
    }
   ],
   "source": [
    "fuente = pd.Series([simbolo_s(p) for p in packages])\n",
    "contadores = fuente.value_counts()\n",
    "print \"Entropia fuente S =\", entropia_fuente(fuente)\n",
    "print contadores\n",
    "print informacion_simbolos(fuente)"
   ]
  },
  {
   "cell_type": "markdown",
   "metadata": {},
   "source": [
    "## Ejercicio 3.2.2"
   ]
  },
  {
   "cell_type": "code",
   "execution_count": 10,
   "metadata": {
    "collapsed": true
   },
   "outputs": [],
   "source": [
    "arp_packages = sc.sniff(offline=PCAP_FILE, lfilter=lambda x: x.haslayer(sc.ARP))"
   ]
  },
  {
   "cell_type": "code",
   "execution_count": 24,
   "metadata": {
    "collapsed": false
   },
   "outputs": [],
   "source": [
    "arp_packages = map(lambda p: p[\"ARP\"], arp_packages)\n",
    "who_has_packages = filter(lambda p : p.op == ARP_OP_WHO_HAS,arp_packages)\n",
    "is_at_packages = filter(lambda p : p.op == ARP_OP_IS_AT, arp_packages)"
   ]
  },
  {
   "cell_type": "code",
   "execution_count": 32,
   "metadata": {
    "collapsed": false
   },
   "outputs": [
    {
     "data": {
      "text/plain": [
       "<ARP  hwtype=0x1 ptype=0x800 hwlen=6 plen=4 op=is-at hwsrc=a0:ce:c8:03:1d:eb psrc=10.254.213.103 hwdst=00:90:9a:9d:ab:33 pdst=10.254.213.28 |<Padding  load='\\x00\\x00\\x00\\x00\\x00\\x00\\x00\\x00\\x00\\x00\\x00\\x00\\x00\\x00\\x00\\x00\\x00\\x00' |>>"
      ]
     },
     "execution_count": 32,
     "metadata": {},
     "output_type": "execute_result"
    }
   ],
   "source": [
    "is_at_packages[10]"
   ]
  },
  {
   "cell_type": "code",
   "execution_count": 26,
   "metadata": {
    "collapsed": false
   },
   "outputs": [
    {
     "data": {
      "text/plain": [
       "<ARP  hwtype=0x1 ptype=0x800 hwlen=6 plen=4 op=who-has hwsrc=c4:da:26:05:7c:75 psrc=10.254.213.39 hwdst=00:00:00:00:00:00 pdst=10.254.213.254 |<Padding  load='\\x00\\x00\\x00\\x00\\x00\\x00\\x00\\x00\\x00\\x00\\x00\\x00\\x00\\x00\\x00\\x00\\x00\\x00' |>>"
      ]
     },
     "execution_count": 26,
     "metadata": {},
     "output_type": "execute_result"
    }
   ],
   "source": [
    "who_has_packages[0]"
   ]
  },
  {
   "cell_type": "markdown",
   "metadata": {},
   "source": [
    "## Analisis de simbolos distinguidos utilizando who-has packages"
   ]
  },
  {
   "cell_type": "code",
   "execution_count": 27,
   "metadata": {
    "collapsed": true
   },
   "outputs": [],
   "source": [
    "def simbolo_s2(package):\n",
    "    return package.pdst"
   ]
  },
  {
   "cell_type": "code",
   "execution_count": 35,
   "metadata": {
    "collapsed": false
   },
   "outputs": [
    {
     "name": "stdout",
     "output_type": "stream",
     "text": [
      "10.254.213.254     137\n",
      "10.254.95.254       57\n",
      "10.254.213.74       43\n",
      "169.254.255.255     29\n",
      "10.254.213.28       14\n",
      "10.254.213.41       10\n",
      "10.254.213.63        8\n",
      "10.254.213.49        5\n",
      "10.254.213.88        4\n",
      "10.254.213.45        4\n",
      "10.254.213.66        2\n",
      "10.254.213.97        2\n",
      "10.254.213.103       2\n",
      "10.254.213.25        1\n",
      "10.254.213.57        1\n",
      "dtype: int64\n",
      "Entropia de la fuente = 2.60190211277\n",
      "Informacion simbolos\n",
      "10.254.213.254     1.219381\n",
      "10.254.95.254      2.484523\n",
      "10.254.213.74      2.891148\n",
      "169.254.255.255    3.459432\n",
      "10.254.213.28      4.510058\n",
      "10.254.213.41      4.995485\n",
      "10.254.213.63      5.317413\n",
      "10.254.213.49      5.995485\n",
      "10.254.213.88      6.317413\n",
      "10.254.213.45      6.317413\n",
      "10.254.213.66      7.317413\n",
      "10.254.213.97      7.317413\n",
      "10.254.213.103     7.317413\n",
      "10.254.213.25      8.317413\n",
      "10.254.213.57      8.317413\n",
      "dtype: float64\n"
     ]
    }
   ],
   "source": [
    "fuente_s2 = pd.Series([simbolo_s2(p) for p in who_has_packages])\n",
    "contadores = fuente_s2.value_counts()\n",
    "print contadores\n",
    "print \"Entropia de la fuente =\", entropia_fuente(fuente_s2)\n",
    "print \"Informacion simbolos\"\n",
    "print informacion_simbolos(fuente_s2).iloc[:]"
   ]
  },
  {
   "cell_type": "markdown",
   "metadata": {},
   "source": [
    "## Analisis de simbolos distinguidos utilizando is_at packages"
   ]
  },
  {
   "cell_type": "code",
   "execution_count": 29,
   "metadata": {
    "collapsed": true
   },
   "outputs": [],
   "source": [
    "def simbolo_s3(package):\n",
    "    return package.psrc"
   ]
  },
  {
   "cell_type": "code",
   "execution_count": 30,
   "metadata": {
    "collapsed": false
   },
   "outputs": [
    {
     "name": "stdout",
     "output_type": "stream",
     "text": [
      "10.254.213.74     43\n",
      "10.254.213.103     1\n",
      "dtype: int64\n",
      "Entropia de la fuente = 0.156491062906\n",
      "10.254.213.74     0.033167\n",
      "10.254.213.103    5.459432\n",
      "dtype: float64\n"
     ]
    }
   ],
   "source": [
    "fuente_s3 = pd.Series([simbolo_s3(p) for p in is_at_packages])\n",
    "contadores_s3 = fuente_s3.value_counts()\n",
    "print contadores_s3\n",
    "print \"Entropia de la fuente =\", entropia_fuente(fuente_s3)\n",
    "print informacion_simbolos(fuente_s3)"
   ]
  },
  {
   "cell_type": "code",
   "execution_count": 31,
   "metadata": {
    "collapsed": false
   },
   "outputs": [
    {
     "data": {
      "text/plain": [
       "44"
      ]
     },
     "execution_count": 31,
     "metadata": {},
     "output_type": "execute_result"
    }
   ],
   "source": [
    "len(is_at_packages)"
   ]
  },
  {
   "cell_type": "code",
   "execution_count": null,
   "metadata": {
    "collapsed": true
   },
   "outputs": [],
   "source": []
  }
 ],
 "metadata": {
  "kernelspec": {
   "display_name": "Python 2",
   "language": "python",
   "name": "python2"
  },
  "language_info": {
   "codemirror_mode": {
    "name": "ipython",
    "version": 2
   },
   "file_extension": ".py",
   "mimetype": "text/x-python",
   "name": "python",
   "nbconvert_exporter": "python",
   "pygments_lexer": "ipython2",
   "version": "2.7.6"
  }
 },
 "nbformat": 4,
 "nbformat_minor": 1
}
