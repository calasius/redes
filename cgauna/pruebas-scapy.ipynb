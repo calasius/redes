{
 "cells": [
  {
   "cell_type": "code",
   "execution_count": 1,
   "metadata": {
    "collapsed": false
   },
   "outputs": [
    {
     "name": "stderr",
     "output_type": "stream",
     "text": [
      "WARNING: No route found for IPv6 destination :: (no default route?)\n"
     ]
    }
   ],
   "source": [
    "import scapy.all as sc\n",
    "import numpy as np\n",
    "import pandas as pd\n",
    "from scipy.stats import entropy"
   ]
  },
  {
   "cell_type": "code",
   "execution_count": 26,
   "metadata": {
    "collapsed": true
   },
   "outputs": [],
   "source": [
    "SNIFF_TIMEOUT = 1200\n",
    "BROADCAST = \"BROADCAST\"\n",
    "UNICAST = \"UNICAST\"\n",
    "PCAP_FILE = \"packages-mg-1.pcap\"\n",
    "ARP_OP_WHO_HAS = 1\n",
    "ARP_OP_IS_AT = 2"
   ]
  },
  {
   "cell_type": "markdown",
   "metadata": {},
   "source": [
    "## Hago sniff durante sniff_timeout segundos"
   ]
  },
  {
   "cell_type": "code",
   "execution_count": null,
   "metadata": {
    "collapsed": false
   },
   "outputs": [],
   "source": [
    "%%time\n",
    "packages = sc.sniff(timeout=SNIFF_TIMEOUT)"
   ]
  },
  {
   "cell_type": "markdown",
   "metadata": {},
   "source": [
    "## Guardo los paquetes en formato pcap"
   ]
  },
  {
   "cell_type": "code",
   "execution_count": null,
   "metadata": {
    "collapsed": false
   },
   "outputs": [],
   "source": [
    "sc.wrpcap(PCAP_FILE,packages)"
   ]
  },
  {
   "cell_type": "markdown",
   "metadata": {},
   "source": [
    "## Leo los paquetes del archivo .pcap"
   ]
  },
  {
   "cell_type": "code",
   "execution_count": 11,
   "metadata": {
    "collapsed": false
   },
   "outputs": [
    {
     "name": "stdout",
     "output_type": "stream",
     "text": [
      "Cantidad de paquetes leidos = 46163\n",
      "CPU times: user 31.3 s, sys: 626 ms, total: 31.9 s\n",
      "Wall time: 32 s\n"
     ]
    }
   ],
   "source": [
    "%%time\n",
    "packages = sc.sniff(offline=PCAP_FILE)\n",
    "print \"Cantidad de paquetes leidos =\", len(packages)"
   ]
  },
  {
   "cell_type": "markdown",
   "metadata": {},
   "source": [
    "## Ejercicio 3.2.1"
   ]
  },
  {
   "cell_type": "code",
   "execution_count": 12,
   "metadata": {
    "collapsed": true
   },
   "outputs": [],
   "source": [
    "def simbolo_s(package):\n",
    "    if p.dst == 'ff:ff:ff:ff:ff:ff':\n",
    "        return BROADCAST\n",
    "    else:\n",
    "        return UNICAST"
   ]
  },
  {
   "cell_type": "code",
   "execution_count": 13,
   "metadata": {
    "collapsed": false
   },
   "outputs": [],
   "source": [
    "def entropia_fuente(fuente):\n",
    "    counts = fuente.value_counts()\n",
    "    return entropy(base=2,pk=counts.as_matrix())"
   ]
  },
  {
   "cell_type": "code",
   "execution_count": 14,
   "metadata": {
    "collapsed": true
   },
   "outputs": [],
   "source": [
    "def informacion_simbolos(fuente):\n",
    "    counts = fuente.value_counts()\n",
    "    total = counts.sum()\n",
    "    probs = counts / float(total)\n",
    "    return pd.Series(- np.log2(probs), index=counts.index)"
   ]
  },
  {
   "cell_type": "code",
   "execution_count": 15,
   "metadata": {
    "collapsed": false
   },
   "outputs": [
    {
     "name": "stdout",
     "output_type": "stream",
     "text": [
      "Entropia fuente S = 0.0988459488982\n",
      "UNICAST      45572\n",
      "BROADCAST      591\n",
      "dtype: int64\n",
      "UNICAST      0.018589\n",
      "BROADCAST    6.287435\n",
      "dtype: float64\n"
     ]
    }
   ],
   "source": [
    "fuente = pd.Series([simbolo_s(p) for p in packages])\n",
    "contadores = fuente.value_counts()\n",
    "print \"Entropia fuente S =\", entropia_fuente(fuente)\n",
    "print contadores\n",
    "print informacion_simbolos(fuente)"
   ]
  },
  {
   "cell_type": "markdown",
   "metadata": {},
   "source": [
    "## Ejercicio 3.2.2"
   ]
  },
  {
   "cell_type": "code",
   "execution_count": 16,
   "metadata": {
    "collapsed": false
   },
   "outputs": [
    {
     "name": "stdout",
     "output_type": "stream",
     "text": [
      "arp packages = 38\n"
     ]
    }
   ],
   "source": [
    "arp_packages = sc.sniff(offline=PCAP_FILE, lfilter=lambda x: x.haslayer(sc.ARP))\n",
    "print \"arp packages =\", len(arp_packages)"
   ]
  },
  {
   "cell_type": "code",
   "execution_count": 17,
   "metadata": {
    "collapsed": false
   },
   "outputs": [
    {
     "name": "stdout",
     "output_type": "stream",
     "text": [
      "who-has packages = 30\n",
      "is-at packages = 8\n"
     ]
    }
   ],
   "source": [
    "#arp_packages = map(lambda p: p[\"ARP\"], arp_packages)\n",
    "who_has_packages = filter(lambda p : p[\"ARP\"].op == ARP_OP_WHO_HAS,arp_packages)\n",
    "is_at_packages = filter(lambda p : p[\"ARP\"].op == ARP_OP_IS_AT, arp_packages)\n",
    "print \"who-has packages =\",  len(who_has_packages)\n",
    "print \"is-at packages =\", len(is_at_packages)"
   ]
  },
  {
   "cell_type": "code",
   "execution_count": 19,
   "metadata": {
    "collapsed": false
   },
   "outputs": [
    {
     "data": {
      "text/plain": [
       "<Ether  dst=c4:85:08:d9:07:e2 src=c0:4a:00:a7:3d:80 type=0x806 |<ARP  hwtype=0x1 ptype=0x800 hwlen=6 plen=4 op=is-at hwsrc=c0:4a:00:a7:3d:80 psrc=192.168.1.1 hwdst=c4:85:08:d9:07:e2 pdst=192.168.1.110 |<Padding  load='\\x00\\x00\\x00\\x00\\x00\\x00\\x00\\x00\\x00\\x00\\x00\\x00\\x00\\x00\\x00\\x00\\x00\\x00' |>>>"
      ]
     },
     "execution_count": 19,
     "metadata": {},
     "output_type": "execute_result"
    }
   ],
   "source": [
    "is_at_packages[0]"
   ]
  },
  {
   "cell_type": "code",
   "execution_count": 20,
   "metadata": {
    "collapsed": false
   },
   "outputs": [
    {
     "data": {
      "text/plain": [
       "<Ether  dst=ff:ff:ff:ff:ff:ff src=00:e0:4d:58:f4:c8 type=0x806 |<ARP  hwtype=0x1 ptype=0x800 hwlen=6 plen=4 op=who-has hwsrc=00:e0:4d:58:f4:c8 psrc=192.168.1.200 hwdst=00:00:00:00:00:00 pdst=192.168.1.92 |<Padding  load='\\x01i\\xe0\\x00\\x00\\x02\\x94\\x04\\x00\\x00\\x17\\x00\\x00\\x00\\xe0\\x00\\x00\\xfb' |>>>"
      ]
     },
     "execution_count": 20,
     "metadata": {},
     "output_type": "execute_result"
    }
   ],
   "source": [
    "who_has_packages[5]"
   ]
  },
  {
   "cell_type": "markdown",
   "metadata": {},
   "source": [
    "## Analisis de simbolos distinguidos utilizando who-has packages"
   ]
  },
  {
   "cell_type": "code",
   "execution_count": 21,
   "metadata": {
    "collapsed": true
   },
   "outputs": [],
   "source": [
    "def simbolo_s2(package):\n",
    "    return package.pdst"
   ]
  },
  {
   "cell_type": "code",
   "execution_count": 22,
   "metadata": {
    "collapsed": false
   },
   "outputs": [
    {
     "name": "stdout",
     "output_type": "stream",
     "text": [
      "192.168.1.93     7\n",
      "192.168.1.1      6\n",
      "192.168.1.110    5\n",
      "192.168.1.92     5\n",
      "192.168.1.222    4\n",
      "192.168.1.101    2\n",
      "192.168.1.112    1\n",
      "dtype: int64\n",
      "Entropia de la fuente = 2.62753924869\n",
      "Informacion simbolos\n",
      "192.168.1.93     2.099536\n",
      "192.168.1.1      2.321928\n",
      "192.168.1.110    2.584963\n",
      "192.168.1.92     2.584963\n",
      "192.168.1.222    2.906891\n",
      "192.168.1.101    3.906891\n",
      "192.168.1.112    4.906891\n",
      "dtype: float64\n"
     ]
    }
   ],
   "source": [
    "fuente_s2 = pd.Series([simbolo_s2(p) for p in who_has_packages])\n",
    "contadores = fuente_s2.value_counts()\n",
    "print contadores\n",
    "print \"Entropia de la fuente =\", entropia_fuente(fuente_s2)\n",
    "print \"Informacion simbolos\"\n",
    "print informacion_simbolos(fuente_s2)"
   ]
  },
  {
   "cell_type": "markdown",
   "metadata": {},
   "source": [
    "## Analisis de simbolos distinguidos utilizando is_at packages"
   ]
  },
  {
   "cell_type": "code",
   "execution_count": 23,
   "metadata": {
    "collapsed": true
   },
   "outputs": [],
   "source": [
    "def simbolo_s3(package):\n",
    "    return package.psrc"
   ]
  },
  {
   "cell_type": "code",
   "execution_count": 24,
   "metadata": {
    "collapsed": false
   },
   "outputs": [
    {
     "name": "stdout",
     "output_type": "stream",
     "text": [
      "192.168.1.110    5\n",
      "192.168.1.1      3\n",
      "dtype: int64\n",
      "Entropia de la fuente = 0.954434002925\n",
      "192.168.1.110    0.678072\n",
      "192.168.1.1      1.415037\n",
      "dtype: float64\n"
     ]
    }
   ],
   "source": [
    "fuente_s3 = pd.Series([simbolo_s3(p) for p in is_at_packages])\n",
    "contadores_s3 = fuente_s3.value_counts()\n",
    "print contadores_s3\n",
    "print \"Entropia de la fuente =\", entropia_fuente(fuente_s3)\n",
    "print informacion_simbolos(fuente_s3)"
   ]
  },
  {
   "cell_type": "code",
   "execution_count": 25,
   "metadata": {
    "collapsed": false
   },
   "outputs": [
    {
     "data": {
      "text/plain": [
       "38"
      ]
     },
     "execution_count": 25,
     "metadata": {},
     "output_type": "execute_result"
    }
   ],
   "source": [
    "len(arp_packages)"
   ]
  },
  {
   "cell_type": "code",
   "execution_count": 16,
   "metadata": {
    "collapsed": true
   },
   "outputs": [],
   "source": [
    "sc.sniff?"
   ]
  },
  {
   "cell_type": "code",
   "execution_count": null,
   "metadata": {
    "collapsed": true
   },
   "outputs": [],
   "source": []
  }
 ],
 "metadata": {
  "kernelspec": {
   "display_name": "Python 2",
   "language": "python",
   "name": "python2"
  },
  "language_info": {
   "codemirror_mode": {
    "name": "ipython",
    "version": 2
   },
   "file_extension": ".py",
   "mimetype": "text/x-python",
   "name": "python",
   "nbconvert_exporter": "python",
   "pygments_lexer": "ipython2",
   "version": "2.7.6"
  }
 },
 "nbformat": 4,
 "nbformat_minor": 1
}
